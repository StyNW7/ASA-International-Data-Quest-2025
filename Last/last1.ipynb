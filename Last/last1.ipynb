{
 "cells": [
  {
   "cell_type": "code",
   "execution_count": 1,
   "id": "93b76bad",
   "metadata": {},
   "outputs": [
    {
     "name": "stderr",
     "output_type": "stream",
     "text": [
      "<>:75: SyntaxWarning: invalid escape sequence '\\d'\n",
      "<>:75: SyntaxWarning: invalid escape sequence '\\d'\n",
      "C:\\Users\\ASUS\\AppData\\Local\\Temp\\ipykernel_12224\\1139800717.py:75: SyntaxWarning: invalid escape sequence '\\d'\n",
      "  hdi_long['Year'] = hdi_long['Year'].str.extract('(\\d+)').astype(int)\n"
     ]
    },
    {
     "name": "stdout",
     "output_type": "stream",
     "text": [
      "Libraries imported successfully!\n",
      "Main dataset loaded: (193, 16)\n",
      "HDI time series data loaded: (192, 9)\n",
      "Suicide rate data loaded: 2019((182, 5)), 2020((203, 5)), 2021((203, 5))\n",
      "Final panel dataset created: (1179, 21)\n",
      "\n",
      "==================================================\n",
      "EXPLORATORY DATA ANALYSIS\n",
      "==================================================\n",
      "\n",
      "1. DATASET OVERVIEW:\n",
      "   - Total observations: 1179\n",
      "   - Total countries: 204\n",
      "   - Years covered: [np.int64(2010), np.int64(2019), np.int64(2020), np.int64(2021), np.int64(2022), np.int64(2023)]\n",
      "   - Columns: ['ISO3', 'Country Name', 'HDI_Tier', 'Year', 'HDI', 'Suicide_Rate', 'Suicide_Rate_Male', 'Suicide_Rate_Female', 'GDP_per_capita', 'income_group_auto', 'continent', 'HDI_Tier_Calculated', 'HDI_sq', 'log_GDP_per_capita', 'Gender_Disparity_Ratio', 'HDI_change_1yr', 'HDI_change_pct_1yr', 'Suicide_Rate_change_1yr', 'Suicide_Rate_change_pct_1yr', 'Development_Paradox', 'HDI_GDP_Ratio']\n",
      "\n",
      "2. MISSING VALUES ANALYSIS:\n",
      "                             Missing Count   Missing %\n",
      "HDI_GDP_Ratio                         1179  100.000000\n",
      "log_GDP_per_capita                    1179  100.000000\n",
      "continent                             1179  100.000000\n",
      "income_group_auto                     1179  100.000000\n",
      "GDP_per_capita                        1179  100.000000\n",
      "Suicide_Rate_change_1yr                796   67.514843\n",
      "Gender_Disparity_Ratio                 592   50.212044\n",
      "Suicide_Rate_Male                      592   50.212044\n",
      "Suicide_Rate                           591   50.127226\n",
      "Suicide_Rate_Female                    591   50.127226\n",
      "Suicide_Rate_change_pct_1yr            418   35.453774\n",
      "HDI_change_pct_1yr                     229   19.423240\n",
      "HDI_change_1yr                         229   19.423240\n",
      "HDI                                     32    2.714165\n",
      "HDI_sq                                  32    2.714165\n",
      "HDI_Tier                                27    2.290076\n",
      "ISO3                                     6    0.508906\n",
      "\n",
      "3. DESCRIPTIVE STATISTICS:\n",
      "               HDI  Suicide_Rate  GDP_per_capita  Suicide_Rate_Male  \\\n",
      "count  1147.000000    588.000000             0.0         587.000000   \n",
      "mean      0.719885     10.926769             NaN          14.794123   \n",
      "std       0.153592     34.888974             NaN          11.684776   \n",
      "min       0.336000      0.400000             NaN           0.600000   \n",
      "25%       0.601000      4.900000             NaN           7.210000   \n",
      "50%       0.739000      7.875000             NaN          11.870000   \n",
      "75%       0.838500     12.585000             NaN          19.570000   \n",
      "max       0.972000    837.000000             NaN         116.000000   \n",
      "\n",
      "       Suicide_Rate_Female  \n",
      "count           588.000000  \n",
      "mean              4.368367  \n",
      "std               3.414850  \n",
      "min               0.290000  \n",
      "25%               2.160000  \n",
      "50%               3.400000  \n",
      "75%               5.932500  \n",
      "max              31.590000  \n",
      "\n",
      "==================================================\n",
      "CREATING VISUALIZATIONS\n",
      "==================================================\n"
     ]
    },
    {
     "data": {
      "application/vnd.plotly.v1+json": {
       "config": {
        "plotlyServerURL": "https://plot.ly"
       },
       "data": [
        {
         "alignmentgroup": "True",
         "hovertemplate": "Year=%{x}<br>HDI=%{y}<extra></extra>",
         "legendgroup": "2010",
         "marker": {
          "color": "#636efa"
         },
         "name": "2010",
         "notched": false,
         "offsetgroup": "2010",
         "orientation": "v",
         "showlegend": true,
         "type": "box",
         "x": {
          "bdata": "2gfaB9oH2gfaB9oH2gfaB9oH2gfaB9oH2gfaB9oH2gfaB9oH2gfaB9oH2gfaB9oH2gfaB9oH2gfaB9oH2gfaB9oH2gfaB9oH2gfaB9oH2gfaB9oH2gfaB9oH2gfaB9oH2gfaB9oH2gfaB9oH2gfaB9oH2gfaB9oH2gfaB9oH2gfaB9oH2gfaB9oH2gfaB9oH2gfaB9oH2gfaB9oH2gfaB9oH2gfaB9oH2gfaB9oH2gfaB9oH2gfaB9oH2gfaB9oH2gfaB9oH2gfaB9oH2gfaB9oH2gfaB9oH2gfaB9oH2gfaB9oH2gfaB9oH2gfaB9oH2gfaB9oH2gfaB9oH2gfaB9oH2gfaB9oH2gfaB9oH2gfaB9oH2gfaB9oH2gfaB9oH2gfaB9oH2gfaB9oH2gfaB9oH2gfaB9oH2gfaB9oH2gfaB9oH2gfaB9oH2gfaB9oH2gfaB9oH2gfaB9oH2gfaB9oH2gfaB9oH2gfaB9oH2gfaB9oH2gfaB9oH2gfaB9oH",
          "dtype": "i2"
         },
         "x0": " ",
         "xaxis": "x",
         "y": {
          "bdata": "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",
          "dtype": "f8"
         },
         "y0": " ",
         "yaxis": "y"
        },
        {
         "alignmentgroup": "True",
         "hovertemplate": "Year=%{x}<br>HDI=%{y}<extra></extra>",
         "legendgroup": "2019",
         "marker": {
          "color": "#EF553B"
         },
         "name": "2019",
         "notched": false,
         "offsetgroup": "2019",
         "orientation": "v",
         "showlegend": true,
         "type": "box",
         "x": {
          "bdata": "4wfjB+MH4wfjB+MH4wfjB+MH4wfjB+MH4wfjB+MH4wfjB+MH4wfjB+MH4wfjB+MH4wfjB+MH4wfjB+MH4wfjB+MH4wfjB+MH4wfjB+MH4wfjB+MH4wfjB+MH4wfjB+MH4wfjB+MH4wfjB+MH4wfjB+MH4wfjB+MH4wfjB+MH4wfjB+MH4wfjB+MH4wfjB+MH4wfjB+MH4wfjB+MH4wfjB+MH4wfjB+MH4wfjB+MH4wfjB+MH4wfjB+MH4wfjB+MH4wfjB+MH4wfjB+MH4wfjB+MH4wfjB+MH4wfjB+MH4wfjB+MH4wfjB+MH4wfjB+MH4wfjB+MH4wfjB+MH4wfjB+MH4wfjB+MH4wfjB+MH4wfjB+MH4wfjB+MH4wfjB+MH4wfjB+MH4wfjB+MH4wfjB+MH4wfjB+MH4wfjB+MH4wfjB+MH4wfjB+MH4wfjB+MH4wfjB+MH4wfjB+MH4wfjB+MH4wfjB+MH4wfjB+MH4wfjB+MH4wfjB+MH4wfjB+MH4wc=",
          "dtype": "i2"
         },
         "x0": " ",
         "xaxis": "x",
         "y": {
          "bdata": "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",
          "dtype": "f8"
         },
         "y0": " ",
         "yaxis": "y"
        },
        {
         "alignmentgroup": "True",
         "hovertemplate": "Year=%{x}<br>HDI=%{y}<extra></extra>",
         "legendgroup": "2020",
         "marker": {
          "color": "#00cc96"
         },
         "name": "2020",
         "notched": false,
         "offsetgroup": "2020",
         "orientation": "v",
         "showlegend": true,
         "type": "box",
         "x": {
          "bdata": "5AfkB+QH5AfkB+QH5AfkB+QH5AfkB+QH5AfkB+QH5AfkB+QH5AfkB+QH5AfkB+QH5AfkB+QH5AfkB+QH5AfkB+QH5AfkB+QH5AfkB+QH5AfkB+QH5AfkB+QH5AfkB+QH5AfkB+QH5AfkB+QH5AfkB+QH5AfkB+QH5AfkB+QH5AfkB+QH5AfkB+QH5AfkB+QH5AfkB+QH5AfkB+QH5AfkB+QH5AfkB+QH5AfkB+QH5AfkB+QH5AfkB+QH5AfkB+QH5AfkB+QH5AfkB+QH5AfkB+QH5AfkB+QH5AfkB+QH5AfkB+QH5AfkB+QH5AfkB+QH5AfkB+QH5AfkB+QH5AfkB+QH5AfkB+QH5AfkB+QH5AfkB+QH5AfkB+QH5AfkB+QH5AfkB+QH5AfkB+QH5AfkB+QH5AfkB+QH5AfkB+QH5AfkB+QH5AfkB+QH5AfkB+QH5AfkB+QH5AfkB+QH5AfkB+QH5AfkB+QH5AfkB+QH5AfkB+QH5AfkB+QH5AfkB+QH5AfkB+QH5AfkB+QH5AfkB+QH5AfkB+QH5Ac=",
          "dtype": "i2"
         },
         "x0": " ",
         "xaxis": "x",
         "y": {
          "bdata": "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",
          "dtype": "f8"
         },
         "y0": " ",
         "yaxis": "y"
        },
        {
         "alignmentgroup": "True",
         "hovertemplate": "Year=%{x}<br>HDI=%{y}<extra></extra>",
         "legendgroup": "2021",
         "marker": {
          "color": "#ab63fa"
         },
         "name": "2021",
         "notched": false,
         "offsetgroup": "2021",
         "orientation": "v",
         "showlegend": true,
         "type": "box",
         "x": {
          "bdata": "5QflB+UH5QflB+UH5QflB+UH5QflB+UH5QflB+UH5QflB+UH5QflB+UH5QflB+UH5QflB+UH5QflB+UH5QflB+UH5QflB+UH5QflB+UH5QflB+UH5QflB+UH5QflB+UH5QflB+UH5QflB+UH5QflB+UH5QflB+UH5QflB+UH5QflB+UH5QflB+UH5QflB+UH5QflB+UH5QflB+UH5QflB+UH5QflB+UH5QflB+UH5QflB+UH5QflB+UH5QflB+UH5QflB+UH5QflB+UH5QflB+UH5QflB+UH5QflB+UH5QflB+UH5QflB+UH5QflB+UH5QflB+UH5QflB+UH5QflB+UH5QflB+UH5QflB+UH5QflB+UH5QflB+UH5QflB+UH5QflB+UH5QflB+UH5QflB+UH5QflB+UH5QflB+UH5QflB+UH5QflB+UH5QflB+UH5QflB+UH5QflB+UH5QflB+UH5QflB+UH5QflB+UH5QflB+UH5QflB+UH5QflB+UH5QflB+UH5QflB+UH5QflB+UH5QflB+UH5Qc=",
          "dtype": "i2"
         },
         "x0": " ",
         "xaxis": "x",
         "y": {
          "bdata": "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",
          "dtype": "f8"
         },
         "y0": " ",
         "yaxis": "y"
        },
        {
         "alignmentgroup": "True",
         "hovertemplate": "Year=%{x}<br>HDI=%{y}<extra></extra>",
         "legendgroup": "2022",
         "marker": {
          "color": "#FFA15A"
         },
         "name": "2022",
         "notched": false,
         "offsetgroup": "2022",
         "orientation": "v",
         "showlegend": true,
         "type": "box",
         "x": {
          "bdata": "5gfmB+YH5gfmB+YH5gfmB+YH5gfmB+YH5gfmB+YH5gfmB+YH5gfmB+YH5gfmB+YH5gfmB+YH5gfmB+YH5gfmB+YH5gfmB+YH5gfmB+YH5gfmB+YH5gfmB+YH5gfmB+YH5gfmB+YH5gfmB+YH5gfmB+YH5gfmB+YH5gfmB+YH5gfmB+YH5gfmB+YH5gfmB+YH5gfmB+YH5gfmB+YH5gfmB+YH5gfmB+YH5gfmB+YH5gfmB+YH5gfmB+YH5gfmB+YH5gfmB+YH5gfmB+YH5gfmB+YH5gfmB+YH5gfmB+YH5gfmB+YH5gfmB+YH5gfmB+YH5gfmB+YH5gfmB+YH5gfmB+YH5gfmB+YH5gfmB+YH5gfmB+YH5gfmB+YH5gfmB+YH5gfmB+YH5gfmB+YH5gfmB+YH5gfmB+YH5gfmB+YH5gfmB+YH5gfmB+YH5gfmB+YH5gfmB+YH5gfmB+YH5gfmB+YH5gfmB+YH5gfmB+YH5gfmB+YH5gfmB+YH5gfmB+YH",
          "dtype": "i2"
         },
         "x0": " ",
         "xaxis": "x",
         "y": {
          "bdata": "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",
          "dtype": "f8"
         },
         "y0": " ",
         "yaxis": "y"
        },
        {
         "alignmentgroup": "True",
         "hovertemplate": "Year=%{x}<br>HDI=%{y}<extra></extra>",
         "legendgroup": "2023",
         "marker": {
          "color": "#19d3f3"
         },
         "name": "2023",
         "notched": false,
         "offsetgroup": "2023",
         "orientation": "v",
         "showlegend": true,
         "type": "box",
         "x": {
          "bdata": "5wfnB+cH5wfnB+cH5wfnB+cH5wfnB+cH5wfnB+cH5wfnB+cH5wfnB+cH5wfnB+cH5wfnB+cH5wfnB+cH5wfnB+cH5wfnB+cH5wfnB+cH5wfnB+cH5wfnB+cH5wfnB+cH5wfnB+cH5wfnB+cH5wfnB+cH5wfnB+cH5wfnB+cH5wfnB+cH5wfnB+cH5wfnB+cH5wfnB+cH5wfnB+cH5wfnB+cH5wfnB+cH5wfnB+cH5wfnB+cH5wfnB+cH5wfnB+cH5wfnB+cH5wfnB+cH5wfnB+cH5wfnB+cH5wfnB+cH5wfnB+cH5wfnB+cH5wfnB+cH5wfnB+cH5wfnB+cH5wfnB+cH5wfnB+cH5wfnB+cH5wfnB+cH5wfnB+cH5wfnB+cH5wfnB+cH5wfnB+cH5wfnB+cH5wfnB+cH5wfnB+cH5wfnB+cH5wfnB+cH5wfnB+cH5wfnB+cH5wfnB+cH5wfnB+cH5wfnB+cH5wfnB+cH5wfnB+cH5wfnB+cH5wfnB+cH",
          "dtype": "i2"
         },
         "x0": " ",
         "xaxis": "x",
         "y": {
          "bdata": "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",
          "dtype": "f8"
         },
         "y0": " ",
         "yaxis": "y"
        }
       ],
       "layout": {
        "boxmode": "overlay",
        "legend": {
         "title": {
          "text": "Year"
         },
         "tracegroupgap": 0
        },
        "template": {
         "data": {
          "bar": [
           {
            "error_x": {
             "color": "#2a3f5f"
            },
            "error_y": {
             "color": "#2a3f5f"
            },
            "marker": {
             "line": {
              "color": "#E5ECF6",
              "width": 0.5
             },
             "pattern": {
              "fillmode": "overlay",
              "size": 10,
              "solidity": 0.2
             }
            },
            "type": "bar"
           }
          ],
          "barpolar": [
           {
            "marker": {
             "line": {
              "color": "#E5ECF6",
              "width": 0.5
             },
             "pattern": {
              "fillmode": "overlay",
              "size": 10,
              "solidity": 0.2
             }
            },
            "type": "barpolar"
           }
          ],
          "carpet": [
           {
            "aaxis": {
             "endlinecolor": "#2a3f5f",
             "gridcolor": "white",
             "linecolor": "white",
             "minorgridcolor": "white",
             "startlinecolor": "#2a3f5f"
            },
            "baxis": {
             "endlinecolor": "#2a3f5f",
             "gridcolor": "white",
             "linecolor": "white",
             "minorgridcolor": "white",
             "startlinecolor": "#2a3f5f"
            },
            "type": "carpet"
           }
          ],
          "choropleth": [
           {
            "colorbar": {
             "outlinewidth": 0,
             "ticks": ""
            },
            "type": "choropleth"
           }
          ],
          "contour": [
           {
            "colorbar": {
             "outlinewidth": 0,
             "ticks": ""
            },
            "colorscale": [
             [
              0,
              "#0d0887"
             ],
             [
              0.1111111111111111,
              "#46039f"
             ],
             [
              0.2222222222222222,
              "#7201a8"
             ],
             [
              0.3333333333333333,
              "#9c179e"
             ],
             [
              0.4444444444444444,
              "#bd3786"
             ],
             [
              0.5555555555555556,
              "#d8576b"
             ],
             [
              0.6666666666666666,
              "#ed7953"
             ],
             [
              0.7777777777777778,
              "#fb9f3a"
             ],
             [
              0.8888888888888888,
              "#fdca26"
             ],
             [
              1,
              "#f0f921"
             ]
            ],
            "type": "contour"
           }
          ],
          "contourcarpet": [
           {
            "colorbar": {
             "outlinewidth": 0,
             "ticks": ""
            },
            "type": "contourcarpet"
           }
          ],
          "heatmap": [
           {
            "colorbar": {
             "outlinewidth": 0,
             "ticks": ""
            },
            "colorscale": [
             [
              0,
              "#0d0887"
             ],
             [
              0.1111111111111111,
              "#46039f"
             ],
             [
              0.2222222222222222,
              "#7201a8"
             ],
             [
              0.3333333333333333,
              "#9c179e"
             ],
             [
              0.4444444444444444,
              "#bd3786"
             ],
             [
              0.5555555555555556,
              "#d8576b"
             ],
             [
              0.6666666666666666,
              "#ed7953"
             ],
             [
              0.7777777777777778,
              "#fb9f3a"
             ],
             [
              0.8888888888888888,
              "#fdca26"
             ],
             [
              1,
              "#f0f921"
             ]
            ],
            "type": "heatmap"
           }
          ],
          "histogram": [
           {
            "marker": {
             "pattern": {
              "fillmode": "overlay",
              "size": 10,
              "solidity": 0.2
             }
            },
            "type": "histogram"
           }
          ],
          "histogram2d": [
           {
            "colorbar": {
             "outlinewidth": 0,
             "ticks": ""
            },
            "colorscale": [
             [
              0,
              "#0d0887"
             ],
             [
              0.1111111111111111,
              "#46039f"
             ],
             [
              0.2222222222222222,
              "#7201a8"
             ],
             [
              0.3333333333333333,
              "#9c179e"
             ],
             [
              0.4444444444444444,
              "#bd3786"
             ],
             [
              0.5555555555555556,
              "#d8576b"
             ],
             [
              0.6666666666666666,
              "#ed7953"
             ],
             [
              0.7777777777777778,
              "#fb9f3a"
             ],
             [
              0.8888888888888888,
              "#fdca26"
             ],
             [
              1,
              "#f0f921"
             ]
            ],
            "type": "histogram2d"
           }
          ],
          "histogram2dcontour": [
           {
            "colorbar": {
             "outlinewidth": 0,
             "ticks": ""
            },
            "colorscale": [
             [
              0,
              "#0d0887"
             ],
             [
              0.1111111111111111,
              "#46039f"
             ],
             [
              0.2222222222222222,
              "#7201a8"
             ],
             [
              0.3333333333333333,
              "#9c179e"
             ],
             [
              0.4444444444444444,
              "#bd3786"
             ],
             [
              0.5555555555555556,
              "#d8576b"
             ],
             [
              0.6666666666666666,
              "#ed7953"
             ],
             [
              0.7777777777777778,
              "#fb9f3a"
             ],
             [
              0.8888888888888888,
              "#fdca26"
             ],
             [
              1,
              "#f0f921"
             ]
            ],
            "type": "histogram2dcontour"
           }
          ],
          "mesh3d": [
           {
            "colorbar": {
             "outlinewidth": 0,
             "ticks": ""
            },
            "type": "mesh3d"
           }
          ],
          "parcoords": [
           {
            "line": {
             "colorbar": {
              "outlinewidth": 0,
              "ticks": ""
             }
            },
            "type": "parcoords"
           }
          ],
          "pie": [
           {
            "automargin": true,
            "type": "pie"
           }
          ],
          "scatter": [
           {
            "fillpattern": {
             "fillmode": "overlay",
             "size": 10,
             "solidity": 0.2
            },
            "type": "scatter"
           }
          ],
          "scatter3d": [
           {
            "line": {
             "colorbar": {
              "outlinewidth": 0,
              "ticks": ""
             }
            },
            "marker": {
             "colorbar": {
              "outlinewidth": 0,
              "ticks": ""
             }
            },
            "type": "scatter3d"
           }
          ],
          "scattercarpet": [
           {
            "marker": {
             "colorbar": {
              "outlinewidth": 0,
              "ticks": ""
             }
            },
            "type": "scattercarpet"
           }
          ],
          "scattergeo": [
           {
            "marker": {
             "colorbar": {
              "outlinewidth": 0,
              "ticks": ""
             }
            },
            "type": "scattergeo"
           }
          ],
          "scattergl": [
           {
            "marker": {
             "colorbar": {
              "outlinewidth": 0,
              "ticks": ""
             }
            },
            "type": "scattergl"
           }
          ],
          "scattermap": [
           {
            "marker": {
             "colorbar": {
              "outlinewidth": 0,
              "ticks": ""
             }
            },
            "type": "scattermap"
           }
          ],
          "scattermapbox": [
           {
            "marker": {
             "colorbar": {
              "outlinewidth": 0,
              "ticks": ""
             }
            },
            "type": "scattermapbox"
           }
          ],
          "scatterpolar": [
           {
            "marker": {
             "colorbar": {
              "outlinewidth": 0,
              "ticks": ""
             }
            },
            "type": "scatterpolar"
           }
          ],
          "scatterpolargl": [
           {
            "marker": {
             "colorbar": {
              "outlinewidth": 0,
              "ticks": ""
             }
            },
            "type": "scatterpolargl"
           }
          ],
          "scatterternary": [
           {
            "marker": {
             "colorbar": {
              "outlinewidth": 0,
              "ticks": ""
             }
            },
            "type": "scatterternary"
           }
          ],
          "surface": [
           {
            "colorbar": {
             "outlinewidth": 0,
             "ticks": ""
            },
            "colorscale": [
             [
              0,
              "#0d0887"
             ],
             [
              0.1111111111111111,
              "#46039f"
             ],
             [
              0.2222222222222222,
              "#7201a8"
             ],
             [
              0.3333333333333333,
              "#9c179e"
             ],
             [
              0.4444444444444444,
              "#bd3786"
             ],
             [
              0.5555555555555556,
              "#d8576b"
             ],
             [
              0.6666666666666666,
              "#ed7953"
             ],
             [
              0.7777777777777778,
              "#fb9f3a"
             ],
             [
              0.8888888888888888,
              "#fdca26"
             ],
             [
              1,
              "#f0f921"
             ]
            ],
            "type": "surface"
           }
          ],
          "table": [
           {
            "cells": {
             "fill": {
              "color": "#EBF0F8"
             },
             "line": {
              "color": "white"
             }
            },
            "header": {
             "fill": {
              "color": "#C8D4E3"
             },
             "line": {
              "color": "white"
             }
            },
            "type": "table"
           }
          ]
         },
         "layout": {
          "annotationdefaults": {
           "arrowcolor": "#2a3f5f",
           "arrowhead": 0,
           "arrowwidth": 1
          },
          "autotypenumbers": "strict",
          "coloraxis": {
           "colorbar": {
            "outlinewidth": 0,
            "ticks": ""
           }
          },
          "colorscale": {
           "diverging": [
            [
             0,
             "#8e0152"
            ],
            [
             0.1,
             "#c51b7d"
            ],
            [
             0.2,
             "#de77ae"
            ],
            [
             0.3,
             "#f1b6da"
            ],
            [
             0.4,
             "#fde0ef"
            ],
            [
             0.5,
             "#f7f7f7"
            ],
            [
             0.6,
             "#e6f5d0"
            ],
            [
             0.7,
             "#b8e186"
            ],
            [
             0.8,
             "#7fbc41"
            ],
            [
             0.9,
             "#4d9221"
            ],
            [
             1,
             "#276419"
            ]
           ],
           "sequential": [
            [
             0,
             "#0d0887"
            ],
            [
             0.1111111111111111,
             "#46039f"
            ],
            [
             0.2222222222222222,
             "#7201a8"
            ],
            [
             0.3333333333333333,
             "#9c179e"
            ],
            [
             0.4444444444444444,
             "#bd3786"
            ],
            [
             0.5555555555555556,
             "#d8576b"
            ],
            [
             0.6666666666666666,
             "#ed7953"
            ],
            [
             0.7777777777777778,
             "#fb9f3a"
            ],
            [
             0.8888888888888888,
             "#fdca26"
            ],
            [
             1,
             "#f0f921"
            ]
           ],
           "sequentialminus": [
            [
             0,
             "#0d0887"
            ],
            [
             0.1111111111111111,
             "#46039f"
            ],
            [
             0.2222222222222222,
             "#7201a8"
            ],
            [
             0.3333333333333333,
             "#9c179e"
            ],
            [
             0.4444444444444444,
             "#bd3786"
            ],
            [
             0.5555555555555556,
             "#d8576b"
            ],
            [
             0.6666666666666666,
             "#ed7953"
            ],
            [
             0.7777777777777778,
             "#fb9f3a"
            ],
            [
             0.8888888888888888,
             "#fdca26"
            ],
            [
             1,
             "#f0f921"
            ]
           ]
          },
          "colorway": [
           "#636efa",
           "#EF553B",
           "#00cc96",
           "#ab63fa",
           "#FFA15A",
           "#19d3f3",
           "#FF6692",
           "#B6E880",
           "#FF97FF",
           "#FECB52"
          ],
          "font": {
           "color": "#2a3f5f"
          },
          "geo": {
           "bgcolor": "white",
           "lakecolor": "white",
           "landcolor": "#E5ECF6",
           "showlakes": true,
           "showland": true,
           "subunitcolor": "white"
          },
          "hoverlabel": {
           "align": "left"
          },
          "hovermode": "closest",
          "mapbox": {
           "style": "light"
          },
          "paper_bgcolor": "white",
          "plot_bgcolor": "#E5ECF6",
          "polar": {
           "angularaxis": {
            "gridcolor": "white",
            "linecolor": "white",
            "ticks": ""
           },
           "bgcolor": "#E5ECF6",
           "radialaxis": {
            "gridcolor": "white",
            "linecolor": "white",
            "ticks": ""
           }
          },
          "scene": {
           "xaxis": {
            "backgroundcolor": "#E5ECF6",
            "gridcolor": "white",
            "gridwidth": 2,
            "linecolor": "white",
            "showbackground": true,
            "ticks": "",
            "zerolinecolor": "white"
           },
           "yaxis": {
            "backgroundcolor": "#E5ECF6",
            "gridcolor": "white",
            "gridwidth": 2,
            "linecolor": "white",
            "showbackground": true,
            "ticks": "",
            "zerolinecolor": "white"
           },
           "zaxis": {
            "backgroundcolor": "#E5ECF6",
            "gridcolor": "white",
            "gridwidth": 2,
            "linecolor": "white",
            "showbackground": true,
            "ticks": "",
            "zerolinecolor": "white"
           }
          },
          "shapedefaults": {
           "line": {
            "color": "#2a3f5f"
           }
          },
          "ternary": {
           "aaxis": {
            "gridcolor": "white",
            "linecolor": "white",
            "ticks": ""
           },
           "baxis": {
            "gridcolor": "white",
            "linecolor": "white",
            "ticks": ""
           },
           "bgcolor": "#E5ECF6",
           "caxis": {
            "gridcolor": "white",
            "linecolor": "white",
            "ticks": ""
           }
          },
          "title": {
           "x": 0.05
          },
          "xaxis": {
           "automargin": true,
           "gridcolor": "white",
           "linecolor": "white",
           "ticks": "",
           "title": {
            "standoff": 15
           },
           "zerolinecolor": "white",
           "zerolinewidth": 2
          },
          "yaxis": {
           "automargin": true,
           "gridcolor": "white",
           "linecolor": "white",
           "ticks": "",
           "title": {
            "standoff": 15
           },
           "zerolinecolor": "white",
           "zerolinewidth": 2
          }
         }
        },
        "title": {
         "text": "HDI Distribution Evolution (2019-2023)"
        },
        "xaxis": {
         "anchor": "y",
         "categoryarray": [
          2010,
          2019,
          2020,
          2021,
          2022,
          2023
         ],
         "categoryorder": "array",
         "domain": [
          0,
          1
         ],
         "title": {
          "text": "Year"
         }
        },
        "yaxis": {
         "anchor": "x",
         "domain": [
          0,
          1
         ],
         "title": {
          "text": "HDI"
         }
        }
       }
      }
     },
     "metadata": {},
     "output_type": "display_data"
    },
    {
     "data": {
      "application/vnd.plotly.v1+json": {
       "config": {
        "plotlyServerURL": "https://plot.ly"
       },
       "data": [
        {
         "alignmentgroup": "True",
         "hovertemplate": "Year=%{x}<br>Suicide_Rate=%{y}<extra></extra>",
         "legendgroup": "2010",
         "marker": {
          "color": "#636efa"
         },
         "name": "2010",
         "notched": false,
         "offsetgroup": "2010",
         "orientation": "v",
         "showlegend": true,
         "type": "box",
         "x": {
          "bdata": "2gfaB9oH2gfaB9oH2gfaB9oH2gfaB9oH2gfaB9oH2gfaB9oH2gfaB9oH2gfaB9oH2gfaB9oH2gfaB9oH2gfaB9oH2gfaB9oH2gfaB9oH2gfaB9oH2gfaB9oH2gfaB9oH2gfaB9oH2gfaB9oH2gfaB9oH2gfaB9oH2gfaB9oH2gfaB9oH2gfaB9oH2gfaB9oH2gfaB9oH2gfaB9oH2gfaB9oH2gfaB9oH2gfaB9oH2gfaB9oH2gfaB9oH2gfaB9oH2gfaB9oH2gfaB9oH2gfaB9oH2gfaB9oH2gfaB9oH2gfaB9oH2gfaB9oH2gfaB9oH2gfaB9oH2gfaB9oH2gfaB9oH2gfaB9oH2gfaB9oH2gfaB9oH2gfaB9oH2gfaB9oH2gfaB9oH2gfaB9oH2gfaB9oH2gfaB9oH2gfaB9oH2gfaB9oH2gfaB9oH2gfaB9oH2gfaB9oH2gfaB9oH2gfaB9oH2gfaB9oH2gfaB9oH2gfaB9oH2gfaB9oH2gfaB9oH",
          "dtype": "i2"
         },
         "x0": " ",
         "xaxis": "x",
         "y": {
          "bdata": "AAAAAAAA+H8AAAAAAAD4fwAAAAAAAPh/AAAAAAAA+H8AAAAAAAD4fwAAAAAAAPh/AAAAAAAA+H8AAAAAAAD4fwAAAAAAAPh/AAAAAAAA+H8AAAAAAAD4fwAAAAAAAPh/AAAAAAAA+H8AAAAAAAD4fwAAAAAAAPh/AAAAAAAA+H8AAAAAAAD4fwAAAAAAAPh/AAAAAAAA+H8AAAAAAAD4fwAAAAAAAPh/AAAAAAAA+H8AAAAAAAD4fwAAAAAAAPh/AAAAAAAA+H8AAAAAAAD4fwAAAAAAAPh/AAAAAAAA+H8AAAAAAAD4fwAAAAAAAPh/AAAAAAAA+H8AAAAAAAD4fwAAAAAAAPh/AAAAAAAA+H8AAAAAAAD4fwAAAAAAAPh/AAAAAAAA+H8AAAAAAAD4fwAAAAAAAPh/AAAAAAAA+H8AAAAAAAD4fwAAAAAAAPh/AAAAAAAA+H8AAAAAAAD4fwAAAAAAAPh/AAAAAAAA+H8AAAAAAAD4fwAAAAAAAPh/AAAAAAAA+H8AAAAAAAD4fwAAAAAAAPh/AAAAAAAA+H8AAAAAAAD4fwAAAAAAAPh/AAAAAAAA+H8AAAAAAAD4fwAAAAAAAPh/AAAAAAAA+H8AAAAAAAD4fwAAAAAAAPh/AAAAAAAA+H8AAAAAAAD4fwAAAAAAAPh/AAAAAAAA+H8AAAAAAAD4fwAAAAAAAPh/AAAAAAAA+H8AAAAAAAD4fwAAAAAAAPh/AAAAAAAA+H8AAAAAAAD4fwAAAAAAAPh/AAAAAAAA+H8AAAAAAAD4fwAAAAAAAPh/AAAAAAAA+H8AAAAAAAD4fwAAAAAAAPh/AAAAAAAA+H8AAAAAAAD4fwAAAAAAAPh/AAAAAAAA+H8AAAAAAAD4fwAAAAAAAPh/AAAAAAAA+H8AAAAAAAD4fwAAAAAAAPh/AAAAAAAA+H8AAAAAAAD4fwAAAAAAAPh/AAAAAAAA+H8AAAAAAAD4fwAAAAAAAPh/AAAAAAAA+H8AAAAAAAD4fwAAAAAAAPh/AAAAAAAA+H8AAAAAAAD4fwAAAAAAAPh/AAAAAAAA+H8AAAAAAAD4fwAAAAAAAPh/AAAAAAAA+H8AAAAAAAD4fwAAAAAAAPh/AAAAAAAA+H8AAAAAAAD4fwAAAAAAAPh/AAAAAAAA+H8AAAAAAAD4fwAAAAAAAPh/AAAAAAAA+H8AAAAAAAD4fwAAAAAAAPh/AAAAAAAA+H8AAAAAAAD4fwAAAAAAAPh/AAAAAAAA+H8AAAAAAAD4fwAAAAAAAPh/AAAAAAAA+H8AAAAAAAD4fwAAAAAAAPh/AAAAAAAA+H8AAAAAAAD4fwAAAAAAAPh/AAAAAAAA+H8AAAAAAAD4fwAAAAAAAPh/AAAAAAAA+H8AAAAAAAD4fwAAAAAAAPh/AAAAAAAA+H8AAAAAAAD4fwAAAAAAAPh/AAAAAAAA+H8AAAAAAAD4fwAAAAAAAPh/AAAAAAAA+H8AAAAAAAD4fwAAAAAAAPh/AAAAAAAA+H8AAAAAAAD4fwAAAAAAAPh/AAAAAAAA+H8AAAAAAAD4fwAAAAAAAPh/AAAAAAAA+H8AAAAAAAD4fwAAAAAAAPh/AAAAAAAA+H8AAAAAAAD4fwAAAAAAAPh/AAAAAAAA+H8AAAAAAAD4fwAAAAAAAPh/AAAAAAAA+H8AAAAAAAD4fwAAAAAAAPh/AAAAAAAA+H8AAAAAAAD4fwAAAAAAAPh/AAAAAAAA+H8AAAAAAAD4fwAAAAAAAPh/AAAAAAAA+H8AAAAAAAD4fwAAAAAAAPh/AAAAAAAA+H8AAAAAAAD4fwAAAAAAAPh/AAAAAAAA+H8AAAAAAAD4fwAAAAAAAPh/AAAAAAAA+H8AAAAAAAD4fwAAAAAAAPh/AAAAAAAA+H8AAAAAAAD4fwAAAAAAAPh/AAAAAAAA+H8AAAAAAAD4fwAAAAAAAPh/AAAAAAAA+H8AAAAAAAD4fwAAAAAAAPh/AAAAAAAA+H8AAAAAAAD4fwAAAAAAAPh/AAAAAAAA+H8AAAAAAAD4fwAAAAAAAPh/",
          "dtype": "f8"
         },
         "y0": " ",
         "yaxis": "y"
        },
        {
         "alignmentgroup": "True",
         "hovertemplate": "Year=%{x}<br>Suicide_Rate=%{y}<extra></extra>",
         "legendgroup": "2019",
         "marker": {
          "color": "#EF553B"
         },
         "name": "2019",
         "notched": false,
         "offsetgroup": "2019",
         "orientation": "v",
         "showlegend": true,
         "type": "box",
         "x": {
          "bdata": "4wfjB+MH4wfjB+MH4wfjB+MH4wfjB+MH4wfjB+MH4wfjB+MH4wfjB+MH4wfjB+MH4wfjB+MH4wfjB+MH4wfjB+MH4wfjB+MH4wfjB+MH4wfjB+MH4wfjB+MH4wfjB+MH4wfjB+MH4wfjB+MH4wfjB+MH4wfjB+MH4wfjB+MH4wfjB+MH4wfjB+MH4wfjB+MH4wfjB+MH4wfjB+MH4wfjB+MH4wfjB+MH4wfjB+MH4wfjB+MH4wfjB+MH4wfjB+MH4wfjB+MH4wfjB+MH4wfjB+MH4wfjB+MH4wfjB+MH4wfjB+MH4wfjB+MH4wfjB+MH4wfjB+MH4wfjB+MH4wfjB+MH4wfjB+MH4wfjB+MH4wfjB+MH4wfjB+MH4wfjB+MH4wfjB+MH4wfjB+MH4wfjB+MH4wfjB+MH4wfjB+MH4wfjB+MH4wfjB+MH4wfjB+MH4wfjB+MH4wfjB+MH4wfjB+MH4wfjB+MH4wfjB+MH4wfjB+MH4wfjB+MH4wfjB+MH4wc=",
          "dtype": "i2"
         },
         "x0": " ",
         "xaxis": "x",
         "y": {
          "bdata": "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",
          "dtype": "f8"
         },
         "y0": " ",
         "yaxis": "y"
        },
        {
         "alignmentgroup": "True",
         "hovertemplate": "Year=%{x}<br>Suicide_Rate=%{y}<extra></extra>",
         "legendgroup": "2020",
         "marker": {
          "color": "#00cc96"
         },
         "name": "2020",
         "notched": false,
         "offsetgroup": "2020",
         "orientation": "v",
         "showlegend": true,
         "type": "box",
         "x": {
          "bdata": "5AfkB+QH5AfkB+QH5AfkB+QH5AfkB+QH5AfkB+QH5AfkB+QH5AfkB+QH5AfkB+QH5AfkB+QH5AfkB+QH5AfkB+QH5AfkB+QH5AfkB+QH5AfkB+QH5AfkB+QH5AfkB+QH5AfkB+QH5AfkB+QH5AfkB+QH5AfkB+QH5AfkB+QH5AfkB+QH5AfkB+QH5AfkB+QH5AfkB+QH5AfkB+QH5AfkB+QH5AfkB+QH5AfkB+QH5AfkB+QH5AfkB+QH5AfkB+QH5AfkB+QH5AfkB+QH5AfkB+QH5AfkB+QH5AfkB+QH5AfkB+QH5AfkB+QH5AfkB+QH5AfkB+QH5AfkB+QH5AfkB+QH5AfkB+QH5AfkB+QH5AfkB+QH5AfkB+QH5AfkB+QH5AfkB+QH5AfkB+QH5AfkB+QH5AfkB+QH5AfkB+QH5AfkB+QH5AfkB+QH5AfkB+QH5AfkB+QH5AfkB+QH5AfkB+QH5AfkB+QH5AfkB+QH5AfkB+QH5AfkB+QH5AfkB+QH5AfkB+QH5AfkB+QH5AfkB+QH5AfkB+QH5Ac=",
          "dtype": "i2"
         },
         "x0": " ",
         "xaxis": "x",
         "y": {
          "bdata": "rkfhehSuH0CF61G4HoUFQArXo3A9Cg1A16NwPQrX9z8UrkfhehQQQGZmZmZmZhZAmpmZmZmZG0CF61G4HgUmQOxRuB6F6yBA16NwPQrXLUA9CtejcL0pQNejcD0K1wNACtejcD0KJ0ApXI/C9SgTQJqZmZmZmQ1AXI/C9SjcL0BmZmZmZmYaQGZmZmZm5ipAPQrXo3A9EUCPwvUoXI8cQIXrUbgehRVAw/UoXI/CDUBSuB6F61ERQDMzMzMzMxZAAAAAAAAAH0DhehSuR+EEQPYoXI/C9RZAhetRuB6FI0CkcD0K1yM0QB+F61G4HhRArkfhehSuKUApXI/C9SggQHsUrkfheidAH4XrUbgeI0D2KFyPwvUmQIXrUbgehRxAw/UoXI9CJ0BSuB6F69EkQM3MzMzMzBxAFK5H4XoUIkAUrkfhehQbQPYoXI/C9SFAuB6F61G4L0AK16NwPQouQArXo3A9ChBAKVyPwvUoKUB7FK5H4XoWQOxRuB6FaydAuB6F61G4EECkcD0K16MVQBSuR+F6FAZAzczMzMzMIEApXI/C9SguQFK4HoXrUfA/KVyPwvUoI0AzMzMzMzMeQHsUrkfhehhA4XoUrkdhMECF61G4HgUiQClcj8L1KDRACtejcD2KLECkcD0K16MjQBSuR+F6lCBAmpmZmZmZEkCamZmZmZkhQB+F61G4HhdAZmZmZmYmUEBSuB6F61EWQFyPwvUoXBRAcT0K16NwG0DsUbgehesUQK5H4XoUrhVAFK5H4XpUMkApXI/C9SghQPYoXI/CtT9AAAAAAAAA+H8zMzMzMzMPQHsUrkfheixApHA9CtejHEDD9ShcjwIxQI/C9Shcj/o/AAAAAACAIUBxPQrXo3AVQI/C9ShcjypAw/UoXI/CEUCF61G4HoURQD0K16NwPShA4XoUrkfhGEDsUbgehev1P/YoXI/C9fA/SOF6FK6HMUBcj8L1KFwbQNejcD0KVyJAH4XrUbgeEkBmZmZmZmYxQB+F61G4HhlAZmZmZmZmBkA9CtejcL0lQOF6FK5HoTlAzczMzMzMAEBI4XoUrgcyQB+F61G4HhVAw/UoXI/C7T8pXI/C9SgbQAAAAAAAAPh/uB6F61G4LUApXI/C9SgaQIXrUbgexTRAUrgehesRPEBcj8L1KNwhQD0K16NwvTJASOF6FK5HFkBcj8L1KFwNQAAAAAAAAC9AFK5H4XqULUAfhetRuN4wQAAAAAAAABlAXI/C9SgcNEDXo3A9CtcfQI/C9ShcjxBAexSuR+F6DEDhehSuR+EvQOxRuB6FaypArkfhehSuC0A9CtejcD0UQHE9CtejcCZA9ihcj8L1AEAAAAAAACiKQOxRuB6F6xpAMzMzMzMzEkDhehSuR+EiQLgehetRuAxAMzMzMzMzEUAAAAAAAAAXQArXo3A9iiZAcT0K16NwKEBxPQrXo/ApQClcj8L1qDdAw/UoXI9CL0AK16NwPYomQM3MzMzMzPA/ZmZmZmZmFUDD9Shcj8IHQI/C9ShcjwJAuB6F61G4DECPwvUoXI8XQOxRuB6Fay5AmpmZmZmZHECkcD0K16PoP1K4HoXrUSdAFK5H4XoULkCkcD0K16MXQArXo3A9Cg9AMzMzMzMzJUD2KFyPwnUwQAAAAAAAQDhAZmZmZmZmHUBxPQrXo3AfQM3MzMzMjDJAMzMzMzMzHUBcj8L1KFwRQPYoXI/C9SlAzczMzMxMIEBSuB6F6xExQFyPwvUo3ChAUrgehetRFECF61G4HgUgQLgehetRuB5AZmZmZmZmF0DsUbgehSs5QEjhehSuRyBAFK5H4XoU8j+4HoXrUTggQHsUrkfheuw/H4XrUbjeMkDD9Shcj8IVQI/C9Shcjx9AZmZmZmbmJ0BI4XoUrkcLQGZmZmZm5i9AKVyPwvUoEED2KFyPwnUjQHsUrkfheghAexSuR+F6EkCPwvUoXI8OQFyPwvUo3CtAXI/C9SicMEA9CtejcL0vQJqZmZmZmRZAZmZmZmbmNkCF61G4HoUXQMP1KFyPwi5AzczMzMwMNEA9CtejcD0iQHsUrkfhehhAH4XrUbgeIEBI4XoUrkcgQArXo3A9CiBAH4XrUbheMEAK16NwPYooQHsUrkfhegxAMzMzMzMzLkCPwvUoXI8gQI/C9ShcjzFAUrgehetRJ0A=",
          "dtype": "f8"
         },
         "y0": " ",
         "yaxis": "y"
        },
        {
         "alignmentgroup": "True",
         "hovertemplate": "Year=%{x}<br>Suicide_Rate=%{y}<extra></extra>",
         "legendgroup": "2021",
         "marker": {
          "color": "#ab63fa"
         },
         "name": "2021",
         "notched": false,
         "offsetgroup": "2021",
         "orientation": "v",
         "showlegend": true,
         "type": "box",
         "x": {
          "bdata": "5QflB+UH5QflB+UH5QflB+UH5QflB+UH5QflB+UH5QflB+UH5QflB+UH5QflB+UH5QflB+UH5QflB+UH5QflB+UH5QflB+UH5QflB+UH5QflB+UH5QflB+UH5QflB+UH5QflB+UH5QflB+UH5QflB+UH5QflB+UH5QflB+UH5QflB+UH5QflB+UH5QflB+UH5QflB+UH5QflB+UH5QflB+UH5QflB+UH5QflB+UH5QflB+UH5QflB+UH5QflB+UH5QflB+UH5QflB+UH5QflB+UH5QflB+UH5QflB+UH5QflB+UH5QflB+UH5QflB+UH5QflB+UH5QflB+UH5QflB+UH5QflB+UH5QflB+UH5QflB+UH5QflB+UH5QflB+UH5QflB+UH5QflB+UH5QflB+UH5QflB+UH5QflB+UH5QflB+UH5QflB+UH5QflB+UH5QflB+UH5QflB+UH5QflB+UH5QflB+UH5QflB+UH5QflB+UH5QflB+UH5QflB+UH5QflB+UH5QflB+UH5QflB+UH5QflB+UH5Qc=",
          "dtype": "i2"
         },
         "x0": " ",
         "xaxis": "x",
         "y": {
          "bdata": "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",
          "dtype": "f8"
         },
         "y0": " ",
         "yaxis": "y"
        },
        {
         "alignmentgroup": "True",
         "hovertemplate": "Year=%{x}<br>Suicide_Rate=%{y}<extra></extra>",
         "legendgroup": "2022",
         "marker": {
          "color": "#FFA15A"
         },
         "name": "2022",
         "notched": false,
         "offsetgroup": "2022",
         "orientation": "v",
         "showlegend": true,
         "type": "box",
         "x": {
          "bdata": "5gfmB+YH5gfmB+YH5gfmB+YH5gfmB+YH5gfmB+YH5gfmB+YH5gfmB+YH5gfmB+YH5gfmB+YH5gfmB+YH5gfmB+YH5gfmB+YH5gfmB+YH5gfmB+YH5gfmB+YH5gfmB+YH5gfmB+YH5gfmB+YH5gfmB+YH5gfmB+YH5gfmB+YH5gfmB+YH5gfmB+YH5gfmB+YH5gfmB+YH5gfmB+YH5gfmB+YH5gfmB+YH5gfmB+YH5gfmB+YH5gfmB+YH5gfmB+YH5gfmB+YH5gfmB+YH5gfmB+YH5gfmB+YH5gfmB+YH5gfmB+YH5gfmB+YH5gfmB+YH5gfmB+YH5gfmB+YH5gfmB+YH5gfmB+YH5gfmB+YH5gfmB+YH5gfmB+YH5gfmB+YH5gfmB+YH5gfmB+YH5gfmB+YH5gfmB+YH5gfmB+YH5gfmB+YH5gfmB+YH5gfmB+YH5gfmB+YH5gfmB+YH5gfmB+YH5gfmB+YH5gfmB+YH5gfmB+YH5gfmB+YH5gfmB+YH",
          "dtype": "i2"
         },
         "x0": " ",
         "xaxis": "x",
         "y": {
          "bdata": "AAAAAAAA+H8AAAAAAAD4fwAAAAAAAPh/AAAAAAAA+H8AAAAAAAD4fwAAAAAAAPh/AAAAAAAA+H8AAAAAAAD4fwAAAAAAAPh/AAAAAAAA+H8AAAAAAAD4fwAAAAAAAPh/AAAAAAAA+H8AAAAAAAD4fwAAAAAAAPh/AAAAAAAA+H8AAAAAAAD4fwAAAAAAAPh/AAAAAAAA+H8AAAAAAAD4fwAAAAAAAPh/AAAAAAAA+H8AAAAAAAD4fwAAAAAAAPh/AAAAAAAA+H8AAAAAAAD4fwAAAAAAAPh/AAAAAAAA+H8AAAAAAAD4fwAAAAAAAPh/AAAAAAAA+H8AAAAAAAD4fwAAAAAAAPh/AAAAAAAA+H8AAAAAAAD4fwAAAAAAAPh/AAAAAAAA+H8AAAAAAAD4fwAAAAAAAPh/AAAAAAAA+H8AAAAAAAD4fwAAAAAAAPh/AAAAAAAA+H8AAAAAAAD4fwAAAAAAAPh/AAAAAAAA+H8AAAAAAAD4fwAAAAAAAPh/AAAAAAAA+H8AAAAAAAD4fwAAAAAAAPh/AAAAAAAA+H8AAAAAAAD4fwAAAAAAAPh/AAAAAAAA+H8AAAAAAAD4fwAAAAAAAPh/AAAAAAAA+H8AAAAAAAD4fwAAAAAAAPh/AAAAAAAA+H8AAAAAAAD4fwAAAAAAAPh/AAAAAAAA+H8AAAAAAAD4fwAAAAAAAPh/AAAAAAAA+H8AAAAAAAD4fwAAAAAAAPh/AAAAAAAA+H8AAAAAAAD4fwAAAAAAAPh/AAAAAAAA+H8AAAAAAAD4fwAAAAAAAPh/AAAAAAAA+H8AAAAAAAD4fwAAAAAAAPh/AAAAAAAA+H8AAAAAAAD4fwAAAAAAAPh/AAAAAAAA+H8AAAAAAAD4fwAAAAAAAPh/AAAAAAAA+H8AAAAAAAD4fwAAAAAAAPh/AAAAAAAA+H8AAAAAAAD4fwAAAAAAAPh/AAAAAAAA+H8AAAAAAAD4fwAAAAAAAPh/AAAAAAAA+H8AAAAAAAD4fwAAAAAAAPh/AAAAAAAA+H8AAAAAAAD4fwAAAAAAAPh/AAAAAAAA+H8AAAAAAAD4fwAAAAAAAPh/AAAAAAAA+H8AAAAAAAD4fwAAAAAAAPh/AAAAAAAA+H8AAAAAAAD4fwAAAAAAAPh/AAAAAAAA+H8AAAAAAAD4fwAAAAAAAPh/AAAAAAAA+H8AAAAAAAD4fwAAAAAAAPh/AAAAAAAA+H8AAAAAAAD4fwAAAAAAAPh/AAAAAAAA+H8AAAAAAAD4fwAAAAAAAPh/AAAAAAAA+H8AAAAAAAD4fwAAAAAAAPh/AAAAAAAA+H8AAAAAAAD4fwAAAAAAAPh/AAAAAAAA+H8AAAAAAAD4fwAAAAAAAPh/AAAAAAAA+H8AAAAAAAD4fwAAAAAAAPh/AAAAAAAA+H8AAAAAAAD4fwAAAAAAAPh/AAAAAAAA+H8AAAAAAAD4fwAAAAAAAPh/AAAAAAAA+H8AAAAAAAD4fwAAAAAAAPh/AAAAAAAA+H8AAAAAAAD4fwAAAAAAAPh/AAAAAAAA+H8AAAAAAAD4fwAAAAAAAPh/AAAAAAAA+H8AAAAAAAD4fwAAAAAAAPh/AAAAAAAA+H8AAAAAAAD4fwAAAAAAAPh/AAAAAAAA+H8AAAAAAAD4fwAAAAAAAPh/AAAAAAAA+H8AAAAAAAD4fwAAAAAAAPh/AAAAAAAA+H8AAAAAAAD4fwAAAAAAAPh/AAAAAAAA+H8AAAAAAAD4fwAAAAAAAPh/AAAAAAAA+H8AAAAAAAD4fwAAAAAAAPh/AAAAAAAA+H8AAAAAAAD4fwAAAAAAAPh/AAAAAAAA+H8AAAAAAAD4fwAAAAAAAPh/AAAAAAAA+H8AAAAAAAD4fwAAAAAAAPh/AAAAAAAA+H8AAAAAAAD4fwAAAAAAAPh/AAAAAAAA+H8AAAAAAAD4fwAAAAAAAPh/AAAAAAAA+H8AAAAAAAD4fwAAAAAAAPh/AAAAAAAA+H8AAAAAAAD4fwAAAAAAAPh/AAAAAAAA+H8AAAAAAAD4fwAAAAAAAPh/",
          "dtype": "f8"
         },
         "y0": " ",
         "yaxis": "y"
        },
        {
         "alignmentgroup": "True",
         "hovertemplate": "Year=%{x}<br>Suicide_Rate=%{y}<extra></extra>",
         "legendgroup": "2023",
         "marker": {
          "color": "#19d3f3"
         },
         "name": "2023",
         "notched": false,
         "offsetgroup": "2023",
         "orientation": "v",
         "showlegend": true,
         "type": "box",
         "x": {
          "bdata": "5wfnB+cH5wfnB+cH5wfnB+cH5wfnB+cH5wfnB+cH5wfnB+cH5wfnB+cH5wfnB+cH5wfnB+cH5wfnB+cH5wfnB+cH5wfnB+cH5wfnB+cH5wfnB+cH5wfnB+cH5wfnB+cH5wfnB+cH5wfnB+cH5wfnB+cH5wfnB+cH5wfnB+cH5wfnB+cH5wfnB+cH5wfnB+cH5wfnB+cH5wfnB+cH5wfnB+cH5wfnB+cH5wfnB+cH5wfnB+cH5wfnB+cH5wfnB+cH5wfnB+cH5wfnB+cH5wfnB+cH5wfnB+cH5wfnB+cH5wfnB+cH5wfnB+cH5wfnB+cH5wfnB+cH5wfnB+cH5wfnB+cH5wfnB+cH5wfnB+cH5wfnB+cH5wfnB+cH5wfnB+cH5wfnB+cH5wfnB+cH5wfnB+cH5wfnB+cH5wfnB+cH5wfnB+cH5wfnB+cH5wfnB+cH5wfnB+cH5wfnB+cH5wfnB+cH5wfnB+cH5wfnB+cH5wfnB+cH5wfnB+cH5wfnB+cH",
          "dtype": "i2"
         },
         "x0": " ",
         "xaxis": "x",
         "y": {
          "bdata": "AAAAAAAA+H8AAAAAAAD4fwAAAAAAAPh/AAAAAAAA+H8AAAAAAAD4fwAAAAAAAPh/AAAAAAAA+H8AAAAAAAD4fwAAAAAAAPh/AAAAAAAA+H8AAAAAAAD4fwAAAAAAAPh/AAAAAAAA+H8AAAAAAAD4fwAAAAAAAPh/AAAAAAAA+H8AAAAAAAD4fwAAAAAAAPh/AAAAAAAA+H8AAAAAAAD4fwAAAAAAAPh/AAAAAAAA+H8AAAAAAAD4fwAAAAAAAPh/AAAAAAAA+H8AAAAAAAD4fwAAAAAAAPh/AAAAAAAA+H8AAAAAAAD4fwAAAAAAAPh/AAAAAAAA+H8AAAAAAAD4fwAAAAAAAPh/AAAAAAAA+H8AAAAAAAD4fwAAAAAAAPh/AAAAAAAA+H8AAAAAAAD4fwAAAAAAAPh/AAAAAAAA+H8AAAAAAAD4fwAAAAAAAPh/AAAAAAAA+H8AAAAAAAD4fwAAAAAAAPh/AAAAAAAA+H8AAAAAAAD4fwAAAAAAAPh/AAAAAAAA+H8AAAAAAAD4fwAAAAAAAPh/AAAAAAAA+H8AAAAAAAD4fwAAAAAAAPh/AAAAAAAA+H8AAAAAAAD4fwAAAAAAAPh/AAAAAAAA+H8AAAAAAAD4fwAAAAAAAPh/AAAAAAAA+H8AAAAAAAD4fwAAAAAAAPh/AAAAAAAA+H8AAAAAAAD4fwAAAAAAAPh/AAAAAAAA+H8AAAAAAAD4fwAAAAAAAPh/AAAAAAAA+H8AAAAAAAD4fwAAAAAAAPh/AAAAAAAA+H8AAAAAAAD4fwAAAAAAAPh/AAAAAAAA+H8AAAAAAAD4fwAAAAAAAPh/AAAAAAAA+H8AAAAAAAD4fwAAAAAAAPh/AAAAAAAA+H8AAAAAAAD4fwAAAAAAAPh/AAAAAAAA+H8AAAAAAAD4fwAAAAAAAPh/AAAAAAAA+H8AAAAAAAD4fwAAAAAAAPh/AAAAAAAA+H8AAAAAAAD4fwAAAAAAAPh/AAAAAAAA+H8AAAAAAAD4fwAAAAAAAPh/AAAAAAAA+H8AAAAAAAD4fwAAAAAAAPh/AAAAAAAA+H8AAAAAAAD4fwAAAAAAAPh/AAAAAAAA+H8AAAAAAAD4fwAAAAAAAPh/AAAAAAAA+H8AAAAAAAD4fwAAAAAAAPh/AAAAAAAA+H8AAAAAAAD4fwAAAAAAAPh/AAAAAAAA+H8AAAAAAAD4fwAAAAAAAPh/AAAAAAAA+H8AAAAAAAD4fwAAAAAAAPh/AAAAAAAA+H8AAAAAAAD4fwAAAAAAAPh/AAAAAAAA+H8AAAAAAAD4fwAAAAAAAPh/AAAAAAAA+H8AAAAAAAD4fwAAAAAAAPh/AAAAAAAA+H8AAAAAAAD4fwAAAAAAAPh/AAAAAAAA+H8AAAAAAAD4fwAAAAAAAPh/AAAAAAAA+H8AAAAAAAD4fwAAAAAAAPh/AAAAAAAA+H8AAAAAAAD4fwAAAAAAAPh/AAAAAAAA+H8AAAAAAAD4fwAAAAAAAPh/AAAAAAAA+H8AAAAAAAD4fwAAAAAAAPh/AAAAAAAA+H8AAAAAAAD4fwAAAAAAAPh/AAAAAAAA+H8AAAAAAAD4fwAAAAAAAPh/AAAAAAAA+H8AAAAAAAD4fwAAAAAAAPh/AAAAAAAA+H8AAAAAAAD4fwAAAAAAAPh/AAAAAAAA+H8AAAAAAAD4fwAAAAAAAPh/AAAAAAAA+H8AAAAAAAD4fwAAAAAAAPh/AAAAAAAA+H8AAAAAAAD4fwAAAAAAAPh/AAAAAAAA+H8AAAAAAAD4fwAAAAAAAPh/AAAAAAAA+H8AAAAAAAD4fwAAAAAAAPh/AAAAAAAA+H8AAAAAAAD4fwAAAAAAAPh/AAAAAAAA+H8AAAAAAAD4fwAAAAAAAPh/AAAAAAAA+H8AAAAAAAD4fwAAAAAAAPh/AAAAAAAA+H8AAAAAAAD4fwAAAAAAAPh/AAAAAAAA+H8AAAAAAAD4fwAAAAAAAPh/AAAAAAAA+H8AAAAAAAD4fwAAAAAAAPh/AAAAAAAA+H8AAAAAAAD4fwAAAAAAAPh/",
          "dtype": "f8"
         },
         "y0": " ",
         "yaxis": "y"
        }
       ],
       "layout": {
        "boxmode": "overlay",
        "legend": {
         "title": {
          "text": "Year"
         },
         "tracegroupgap": 0
        },
        "template": {
         "data": {
          "bar": [
           {
            "error_x": {
             "color": "#2a3f5f"
            },
            "error_y": {
             "color": "#2a3f5f"
            },
            "marker": {
             "line": {
              "color": "#E5ECF6",
              "width": 0.5
             },
             "pattern": {
              "fillmode": "overlay",
              "size": 10,
              "solidity": 0.2
             }
            },
            "type": "bar"
           }
          ],
          "barpolar": [
           {
            "marker": {
             "line": {
              "color": "#E5ECF6",
              "width": 0.5
             },
             "pattern": {
              "fillmode": "overlay",
              "size": 10,
              "solidity": 0.2
             }
            },
            "type": "barpolar"
           }
          ],
          "carpet": [
           {
            "aaxis": {
             "endlinecolor": "#2a3f5f",
             "gridcolor": "white",
             "linecolor": "white",
             "minorgridcolor": "white",
             "startlinecolor": "#2a3f5f"
            },
            "baxis": {
             "endlinecolor": "#2a3f5f",
             "gridcolor": "white",
             "linecolor": "white",
             "minorgridcolor": "white",
             "startlinecolor": "#2a3f5f"
            },
            "type": "carpet"
           }
          ],
          "choropleth": [
           {
            "colorbar": {
             "outlinewidth": 0,
             "ticks": ""
            },
            "type": "choropleth"
           }
          ],
          "contour": [
           {
            "colorbar": {
             "outlinewidth": 0,
             "ticks": ""
            },
            "colorscale": [
             [
              0,
              "#0d0887"
             ],
             [
              0.1111111111111111,
              "#46039f"
             ],
             [
              0.2222222222222222,
              "#7201a8"
             ],
             [
              0.3333333333333333,
              "#9c179e"
             ],
             [
              0.4444444444444444,
              "#bd3786"
             ],
             [
              0.5555555555555556,
              "#d8576b"
             ],
             [
              0.6666666666666666,
              "#ed7953"
             ],
             [
              0.7777777777777778,
              "#fb9f3a"
             ],
             [
              0.8888888888888888,
              "#fdca26"
             ],
             [
              1,
              "#f0f921"
             ]
            ],
            "type": "contour"
           }
          ],
          "contourcarpet": [
           {
            "colorbar": {
             "outlinewidth": 0,
             "ticks": ""
            },
            "type": "contourcarpet"
           }
          ],
          "heatmap": [
           {
            "colorbar": {
             "outlinewidth": 0,
             "ticks": ""
            },
            "colorscale": [
             [
              0,
              "#0d0887"
             ],
             [
              0.1111111111111111,
              "#46039f"
             ],
             [
              0.2222222222222222,
              "#7201a8"
             ],
             [
              0.3333333333333333,
              "#9c179e"
             ],
             [
              0.4444444444444444,
              "#bd3786"
             ],
             [
              0.5555555555555556,
              "#d8576b"
             ],
             [
              0.6666666666666666,
              "#ed7953"
             ],
             [
              0.7777777777777778,
              "#fb9f3a"
             ],
             [
              0.8888888888888888,
              "#fdca26"
             ],
             [
              1,
              "#f0f921"
             ]
            ],
            "type": "heatmap"
           }
          ],
          "histogram": [
           {
            "marker": {
             "pattern": {
              "fillmode": "overlay",
              "size": 10,
              "solidity": 0.2
             }
            },
            "type": "histogram"
           }
          ],
          "histogram2d": [
           {
            "colorbar": {
             "outlinewidth": 0,
             "ticks": ""
            },
            "colorscale": [
             [
              0,
              "#0d0887"
             ],
             [
              0.1111111111111111,
              "#46039f"
             ],
             [
              0.2222222222222222,
              "#7201a8"
             ],
             [
              0.3333333333333333,
              "#9c179e"
             ],
             [
              0.4444444444444444,
              "#bd3786"
             ],
             [
              0.5555555555555556,
              "#d8576b"
             ],
             [
              0.6666666666666666,
              "#ed7953"
             ],
             [
              0.7777777777777778,
              "#fb9f3a"
             ],
             [
              0.8888888888888888,
              "#fdca26"
             ],
             [
              1,
              "#f0f921"
             ]
            ],
            "type": "histogram2d"
           }
          ],
          "histogram2dcontour": [
           {
            "colorbar": {
             "outlinewidth": 0,
             "ticks": ""
            },
            "colorscale": [
             [
              0,
              "#0d0887"
             ],
             [
              0.1111111111111111,
              "#46039f"
             ],
             [
              0.2222222222222222,
              "#7201a8"
             ],
             [
              0.3333333333333333,
              "#9c179e"
             ],
             [
              0.4444444444444444,
              "#bd3786"
             ],
             [
              0.5555555555555556,
              "#d8576b"
             ],
             [
              0.6666666666666666,
              "#ed7953"
             ],
             [
              0.7777777777777778,
              "#fb9f3a"
             ],
             [
              0.8888888888888888,
              "#fdca26"
             ],
             [
              1,
              "#f0f921"
             ]
            ],
            "type": "histogram2dcontour"
           }
          ],
          "mesh3d": [
           {
            "colorbar": {
             "outlinewidth": 0,
             "ticks": ""
            },
            "type": "mesh3d"
           }
          ],
          "parcoords": [
           {
            "line": {
             "colorbar": {
              "outlinewidth": 0,
              "ticks": ""
             }
            },
            "type": "parcoords"
           }
          ],
          "pie": [
           {
            "automargin": true,
            "type": "pie"
           }
          ],
          "scatter": [
           {
            "fillpattern": {
             "fillmode": "overlay",
             "size": 10,
             "solidity": 0.2
            },
            "type": "scatter"
           }
          ],
          "scatter3d": [
           {
            "line": {
             "colorbar": {
              "outlinewidth": 0,
              "ticks": ""
             }
            },
            "marker": {
             "colorbar": {
              "outlinewidth": 0,
              "ticks": ""
             }
            },
            "type": "scatter3d"
           }
          ],
          "scattercarpet": [
           {
            "marker": {
             "colorbar": {
              "outlinewidth": 0,
              "ticks": ""
             }
            },
            "type": "scattercarpet"
           }
          ],
          "scattergeo": [
           {
            "marker": {
             "colorbar": {
              "outlinewidth": 0,
              "ticks": ""
             }
            },
            "type": "scattergeo"
           }
          ],
          "scattergl": [
           {
            "marker": {
             "colorbar": {
              "outlinewidth": 0,
              "ticks": ""
             }
            },
            "type": "scattergl"
           }
          ],
          "scattermap": [
           {
            "marker": {
             "colorbar": {
              "outlinewidth": 0,
              "ticks": ""
             }
            },
            "type": "scattermap"
           }
          ],
          "scattermapbox": [
           {
            "marker": {
             "colorbar": {
              "outlinewidth": 0,
              "ticks": ""
             }
            },
            "type": "scattermapbox"
           }
          ],
          "scatterpolar": [
           {
            "marker": {
             "colorbar": {
              "outlinewidth": 0,
              "ticks": ""
             }
            },
            "type": "scatterpolar"
           }
          ],
          "scatterpolargl": [
           {
            "marker": {
             "colorbar": {
              "outlinewidth": 0,
              "ticks": ""
             }
            },
            "type": "scatterpolargl"
           }
          ],
          "scatterternary": [
           {
            "marker": {
             "colorbar": {
              "outlinewidth": 0,
              "ticks": ""
             }
            },
            "type": "scatterternary"
           }
          ],
          "surface": [
           {
            "colorbar": {
             "outlinewidth": 0,
             "ticks": ""
            },
            "colorscale": [
             [
              0,
              "#0d0887"
             ],
             [
              0.1111111111111111,
              "#46039f"
             ],
             [
              0.2222222222222222,
              "#7201a8"
             ],
             [
              0.3333333333333333,
              "#9c179e"
             ],
             [
              0.4444444444444444,
              "#bd3786"
             ],
             [
              0.5555555555555556,
              "#d8576b"
             ],
             [
              0.6666666666666666,
              "#ed7953"
             ],
             [
              0.7777777777777778,
              "#fb9f3a"
             ],
             [
              0.8888888888888888,
              "#fdca26"
             ],
             [
              1,
              "#f0f921"
             ]
            ],
            "type": "surface"
           }
          ],
          "table": [
           {
            "cells": {
             "fill": {
              "color": "#EBF0F8"
             },
             "line": {
              "color": "white"
             }
            },
            "header": {
             "fill": {
              "color": "#C8D4E3"
             },
             "line": {
              "color": "white"
             }
            },
            "type": "table"
           }
          ]
         },
         "layout": {
          "annotationdefaults": {
           "arrowcolor": "#2a3f5f",
           "arrowhead": 0,
           "arrowwidth": 1
          },
          "autotypenumbers": "strict",
          "coloraxis": {
           "colorbar": {
            "outlinewidth": 0,
            "ticks": ""
           }
          },
          "colorscale": {
           "diverging": [
            [
             0,
             "#8e0152"
            ],
            [
             0.1,
             "#c51b7d"
            ],
            [
             0.2,
             "#de77ae"
            ],
            [
             0.3,
             "#f1b6da"
            ],
            [
             0.4,
             "#fde0ef"
            ],
            [
             0.5,
             "#f7f7f7"
            ],
            [
             0.6,
             "#e6f5d0"
            ],
            [
             0.7,
             "#b8e186"
            ],
            [
             0.8,
             "#7fbc41"
            ],
            [
             0.9,
             "#4d9221"
            ],
            [
             1,
             "#276419"
            ]
           ],
           "sequential": [
            [
             0,
             "#0d0887"
            ],
            [
             0.1111111111111111,
             "#46039f"
            ],
            [
             0.2222222222222222,
             "#7201a8"
            ],
            [
             0.3333333333333333,
             "#9c179e"
            ],
            [
             0.4444444444444444,
             "#bd3786"
            ],
            [
             0.5555555555555556,
             "#d8576b"
            ],
            [
             0.6666666666666666,
             "#ed7953"
            ],
            [
             0.7777777777777778,
             "#fb9f3a"
            ],
            [
             0.8888888888888888,
             "#fdca26"
            ],
            [
             1,
             "#f0f921"
            ]
           ],
           "sequentialminus": [
            [
             0,
             "#0d0887"
            ],
            [
             0.1111111111111111,
             "#46039f"
            ],
            [
             0.2222222222222222,
             "#7201a8"
            ],
            [
             0.3333333333333333,
             "#9c179e"
            ],
            [
             0.4444444444444444,
             "#bd3786"
            ],
            [
             0.5555555555555556,
             "#d8576b"
            ],
            [
             0.6666666666666666,
             "#ed7953"
            ],
            [
             0.7777777777777778,
             "#fb9f3a"
            ],
            [
             0.8888888888888888,
             "#fdca26"
            ],
            [
             1,
             "#f0f921"
            ]
           ]
          },
          "colorway": [
           "#636efa",
           "#EF553B",
           "#00cc96",
           "#ab63fa",
           "#FFA15A",
           "#19d3f3",
           "#FF6692",
           "#B6E880",
           "#FF97FF",
           "#FECB52"
          ],
          "font": {
           "color": "#2a3f5f"
          },
          "geo": {
           "bgcolor": "white",
           "lakecolor": "white",
           "landcolor": "#E5ECF6",
           "showlakes": true,
           "showland": true,
           "subunitcolor": "white"
          },
          "hoverlabel": {
           "align": "left"
          },
          "hovermode": "closest",
          "mapbox": {
           "style": "light"
          },
          "paper_bgcolor": "white",
          "plot_bgcolor": "#E5ECF6",
          "polar": {
           "angularaxis": {
            "gridcolor": "white",
            "linecolor": "white",
            "ticks": ""
           },
           "bgcolor": "#E5ECF6",
           "radialaxis": {
            "gridcolor": "white",
            "linecolor": "white",
            "ticks": ""
           }
          },
          "scene": {
           "xaxis": {
            "backgroundcolor": "#E5ECF6",
            "gridcolor": "white",
            "gridwidth": 2,
            "linecolor": "white",
            "showbackground": true,
            "ticks": "",
            "zerolinecolor": "white"
           },
           "yaxis": {
            "backgroundcolor": "#E5ECF6",
            "gridcolor": "white",
            "gridwidth": 2,
            "linecolor": "white",
            "showbackground": true,
            "ticks": "",
            "zerolinecolor": "white"
           },
           "zaxis": {
            "backgroundcolor": "#E5ECF6",
            "gridcolor": "white",
            "gridwidth": 2,
            "linecolor": "white",
            "showbackground": true,
            "ticks": "",
            "zerolinecolor": "white"
           }
          },
          "shapedefaults": {
           "line": {
            "color": "#2a3f5f"
           }
          },
          "ternary": {
           "aaxis": {
            "gridcolor": "white",
            "linecolor": "white",
            "ticks": ""
           },
           "baxis": {
            "gridcolor": "white",
            "linecolor": "white",
            "ticks": ""
           },
           "bgcolor": "#E5ECF6",
           "caxis": {
            "gridcolor": "white",
            "linecolor": "white",
            "ticks": ""
           }
          },
          "title": {
           "x": 0.05
          },
          "xaxis": {
           "automargin": true,
           "gridcolor": "white",
           "linecolor": "white",
           "ticks": "",
           "title": {
            "standoff": 15
           },
           "zerolinecolor": "white",
           "zerolinewidth": 2
          },
          "yaxis": {
           "automargin": true,
           "gridcolor": "white",
           "linecolor": "white",
           "ticks": "",
           "title": {
            "standoff": 15
           },
           "zerolinecolor": "white",
           "zerolinewidth": 2
          }
         }
        },
        "title": {
         "text": "Suicide Rate Distribution Evolution (2019-2021)"
        },
        "xaxis": {
         "anchor": "y",
         "categoryarray": [
          2010,
          2019,
          2020,
          2021,
          2022,
          2023
         ],
         "categoryorder": "array",
         "domain": [
          0,
          1
         ],
         "title": {
          "text": "Year"
         }
        },
        "yaxis": {
         "anchor": "x",
         "domain": [
          0,
          1
         ],
         "title": {
          "text": "Suicide_Rate"
         }
        }
       }
      }
     },
     "metadata": {},
     "output_type": "display_data"
    },
    {
     "data": {
      "application/vnd.plotly.v1+json": {
       "config": {
        "plotlyServerURL": "https://plot.ly"
       },
       "data": [],
       "layout": {
        "legend": {
         "itemsizing": "constant",
         "tracegroupgap": 0
        },
        "template": {
         "data": {
          "bar": [
           {
            "error_x": {
             "color": "#2a3f5f"
            },
            "error_y": {
             "color": "#2a3f5f"
            },
            "marker": {
             "line": {
              "color": "#E5ECF6",
              "width": 0.5
             },
             "pattern": {
              "fillmode": "overlay",
              "size": 10,
              "solidity": 0.2
             }
            },
            "type": "bar"
           }
          ],
          "barpolar": [
           {
            "marker": {
             "line": {
              "color": "#E5ECF6",
              "width": 0.5
             },
             "pattern": {
              "fillmode": "overlay",
              "size": 10,
              "solidity": 0.2
             }
            },
            "type": "barpolar"
           }
          ],
          "carpet": [
           {
            "aaxis": {
             "endlinecolor": "#2a3f5f",
             "gridcolor": "white",
             "linecolor": "white",
             "minorgridcolor": "white",
             "startlinecolor": "#2a3f5f"
            },
            "baxis": {
             "endlinecolor": "#2a3f5f",
             "gridcolor": "white",
             "linecolor": "white",
             "minorgridcolor": "white",
             "startlinecolor": "#2a3f5f"
            },
            "type": "carpet"
           }
          ],
          "choropleth": [
           {
            "colorbar": {
             "outlinewidth": 0,
             "ticks": ""
            },
            "type": "choropleth"
           }
          ],
          "contour": [
           {
            "colorbar": {
             "outlinewidth": 0,
             "ticks": ""
            },
            "colorscale": [
             [
              0,
              "#0d0887"
             ],
             [
              0.1111111111111111,
              "#46039f"
             ],
             [
              0.2222222222222222,
              "#7201a8"
             ],
             [
              0.3333333333333333,
              "#9c179e"
             ],
             [
              0.4444444444444444,
              "#bd3786"
             ],
             [
              0.5555555555555556,
              "#d8576b"
             ],
             [
              0.6666666666666666,
              "#ed7953"
             ],
             [
              0.7777777777777778,
              "#fb9f3a"
             ],
             [
              0.8888888888888888,
              "#fdca26"
             ],
             [
              1,
              "#f0f921"
             ]
            ],
            "type": "contour"
           }
          ],
          "contourcarpet": [
           {
            "colorbar": {
             "outlinewidth": 0,
             "ticks": ""
            },
            "type": "contourcarpet"
           }
          ],
          "heatmap": [
           {
            "colorbar": {
             "outlinewidth": 0,
             "ticks": ""
            },
            "colorscale": [
             [
              0,
              "#0d0887"
             ],
             [
              0.1111111111111111,
              "#46039f"
             ],
             [
              0.2222222222222222,
              "#7201a8"
             ],
             [
              0.3333333333333333,
              "#9c179e"
             ],
             [
              0.4444444444444444,
              "#bd3786"
             ],
             [
              0.5555555555555556,
              "#d8576b"
             ],
             [
              0.6666666666666666,
              "#ed7953"
             ],
             [
              0.7777777777777778,
              "#fb9f3a"
             ],
             [
              0.8888888888888888,
              "#fdca26"
             ],
             [
              1,
              "#f0f921"
             ]
            ],
            "type": "heatmap"
           }
          ],
          "histogram": [
           {
            "marker": {
             "pattern": {
              "fillmode": "overlay",
              "size": 10,
              "solidity": 0.2
             }
            },
            "type": "histogram"
           }
          ],
          "histogram2d": [
           {
            "colorbar": {
             "outlinewidth": 0,
             "ticks": ""
            },
            "colorscale": [
             [
              0,
              "#0d0887"
             ],
             [
              0.1111111111111111,
              "#46039f"
             ],
             [
              0.2222222222222222,
              "#7201a8"
             ],
             [
              0.3333333333333333,
              "#9c179e"
             ],
             [
              0.4444444444444444,
              "#bd3786"
             ],
             [
              0.5555555555555556,
              "#d8576b"
             ],
             [
              0.6666666666666666,
              "#ed7953"
             ],
             [
              0.7777777777777778,
              "#fb9f3a"
             ],
             [
              0.8888888888888888,
              "#fdca26"
             ],
             [
              1,
              "#f0f921"
             ]
            ],
            "type": "histogram2d"
           }
          ],
          "histogram2dcontour": [
           {
            "colorbar": {
             "outlinewidth": 0,
             "ticks": ""
            },
            "colorscale": [
             [
              0,
              "#0d0887"
             ],
             [
              0.1111111111111111,
              "#46039f"
             ],
             [
              0.2222222222222222,
              "#7201a8"
             ],
             [
              0.3333333333333333,
              "#9c179e"
             ],
             [
              0.4444444444444444,
              "#bd3786"
             ],
             [
              0.5555555555555556,
              "#d8576b"
             ],
             [
              0.6666666666666666,
              "#ed7953"
             ],
             [
              0.7777777777777778,
              "#fb9f3a"
             ],
             [
              0.8888888888888888,
              "#fdca26"
             ],
             [
              1,
              "#f0f921"
             ]
            ],
            "type": "histogram2dcontour"
           }
          ],
          "mesh3d": [
           {
            "colorbar": {
             "outlinewidth": 0,
             "ticks": ""
            },
            "type": "mesh3d"
           }
          ],
          "parcoords": [
           {
            "line": {
             "colorbar": {
              "outlinewidth": 0,
              "ticks": ""
             }
            },
            "type": "parcoords"
           }
          ],
          "pie": [
           {
            "automargin": true,
            "type": "pie"
           }
          ],
          "scatter": [
           {
            "fillpattern": {
             "fillmode": "overlay",
             "size": 10,
             "solidity": 0.2
            },
            "type": "scatter"
           }
          ],
          "scatter3d": [
           {
            "line": {
             "colorbar": {
              "outlinewidth": 0,
              "ticks": ""
             }
            },
            "marker": {
             "colorbar": {
              "outlinewidth": 0,
              "ticks": ""
             }
            },
            "type": "scatter3d"
           }
          ],
          "scattercarpet": [
           {
            "marker": {
             "colorbar": {
              "outlinewidth": 0,
              "ticks": ""
             }
            },
            "type": "scattercarpet"
           }
          ],
          "scattergeo": [
           {
            "marker": {
             "colorbar": {
              "outlinewidth": 0,
              "ticks": ""
             }
            },
            "type": "scattergeo"
           }
          ],
          "scattergl": [
           {
            "marker": {
             "colorbar": {
              "outlinewidth": 0,
              "ticks": ""
             }
            },
            "type": "scattergl"
           }
          ],
          "scattermap": [
           {
            "marker": {
             "colorbar": {
              "outlinewidth": 0,
              "ticks": ""
             }
            },
            "type": "scattermap"
           }
          ],
          "scattermapbox": [
           {
            "marker": {
             "colorbar": {
              "outlinewidth": 0,
              "ticks": ""
             }
            },
            "type": "scattermapbox"
           }
          ],
          "scatterpolar": [
           {
            "marker": {
             "colorbar": {
              "outlinewidth": 0,
              "ticks": ""
             }
            },
            "type": "scatterpolar"
           }
          ],
          "scatterpolargl": [
           {
            "marker": {
             "colorbar": {
              "outlinewidth": 0,
              "ticks": ""
             }
            },
            "type": "scatterpolargl"
           }
          ],
          "scatterternary": [
           {
            "marker": {
             "colorbar": {
              "outlinewidth": 0,
              "ticks": ""
             }
            },
            "type": "scatterternary"
           }
          ],
          "surface": [
           {
            "colorbar": {
             "outlinewidth": 0,
             "ticks": ""
            },
            "colorscale": [
             [
              0,
              "#0d0887"
             ],
             [
              0.1111111111111111,
              "#46039f"
             ],
             [
              0.2222222222222222,
              "#7201a8"
             ],
             [
              0.3333333333333333,
              "#9c179e"
             ],
             [
              0.4444444444444444,
              "#bd3786"
             ],
             [
              0.5555555555555556,
              "#d8576b"
             ],
             [
              0.6666666666666666,
              "#ed7953"
             ],
             [
              0.7777777777777778,
              "#fb9f3a"
             ],
             [
              0.8888888888888888,
              "#fdca26"
             ],
             [
              1,
              "#f0f921"
             ]
            ],
            "type": "surface"
           }
          ],
          "table": [
           {
            "cells": {
             "fill": {
              "color": "#EBF0F8"
             },
             "line": {
              "color": "white"
             }
            },
            "header": {
             "fill": {
              "color": "#C8D4E3"
             },
             "line": {
              "color": "white"
             }
            },
            "type": "table"
           }
          ]
         },
         "layout": {
          "annotationdefaults": {
           "arrowcolor": "#2a3f5f",
           "arrowhead": 0,
           "arrowwidth": 1
          },
          "autotypenumbers": "strict",
          "coloraxis": {
           "colorbar": {
            "outlinewidth": 0,
            "ticks": ""
           }
          },
          "colorscale": {
           "diverging": [
            [
             0,
             "#8e0152"
            ],
            [
             0.1,
             "#c51b7d"
            ],
            [
             0.2,
             "#de77ae"
            ],
            [
             0.3,
             "#f1b6da"
            ],
            [
             0.4,
             "#fde0ef"
            ],
            [
             0.5,
             "#f7f7f7"
            ],
            [
             0.6,
             "#e6f5d0"
            ],
            [
             0.7,
             "#b8e186"
            ],
            [
             0.8,
             "#7fbc41"
            ],
            [
             0.9,
             "#4d9221"
            ],
            [
             1,
             "#276419"
            ]
           ],
           "sequential": [
            [
             0,
             "#0d0887"
            ],
            [
             0.1111111111111111,
             "#46039f"
            ],
            [
             0.2222222222222222,
             "#7201a8"
            ],
            [
             0.3333333333333333,
             "#9c179e"
            ],
            [
             0.4444444444444444,
             "#bd3786"
            ],
            [
             0.5555555555555556,
             "#d8576b"
            ],
            [
             0.6666666666666666,
             "#ed7953"
            ],
            [
             0.7777777777777778,
             "#fb9f3a"
            ],
            [
             0.8888888888888888,
             "#fdca26"
            ],
            [
             1,
             "#f0f921"
            ]
           ],
           "sequentialminus": [
            [
             0,
             "#0d0887"
            ],
            [
             0.1111111111111111,
             "#46039f"
            ],
            [
             0.2222222222222222,
             "#7201a8"
            ],
            [
             0.3333333333333333,
             "#9c179e"
            ],
            [
             0.4444444444444444,
             "#bd3786"
            ],
            [
             0.5555555555555556,
             "#d8576b"
            ],
            [
             0.6666666666666666,
             "#ed7953"
            ],
            [
             0.7777777777777778,
             "#fb9f3a"
            ],
            [
             0.8888888888888888,
             "#fdca26"
            ],
            [
             1,
             "#f0f921"
            ]
           ]
          },
          "colorway": [
           "#636efa",
           "#EF553B",
           "#00cc96",
           "#ab63fa",
           "#FFA15A",
           "#19d3f3",
           "#FF6692",
           "#B6E880",
           "#FF97FF",
           "#FECB52"
          ],
          "font": {
           "color": "#2a3f5f"
          },
          "geo": {
           "bgcolor": "white",
           "lakecolor": "white",
           "landcolor": "#E5ECF6",
           "showlakes": true,
           "showland": true,
           "subunitcolor": "white"
          },
          "hoverlabel": {
           "align": "left"
          },
          "hovermode": "closest",
          "mapbox": {
           "style": "light"
          },
          "paper_bgcolor": "white",
          "plot_bgcolor": "#E5ECF6",
          "polar": {
           "angularaxis": {
            "gridcolor": "white",
            "linecolor": "white",
            "ticks": ""
           },
           "bgcolor": "#E5ECF6",
           "radialaxis": {
            "gridcolor": "white",
            "linecolor": "white",
            "ticks": ""
           }
          },
          "scene": {
           "xaxis": {
            "backgroundcolor": "#E5ECF6",
            "gridcolor": "white",
            "gridwidth": 2,
            "linecolor": "white",
            "showbackground": true,
            "ticks": "",
            "zerolinecolor": "white"
           },
           "yaxis": {
            "backgroundcolor": "#E5ECF6",
            "gridcolor": "white",
            "gridwidth": 2,
            "linecolor": "white",
            "showbackground": true,
            "ticks": "",
            "zerolinecolor": "white"
           },
           "zaxis": {
            "backgroundcolor": "#E5ECF6",
            "gridcolor": "white",
            "gridwidth": 2,
            "linecolor": "white",
            "showbackground": true,
            "ticks": "",
            "zerolinecolor": "white"
           }
          },
          "shapedefaults": {
           "line": {
            "color": "#2a3f5f"
           }
          },
          "ternary": {
           "aaxis": {
            "gridcolor": "white",
            "linecolor": "white",
            "ticks": ""
           },
           "baxis": {
            "gridcolor": "white",
            "linecolor": "white",
            "ticks": ""
           },
           "bgcolor": "#E5ECF6",
           "caxis": {
            "gridcolor": "white",
            "linecolor": "white",
            "ticks": ""
           }
          },
          "title": {
           "x": 0.05
          },
          "xaxis": {
           "automargin": true,
           "gridcolor": "white",
           "linecolor": "white",
           "ticks": "",
           "title": {
            "standoff": 15
           },
           "zerolinecolor": "white",
           "zerolinewidth": 2
          },
          "yaxis": {
           "automargin": true,
           "gridcolor": "white",
           "linecolor": "white",
           "ticks": "",
           "title": {
            "standoff": 15
           },
           "zerolinecolor": "white",
           "zerolinewidth": 2
          }
         }
        },
        "title": {
         "text": "The Price of Progress: HDI vs Suicide Rate Over Time"
        },
        "xaxis": {
         "anchor": "y",
         "domain": [
          0,
          1
         ],
         "title": {
          "text": "Human Development Index"
         }
        },
        "yaxis": {
         "anchor": "x",
         "domain": [
          0,
          1
         ],
         "title": {
          "text": "Suicide Rate (per 100k)"
         }
        }
       }
      }
     },
     "metadata": {},
     "output_type": "display_data"
    },
    {
     "ename": "ValueError",
     "evalue": "\n    Invalid element(s) received for the 'size' property of scatter.marker\n        Invalid elements include: [nan, nan, nan, nan, nan, nan, nan, nan, nan, nan]\n\n    The 'size' property is a number and may be specified as:\n      - An int or float in the interval [0, inf]\n      - A tuple, list, or one-dimensional numpy array of the above",
     "output_type": "error",
     "traceback": [
      "\u001b[1;31m---------------------------------------------------------------------------\u001b[0m",
      "\u001b[1;31mValueError\u001b[0m                                Traceback (most recent call last)",
      "Cell \u001b[1;32mIn[1], line 348\u001b[0m\n\u001b[0;32m    344\u001b[0m         fig9\u001b[38;5;241m.\u001b[39mshow()\n\u001b[0;32m    346\u001b[0m     \u001b[38;5;28mprint\u001b[39m(\u001b[38;5;124m\"\u001b[39m\u001b[38;5;124mAll visualizations created successfully!\u001b[39m\u001b[38;5;124m\"\u001b[39m)\n\u001b[1;32m--> 348\u001b[0m \u001b[43mcreate_comprehensive_visualizations\u001b[49m\u001b[43m(\u001b[49m\u001b[43mpanel_df\u001b[49m\u001b[43m)\u001b[49m\n\u001b[0;32m    350\u001b[0m \u001b[38;5;66;03m# =============================================================================\u001b[39;00m\n\u001b[0;32m    351\u001b[0m \u001b[38;5;66;03m# STATISTICAL ANALYSIS AND MODELING\u001b[39;00m\n\u001b[0;32m    352\u001b[0m \u001b[38;5;66;03m# =============================================================================\u001b[39;00m\n\u001b[0;32m    354\u001b[0m \u001b[38;5;28;01mdef\u001b[39;00m \u001b[38;5;21mperform_statistical_analysis\u001b[39m(panel_df):\n",
      "Cell \u001b[1;32mIn[1], line 275\u001b[0m, in \u001b[0;36mcreate_comprehensive_visualizations\u001b[1;34m(panel_df)\u001b[0m\n\u001b[0;32m    273\u001b[0m paradox_countries \u001b[38;5;241m=\u001b[39m panel_df[panel_df[\u001b[38;5;124m'\u001b[39m\u001b[38;5;124mDevelopment_Paradox\u001b[39m\u001b[38;5;124m'\u001b[39m] \u001b[38;5;241m==\u001b[39m \u001b[38;5;241m1\u001b[39m]\n\u001b[0;32m    274\u001b[0m \u001b[38;5;28;01mif\u001b[39;00m \u001b[38;5;28mlen\u001b[39m(paradox_countries) \u001b[38;5;241m>\u001b[39m \u001b[38;5;241m0\u001b[39m:\n\u001b[1;32m--> 275\u001b[0m     fig4 \u001b[38;5;241m=\u001b[39m \u001b[43mpx\u001b[49m\u001b[38;5;241;43m.\u001b[39;49m\u001b[43mscatter\u001b[49m\u001b[43m(\u001b[49m\u001b[43mparadox_countries\u001b[49m\u001b[43m,\u001b[49m\u001b[43m \u001b[49m\n\u001b[0;32m    276\u001b[0m \u001b[43m                      \u001b[49m\u001b[43mx\u001b[49m\u001b[38;5;241;43m=\u001b[39;49m\u001b[38;5;124;43m'\u001b[39;49m\u001b[38;5;124;43mHDI\u001b[39;49m\u001b[38;5;124;43m'\u001b[39;49m\u001b[43m,\u001b[49m\u001b[43m \u001b[49m\u001b[43my\u001b[49m\u001b[38;5;241;43m=\u001b[39;49m\u001b[38;5;124;43m'\u001b[39;49m\u001b[38;5;124;43mSuicide_Rate\u001b[39;49m\u001b[38;5;124;43m'\u001b[39;49m\u001b[43m,\u001b[49m\n\u001b[0;32m    277\u001b[0m \u001b[43m                      \u001b[49m\u001b[43mcolor\u001b[49m\u001b[38;5;241;43m=\u001b[39;49m\u001b[38;5;124;43m'\u001b[39;49m\u001b[38;5;124;43mcontinent\u001b[39;49m\u001b[38;5;124;43m'\u001b[39;49m\u001b[43m,\u001b[49m\n\u001b[0;32m    278\u001b[0m \u001b[43m                      \u001b[49m\u001b[43mhover_name\u001b[49m\u001b[38;5;241;43m=\u001b[39;49m\u001b[38;5;124;43m'\u001b[39;49m\u001b[38;5;124;43mCountry Name\u001b[39;49m\u001b[38;5;124;43m'\u001b[39;49m\u001b[43m,\u001b[49m\n\u001b[0;32m    279\u001b[0m \u001b[43m                      \u001b[49m\u001b[43msize\u001b[49m\u001b[38;5;241;43m=\u001b[39;49m\u001b[38;5;124;43m'\u001b[39;49m\u001b[38;5;124;43mGDP_per_capita\u001b[39;49m\u001b[38;5;124;43m'\u001b[39;49m\u001b[43m,\u001b[49m\n\u001b[0;32m    280\u001b[0m \u001b[43m                      \u001b[49m\u001b[43mtitle\u001b[49m\u001b[38;5;241;43m=\u001b[39;49m\u001b[38;5;124;43m'\u001b[39;49m\u001b[38;5;124;43mDevelopment Paradox: High HDI but High Suicide Rate Countries\u001b[39;49m\u001b[38;5;124;43m'\u001b[39;49m\u001b[43m,\u001b[49m\n\u001b[0;32m    281\u001b[0m \u001b[43m                      \u001b[49m\u001b[43mlabels\u001b[49m\u001b[38;5;241;43m=\u001b[39;49m\u001b[43m{\u001b[49m\u001b[38;5;124;43m'\u001b[39;49m\u001b[38;5;124;43mHDI\u001b[39;49m\u001b[38;5;124;43m'\u001b[39;49m\u001b[43m:\u001b[49m\u001b[43m \u001b[49m\u001b[38;5;124;43m'\u001b[39;49m\u001b[38;5;124;43mHuman Development Index\u001b[39;49m\u001b[38;5;124;43m'\u001b[39;49m\u001b[43m,\u001b[49m\u001b[43m \u001b[49m\n\u001b[0;32m    282\u001b[0m \u001b[43m                             \u001b[49m\u001b[38;5;124;43m'\u001b[39;49m\u001b[38;5;124;43mSuicide_Rate\u001b[39;49m\u001b[38;5;124;43m'\u001b[39;49m\u001b[43m:\u001b[49m\u001b[43m \u001b[49m\u001b[38;5;124;43m'\u001b[39;49m\u001b[38;5;124;43mSuicide Rate (per 100k)\u001b[39;49m\u001b[38;5;124;43m'\u001b[39;49m\u001b[43m}\u001b[49m\u001b[43m)\u001b[49m\n\u001b[0;32m    283\u001b[0m     fig4\u001b[38;5;241m.\u001b[39mshow()\n\u001b[0;32m    285\u001b[0m \u001b[38;5;66;03m# 5. Gender Disparity in Suicide Rates\u001b[39;00m\n",
      "File \u001b[1;32mc:\\Users\\ASUS\\AppData\\Local\\Programs\\Python\\Python312\\Lib\\site-packages\\plotly\\express\\_chart_types.py:69\u001b[0m, in \u001b[0;36mscatter\u001b[1;34m(data_frame, x, y, color, symbol, size, hover_name, hover_data, custom_data, text, facet_row, facet_col, facet_col_wrap, facet_row_spacing, facet_col_spacing, error_x, error_x_minus, error_y, error_y_minus, animation_frame, animation_group, category_orders, labels, orientation, color_discrete_sequence, color_discrete_map, color_continuous_scale, range_color, color_continuous_midpoint, symbol_sequence, symbol_map, opacity, size_max, marginal_x, marginal_y, trendline, trendline_options, trendline_color_override, trendline_scope, log_x, log_y, range_x, range_y, render_mode, title, subtitle, template, width, height)\u001b[0m\n\u001b[0;32m     14\u001b[0m \u001b[38;5;28;01mdef\u001b[39;00m \u001b[38;5;21mscatter\u001b[39m(\n\u001b[0;32m     15\u001b[0m     data_frame\u001b[38;5;241m=\u001b[39m\u001b[38;5;28;01mNone\u001b[39;00m,\n\u001b[0;32m     16\u001b[0m     x\u001b[38;5;241m=\u001b[39m\u001b[38;5;28;01mNone\u001b[39;00m,\n\u001b[1;32m   (...)\u001b[0m\n\u001b[0;32m     63\u001b[0m     height\u001b[38;5;241m=\u001b[39m\u001b[38;5;28;01mNone\u001b[39;00m,\n\u001b[0;32m     64\u001b[0m ) \u001b[38;5;241m-\u001b[39m\u001b[38;5;241m>\u001b[39m go\u001b[38;5;241m.\u001b[39mFigure:\n\u001b[0;32m     65\u001b[0m \u001b[38;5;250m    \u001b[39m\u001b[38;5;124;03m\"\"\"\u001b[39;00m\n\u001b[0;32m     66\u001b[0m \u001b[38;5;124;03m    In a scatter plot, each row of `data_frame` is represented by a symbol\u001b[39;00m\n\u001b[0;32m     67\u001b[0m \u001b[38;5;124;03m    mark in 2D space.\u001b[39;00m\n\u001b[0;32m     68\u001b[0m \u001b[38;5;124;03m    \"\"\"\u001b[39;00m\n\u001b[1;32m---> 69\u001b[0m     \u001b[38;5;28;01mreturn\u001b[39;00m \u001b[43mmake_figure\u001b[49m\u001b[43m(\u001b[49m\u001b[43margs\u001b[49m\u001b[38;5;241;43m=\u001b[39;49m\u001b[38;5;28;43mlocals\u001b[39;49m\u001b[43m(\u001b[49m\u001b[43m)\u001b[49m\u001b[43m,\u001b[49m\u001b[43m \u001b[49m\u001b[43mconstructor\u001b[49m\u001b[38;5;241;43m=\u001b[39;49m\u001b[43mgo\u001b[49m\u001b[38;5;241;43m.\u001b[39;49m\u001b[43mScatter\u001b[49m\u001b[43m)\u001b[49m\n",
      "File \u001b[1;32mc:\\Users\\ASUS\\AppData\\Local\\Programs\\Python\\Python312\\Lib\\site-packages\\plotly\\express\\_core.py:2685\u001b[0m, in \u001b[0;36mmake_figure\u001b[1;34m(args, constructor, trace_patch, layout_patch)\u001b[0m\n\u001b[0;32m   2680\u001b[0m         group \u001b[38;5;241m=\u001b[39m group\u001b[38;5;241m.\u001b[39mwith_columns((nw\u001b[38;5;241m.\u001b[39mcol(var) \u001b[38;5;241m/\u001b[39m group_sum) \u001b[38;5;241m*\u001b[39m \u001b[38;5;241m100.0\u001b[39m)\n\u001b[0;32m   2682\u001b[0m patch, fit_results \u001b[38;5;241m=\u001b[39m make_trace_kwargs(\n\u001b[0;32m   2683\u001b[0m     args, trace_spec, group, mapping_labels\u001b[38;5;241m.\u001b[39mcopy(), sizeref\n\u001b[0;32m   2684\u001b[0m )\n\u001b[1;32m-> 2685\u001b[0m \u001b[43mtrace\u001b[49m\u001b[38;5;241;43m.\u001b[39;49m\u001b[43mupdate\u001b[49m\u001b[43m(\u001b[49m\u001b[43mpatch\u001b[49m\u001b[43m)\u001b[49m\n\u001b[0;32m   2686\u001b[0m \u001b[38;5;28;01mif\u001b[39;00m fit_results \u001b[38;5;129;01mis\u001b[39;00m \u001b[38;5;129;01mnot\u001b[39;00m \u001b[38;5;28;01mNone\u001b[39;00m:\n\u001b[0;32m   2687\u001b[0m     trendline_rows\u001b[38;5;241m.\u001b[39mappend(mapping_labels\u001b[38;5;241m.\u001b[39mcopy())\n",
      "File \u001b[1;32mc:\\Users\\ASUS\\AppData\\Local\\Programs\\Python\\Python312\\Lib\\site-packages\\plotly\\basedatatypes.py:5197\u001b[0m, in \u001b[0;36mBasePlotlyType.update\u001b[1;34m(self, dict1, overwrite, **kwargs)\u001b[0m\n\u001b[0;32m   5195\u001b[0m         BaseFigure\u001b[38;5;241m.\u001b[39m_perform_update(\u001b[38;5;28mself\u001b[39m, kwargs, overwrite\u001b[38;5;241m=\u001b[39moverwrite)\n\u001b[0;32m   5196\u001b[0m \u001b[38;5;28;01melse\u001b[39;00m:\n\u001b[1;32m-> 5197\u001b[0m     \u001b[43mBaseFigure\u001b[49m\u001b[38;5;241;43m.\u001b[39;49m\u001b[43m_perform_update\u001b[49m\u001b[43m(\u001b[49m\u001b[38;5;28;43mself\u001b[39;49m\u001b[43m,\u001b[49m\u001b[43m \u001b[49m\u001b[43mdict1\u001b[49m\u001b[43m,\u001b[49m\u001b[43m \u001b[49m\u001b[43moverwrite\u001b[49m\u001b[38;5;241;43m=\u001b[39;49m\u001b[43moverwrite\u001b[49m\u001b[43m)\u001b[49m\n\u001b[0;32m   5198\u001b[0m     BaseFigure\u001b[38;5;241m.\u001b[39m_perform_update(\u001b[38;5;28mself\u001b[39m, kwargs, overwrite\u001b[38;5;241m=\u001b[39moverwrite)\n\u001b[0;32m   5200\u001b[0m \u001b[38;5;28;01mreturn\u001b[39;00m \u001b[38;5;28mself\u001b[39m\n",
      "File \u001b[1;32mc:\\Users\\ASUS\\AppData\\Local\\Programs\\Python\\Python312\\Lib\\site-packages\\plotly\\basedatatypes.py:3971\u001b[0m, in \u001b[0;36mBaseFigure._perform_update\u001b[1;34m(plotly_obj, update_obj, overwrite)\u001b[0m\n\u001b[0;32m   3966\u001b[0m validator \u001b[38;5;241m=\u001b[39m plotly_obj\u001b[38;5;241m.\u001b[39m_get_prop_validator(key)\n\u001b[0;32m   3968\u001b[0m \u001b[38;5;28;01mif\u001b[39;00m \u001b[38;5;28misinstance\u001b[39m(validator, CompoundValidator) \u001b[38;5;129;01mand\u001b[39;00m \u001b[38;5;28misinstance\u001b[39m(val, \u001b[38;5;28mdict\u001b[39m):\n\u001b[0;32m   3969\u001b[0m     \u001b[38;5;66;03m# Update compound objects recursively\u001b[39;00m\n\u001b[0;32m   3970\u001b[0m     \u001b[38;5;66;03m# plotly_obj[key].update(val)\u001b[39;00m\n\u001b[1;32m-> 3971\u001b[0m     \u001b[43mBaseFigure\u001b[49m\u001b[38;5;241;43m.\u001b[39;49m\u001b[43m_perform_update\u001b[49m\u001b[43m(\u001b[49m\u001b[43mplotly_obj\u001b[49m\u001b[43m[\u001b[49m\u001b[43mkey\u001b[49m\u001b[43m]\u001b[49m\u001b[43m,\u001b[49m\u001b[43m \u001b[49m\u001b[43mval\u001b[49m\u001b[43m)\u001b[49m\n\u001b[0;32m   3972\u001b[0m \u001b[38;5;28;01melif\u001b[39;00m \u001b[38;5;28misinstance\u001b[39m(validator, CompoundArrayValidator):\n\u001b[0;32m   3973\u001b[0m     \u001b[38;5;28;01mif\u001b[39;00m plotly_obj[key]:\n\u001b[0;32m   3974\u001b[0m         \u001b[38;5;66;03m# plotly_obj has an existing non-empty array for key\u001b[39;00m\n\u001b[0;32m   3975\u001b[0m         \u001b[38;5;66;03m# In this case we merge val into the existing elements\u001b[39;00m\n",
      "File \u001b[1;32mc:\\Users\\ASUS\\AppData\\Local\\Programs\\Python\\Python312\\Lib\\site-packages\\plotly\\basedatatypes.py:3992\u001b[0m, in \u001b[0;36mBaseFigure._perform_update\u001b[1;34m(plotly_obj, update_obj, overwrite)\u001b[0m\n\u001b[0;32m   3989\u001b[0m                 plotly_obj[key] \u001b[38;5;241m=\u001b[39m val\n\u001b[0;32m   3990\u001b[0m         \u001b[38;5;28;01melse\u001b[39;00m:\n\u001b[0;32m   3991\u001b[0m             \u001b[38;5;66;03m# Assign non-compound value\u001b[39;00m\n\u001b[1;32m-> 3992\u001b[0m             \u001b[43mplotly_obj\u001b[49m\u001b[43m[\u001b[49m\u001b[43mkey\u001b[49m\u001b[43m]\u001b[49m \u001b[38;5;241m=\u001b[39m val\n\u001b[0;32m   3994\u001b[0m \u001b[38;5;28;01melif\u001b[39;00m \u001b[38;5;28misinstance\u001b[39m(plotly_obj, \u001b[38;5;28mtuple\u001b[39m):\n\u001b[0;32m   3995\u001b[0m     \u001b[38;5;28;01mif\u001b[39;00m \u001b[38;5;28mlen\u001b[39m(update_obj) \u001b[38;5;241m==\u001b[39m \u001b[38;5;241m0\u001b[39m:\n\u001b[0;32m   3996\u001b[0m         \u001b[38;5;66;03m# Nothing to do\u001b[39;00m\n",
      "File \u001b[1;32mc:\\Users\\ASUS\\AppData\\Local\\Programs\\Python\\Python312\\Lib\\site-packages\\plotly\\basedatatypes.py:4932\u001b[0m, in \u001b[0;36mBasePlotlyType.__setitem__\u001b[1;34m(self, prop, value)\u001b[0m\n\u001b[0;32m   4928\u001b[0m         \u001b[38;5;28mself\u001b[39m\u001b[38;5;241m.\u001b[39m_set_array_prop(prop, value)\n\u001b[0;32m   4930\u001b[0m     \u001b[38;5;66;03m# ### Handle simple property ###\u001b[39;00m\n\u001b[0;32m   4931\u001b[0m     \u001b[38;5;28;01melse\u001b[39;00m:\n\u001b[1;32m-> 4932\u001b[0m         \u001b[38;5;28;43mself\u001b[39;49m\u001b[38;5;241;43m.\u001b[39;49m\u001b[43m_set_prop\u001b[49m\u001b[43m(\u001b[49m\u001b[43mprop\u001b[49m\u001b[43m,\u001b[49m\u001b[43m \u001b[49m\u001b[43mvalue\u001b[49m\u001b[43m)\u001b[49m\n\u001b[0;32m   4933\u001b[0m \u001b[38;5;28;01melse\u001b[39;00m:\n\u001b[0;32m   4934\u001b[0m     \u001b[38;5;66;03m# Make sure properties dict is initialized\u001b[39;00m\n\u001b[0;32m   4935\u001b[0m     \u001b[38;5;28mself\u001b[39m\u001b[38;5;241m.\u001b[39m_init_props()\n",
      "File \u001b[1;32mc:\\Users\\ASUS\\AppData\\Local\\Programs\\Python\\Python312\\Lib\\site-packages\\plotly\\basedatatypes.py:5276\u001b[0m, in \u001b[0;36mBasePlotlyType._set_prop\u001b[1;34m(self, prop, val)\u001b[0m\n\u001b[0;32m   5274\u001b[0m         \u001b[38;5;28;01mreturn\u001b[39;00m\n\u001b[0;32m   5275\u001b[0m     \u001b[38;5;28;01melse\u001b[39;00m:\n\u001b[1;32m-> 5276\u001b[0m         \u001b[38;5;28;01mraise\u001b[39;00m err\n\u001b[0;32m   5278\u001b[0m \u001b[38;5;66;03m# val is None\u001b[39;00m\n\u001b[0;32m   5279\u001b[0m \u001b[38;5;66;03m# -----------\u001b[39;00m\n\u001b[0;32m   5280\u001b[0m \u001b[38;5;28;01mif\u001b[39;00m val \u001b[38;5;129;01mis\u001b[39;00m \u001b[38;5;28;01mNone\u001b[39;00m:\n\u001b[0;32m   5281\u001b[0m     \u001b[38;5;66;03m# Check if we should send null update\u001b[39;00m\n",
      "File \u001b[1;32mc:\\Users\\ASUS\\AppData\\Local\\Programs\\Python\\Python312\\Lib\\site-packages\\plotly\\basedatatypes.py:5271\u001b[0m, in \u001b[0;36mBasePlotlyType._set_prop\u001b[1;34m(self, prop, val)\u001b[0m\n\u001b[0;32m   5268\u001b[0m validator \u001b[38;5;241m=\u001b[39m \u001b[38;5;28mself\u001b[39m\u001b[38;5;241m.\u001b[39m_get_validator(prop)\n\u001b[0;32m   5270\u001b[0m \u001b[38;5;28;01mtry\u001b[39;00m:\n\u001b[1;32m-> 5271\u001b[0m     val \u001b[38;5;241m=\u001b[39m \u001b[43mvalidator\u001b[49m\u001b[38;5;241;43m.\u001b[39;49m\u001b[43mvalidate_coerce\u001b[49m\u001b[43m(\u001b[49m\u001b[43mval\u001b[49m\u001b[43m)\u001b[49m\n\u001b[0;32m   5272\u001b[0m \u001b[38;5;28;01mexcept\u001b[39;00m \u001b[38;5;167;01mValueError\u001b[39;00m \u001b[38;5;28;01mas\u001b[39;00m err:\n\u001b[0;32m   5273\u001b[0m     \u001b[38;5;28;01mif\u001b[39;00m \u001b[38;5;28mself\u001b[39m\u001b[38;5;241m.\u001b[39m_skip_invalid:\n",
      "File \u001b[1;32mc:\\Users\\ASUS\\AppData\\Local\\Programs\\Python\\Python312\\Lib\\site-packages\\_plotly_utils\\basevalidators.py:771\u001b[0m, in \u001b[0;36mNumberValidator.validate_coerce\u001b[1;34m(self, v)\u001b[0m\n\u001b[0;32m    766\u001b[0m             v_invalid \u001b[38;5;241m=\u001b[39m np\u001b[38;5;241m.\u001b[39mlogical_not(v_valid)\n\u001b[0;32m    767\u001b[0m             some_invalid_els \u001b[38;5;241m=\u001b[39m np\u001b[38;5;241m.\u001b[39marray(v, dtype\u001b[38;5;241m=\u001b[39m\u001b[38;5;124m\"\u001b[39m\u001b[38;5;124mobject\u001b[39m\u001b[38;5;124m\"\u001b[39m)[v_invalid][\n\u001b[0;32m    768\u001b[0m                 :\u001b[38;5;241m10\u001b[39m\n\u001b[0;32m    769\u001b[0m             ]\u001b[38;5;241m.\u001b[39mtolist()\n\u001b[1;32m--> 771\u001b[0m             \u001b[38;5;28;43mself\u001b[39;49m\u001b[38;5;241;43m.\u001b[39;49m\u001b[43mraise_invalid_elements\u001b[49m\u001b[43m(\u001b[49m\u001b[43msome_invalid_els\u001b[49m\u001b[43m)\u001b[49m\n\u001b[0;32m    773\u001b[0m     v \u001b[38;5;241m=\u001b[39m v_array  \u001b[38;5;66;03m# Always numeric numpy array\u001b[39;00m\n\u001b[0;32m    774\u001b[0m \u001b[38;5;28;01melif\u001b[39;00m \u001b[38;5;28mself\u001b[39m\u001b[38;5;241m.\u001b[39marray_ok \u001b[38;5;129;01mand\u001b[39;00m is_simple_array(v):\n\u001b[0;32m    775\u001b[0m     \u001b[38;5;66;03m# Check numeric\u001b[39;00m\n",
      "File \u001b[1;32mc:\\Users\\ASUS\\AppData\\Local\\Programs\\Python\\Python312\\Lib\\site-packages\\_plotly_utils\\basevalidators.py:314\u001b[0m, in \u001b[0;36mBaseValidator.raise_invalid_elements\u001b[1;34m(self, invalid_els)\u001b[0m\n\u001b[0;32m    312\u001b[0m     \u001b[38;5;28;01mdef\u001b[39;00m \u001b[38;5;21mraise_invalid_elements\u001b[39m(\u001b[38;5;28mself\u001b[39m, invalid_els):\n\u001b[0;32m    313\u001b[0m         \u001b[38;5;28;01mif\u001b[39;00m invalid_els:\n\u001b[1;32m--> 314\u001b[0m             \u001b[38;5;28;01mraise\u001b[39;00m \u001b[38;5;167;01mValueError\u001b[39;00m(\n\u001b[0;32m    315\u001b[0m \u001b[38;5;250m                \u001b[39m\u001b[38;5;124;03m\"\"\"\u001b[39;00m\n\u001b[0;32m    316\u001b[0m \u001b[38;5;124;03m    Invalid element(s) received for the '{name}' property of {pname}\u001b[39;00m\n\u001b[0;32m    317\u001b[0m \u001b[38;5;124;03m        Invalid elements include: {invalid}\u001b[39;00m\n\u001b[0;32m    318\u001b[0m \n\u001b[0;32m    319\u001b[0m \u001b[38;5;124;03m{valid_clr_desc}\"\"\"\u001b[39;00m\u001b[38;5;241m.\u001b[39mformat(\n\u001b[0;32m    320\u001b[0m                     name\u001b[38;5;241m=\u001b[39m\u001b[38;5;28mself\u001b[39m\u001b[38;5;241m.\u001b[39mplotly_name,\n\u001b[0;32m    321\u001b[0m                     pname\u001b[38;5;241m=\u001b[39m\u001b[38;5;28mself\u001b[39m\u001b[38;5;241m.\u001b[39mparent_name,\n\u001b[0;32m    322\u001b[0m                     invalid\u001b[38;5;241m=\u001b[39minvalid_els[:\u001b[38;5;241m10\u001b[39m],\n\u001b[0;32m    323\u001b[0m                     valid_clr_desc\u001b[38;5;241m=\u001b[39m\u001b[38;5;28mself\u001b[39m\u001b[38;5;241m.\u001b[39mdescription(),\n\u001b[0;32m    324\u001b[0m                 )\n\u001b[0;32m    325\u001b[0m             )\n",
      "\u001b[1;31mValueError\u001b[0m: \n    Invalid element(s) received for the 'size' property of scatter.marker\n        Invalid elements include: [nan, nan, nan, nan, nan, nan, nan, nan, nan, nan]\n\n    The 'size' property is a number and may be specified as:\n      - An int or float in the interval [0, inf]\n      - A tuple, list, or one-dimensional numpy array of the above"
     ]
    }
   ],
   "source": [
    "# comprehensive_analysis.py\n",
    "import pandas as pd\n",
    "import numpy as np\n",
    "import matplotlib.pyplot as plt\n",
    "import seaborn as sns\n",
    "import plotly.express as px\n",
    "import plotly.graph_objects as go\n",
    "from plotly.subplots import make_subplots\n",
    "import warnings\n",
    "warnings.filterwarnings('ignore')\n",
    "\n",
    "# Statistical analysis\n",
    "from scipy import stats\n",
    "from scipy.stats import pearsonr, spearmanr\n",
    "import statsmodels.api as sm\n",
    "import statsmodels.formula.api as smf\n",
    "from sklearn.ensemble import RandomForestRegressor\n",
    "from sklearn.model_selection import train_test_split\n",
    "from sklearn.metrics import mean_squared_error, r2_score\n",
    "from sklearn.preprocessing import StandardScaler\n",
    "\n",
    "# Set style\n",
    "plt.style.use('seaborn-v0_8')\n",
    "sns.set_palette(\"husl\")\n",
    "\n",
    "print(\"Libraries imported successfully!\")\n",
    "\n",
    "# =============================================================================\n",
    "# DATA LOADING AND MERGING\n",
    "# =============================================================================\n",
    "\n",
    "def load_and_merge_data():\n",
    "    \"\"\"Load all datasets and merge them into a comprehensive panel dataset\"\"\"\n",
    "    \n",
    "    # Load the main dataset\n",
    "    main_df = pd.read_csv('../Output/merged_clean_panel.csv')\n",
    "    print(f\"Main dataset loaded: {main_df.shape}\")\n",
    "    \n",
    "    # Load HDI time series data\n",
    "    hdi_ts = pd.read_csv('../Time-Series-Dataset/hdi-time-series-data.csv')\n",
    "    print(f\"HDI time series data loaded: {hdi_ts.shape}\")\n",
    "    \n",
    "    # Load suicide rate time series data\n",
    "    suicide_2019 = pd.read_csv('../Time-Series-Dataset/suicide-rate-by-country-2019.csv')\n",
    "    suicide_2020 = pd.read_csv('../Time-Series-Dataset/suicide-rate-by-country-2020.csv')\n",
    "    suicide_2021 = pd.read_csv('../Time-Series-Dataset/suicide-rate-by-country-2021.csv')\n",
    "    print(f\"Suicide rate data loaded: 2019({suicide_2019.shape}), 2020({suicide_2020.shape}), 2021({suicide_2021.shape})\")\n",
    "    \n",
    "    # =============================================================================\n",
    "    # DATA CLEANING AND PREPROCESSING\n",
    "    # =============================================================================\n",
    "    \n",
    "    # Clean HDI time series data\n",
    "    hdi_ts_clean = hdi_ts.rename(columns={\n",
    "        'flagCode': 'ISO3',\n",
    "        'country': 'Country Name',\n",
    "        'HumanDevelopmentIndex_2023': 'HDI_2023',\n",
    "        'HumanDevelopmentIndex_2022': 'HDI_2022',\n",
    "        'HumanDevelopmentIndex_2021': 'HDI_2021',\n",
    "        'HumanDevelopmentIndex_2020': 'HDI_2020',\n",
    "        'HumanDevelopmentIndex_2019': 'HDI_2019',\n",
    "        'HumanDevelopmentIndex_2010': 'HDI_2010'\n",
    "    })\n",
    "    \n",
    "    # Melt HDI data to long format\n",
    "    hdi_long = pd.melt(\n",
    "        hdi_ts_clean, \n",
    "        id_vars=['ISO3', 'Country Name', 'HumanDevelopmentIndex_HDITierCurrent_txt_YearFree'],\n",
    "        value_vars=['HDI_2010', 'HDI_2019', 'HDI_2020', 'HDI_2021', 'HDI_2022', 'HDI_2023'],\n",
    "        var_name='Year',\n",
    "        value_name='HDI'\n",
    "    )\n",
    "    \n",
    "    # Extract year from column name\n",
    "    hdi_long['Year'] = hdi_long['Year'].str.extract('(\\d+)').astype(int)\n",
    "    hdi_long = hdi_long.rename(columns={'HumanDevelopmentIndex_HDITierCurrent_txt_YearFree': 'HDI_Tier'})\n",
    "    \n",
    "    # Clean suicide rate data and merge into long format\n",
    "    suicide_dfs = []\n",
    "    \n",
    "    # 2019 data\n",
    "    suicide_2019_clean = suicide_2019.rename(columns={\n",
    "        'flagCode': 'ISO3',\n",
    "        'country': 'Country Name',\n",
    "        'SuicideRateCountries_2019': 'Suicide_Rate',\n",
    "        'SuicideRateMaleCountries_2019': 'Suicide_Rate_Male',\n",
    "        'SuicideRateFemaleCountries_2019': 'Suicide_Rate_Female'\n",
    "    })\n",
    "    suicide_2019_clean['Year'] = 2019\n",
    "    suicide_dfs.append(suicide_2019_clean[['ISO3', 'Country Name', 'Year', 'Suicide_Rate', 'Suicide_Rate_Male', 'Suicide_Rate_Female']])\n",
    "    \n",
    "    # 2020 data\n",
    "    suicide_2020_clean = suicide_2020.rename(columns={\n",
    "        'flagCode': 'ISO3',\n",
    "        'country': 'Country Name',\n",
    "        'SuicideRateCountries_2020': 'Suicide_Rate',\n",
    "        'SuicideRateMaleCountries_2020': 'Suicide_Rate_Male',\n",
    "        'SuicideRateFemaleCountries_2020': 'Suicide_Rate_Female'\n",
    "    })\n",
    "    suicide_2020_clean['Year'] = 2020\n",
    "    suicide_dfs.append(suicide_2020_clean[['ISO3', 'Country Name', 'Year', 'Suicide_Rate', 'Suicide_Rate_Male', 'Suicide_Rate_Female']])\n",
    "    \n",
    "    # 2021 data\n",
    "    suicide_2021_clean = suicide_2021.rename(columns={\n",
    "        'flagCode': 'ISO3',\n",
    "        'country': 'Country Name',\n",
    "        'SuicideRateCountries_2021': 'Suicide_Rate',\n",
    "        'SuicideRateMaleCountries_2021': 'Suicide_Rate_Male',\n",
    "        'SuicideRateFemaleCountries_2021': 'Suicide_Rate_Female'\n",
    "    })\n",
    "    suicide_2021_clean['Year'] = 2021\n",
    "    suicide_dfs.append(suicide_2021_clean[['ISO3', 'Country Name', 'Year', 'Suicide_Rate', 'Suicide_Rate_Male', 'Suicide_Rate_Female']])\n",
    "    \n",
    "    # Combine all suicide data\n",
    "    suicide_long = pd.concat(suicide_dfs, ignore_index=True)\n",
    "    \n",
    "    # =============================================================================\n",
    "    # MERGE ALL DATA\n",
    "    # =============================================================================\n",
    "    \n",
    "    # Merge HDI and suicide data\n",
    "    merged_ts = pd.merge(hdi_long, suicide_long, on=['ISO3', 'Country Name', 'Year'], how='outer')\n",
    "    \n",
    "    # Add GDP data from main dataset (using 2023 as base and creating estimates for other years)\n",
    "    gdp_data = main_df[['ISO3', 'GDP_per_capita', 'income_group_auto', 'continent']].copy()\n",
    "    \n",
    "    # Create GDP estimates for different years (simplified approach)\n",
    "    gdp_estimates = []\n",
    "    for year in [2019, 2020, 2021, 2022, 2023]:\n",
    "        temp_gdp = gdp_data.copy()\n",
    "        temp_gdp['Year'] = year\n",
    "        # Simple adjustment: assume 2% growth per year backwards from 2023\n",
    "        growth_factor = 1.02 ** (2023 - year)\n",
    "        temp_gdp['GDP_per_capita'] = temp_gdp['GDP_per_capita'] / growth_factor\n",
    "        gdp_estimates.append(temp_gdp)\n",
    "    \n",
    "    gdp_panel = pd.concat(gdp_estimates, ignore_index=True)\n",
    "    \n",
    "    # Final merge\n",
    "    final_panel = pd.merge(merged_ts, gdp_panel, on=['ISO3', 'Year'], how='left')\n",
    "    \n",
    "    # Fill missing continent and income group from main dataset\n",
    "    country_metadata = main_df[['ISO3', 'continent', 'income_group_auto']].drop_duplicates()\n",
    "    final_panel = pd.merge(final_panel, country_metadata, on='ISO3', how='left', suffixes=('', '_main'))\n",
    "    \n",
    "    # Use the main dataset values where available\n",
    "    final_panel['continent'] = final_panel['continent_main'].combine_first(final_panel['continent'])\n",
    "    final_panel['income_group_auto'] = final_panel['income_group_auto_main'].combine_first(final_panel['income_group_auto'])\n",
    "    final_panel = final_panel.drop(['continent_main', 'income_group_auto_main'], axis=1)\n",
    "    \n",
    "    # =============================================================================\n",
    "    # FEATURE ENGINEERING\n",
    "    # =============================================================================\n",
    "    \n",
    "    # Create development stages based on HDI\n",
    "    def categorize_hdi_tier(hdi):\n",
    "        if hdi >= 0.8:\n",
    "            return 'Very High'\n",
    "        elif hdi >= 0.7:\n",
    "            return 'High'\n",
    "        elif hdi >= 0.55:\n",
    "            return 'Medium'\n",
    "        else:\n",
    "            return 'Low'\n",
    "    \n",
    "    final_panel['HDI_Tier_Calculated'] = final_panel['HDI'].apply(categorize_hdi_tier)\n",
    "    \n",
    "    # Create HDI squared term for quadratic relationships\n",
    "    final_panel['HDI_sq'] = final_panel['HDI'] ** 2\n",
    "    \n",
    "    # Log transform GDP\n",
    "    final_panel['log_GDP_per_capita'] = np.log(final_panel['GDP_per_capita'].where(final_panel['GDP_per_capita'] > 0, np.nan))\n",
    "    \n",
    "    # Create gender disparity ratio\n",
    "    final_panel['Gender_Disparity_Ratio'] = final_panel['Suicide_Rate_Male'] / final_panel['Suicide_Rate_Female']\n",
    "    \n",
    "    # Create HDI change metrics\n",
    "    final_panel = final_panel.sort_values(['ISO3', 'Year'])\n",
    "    final_panel['HDI_change_1yr'] = final_panel.groupby('ISO3')['HDI'].diff()\n",
    "    final_panel['HDI_change_pct_1yr'] = final_panel.groupby('ISO3')['HDI'].pct_change() * 100\n",
    "    \n",
    "    # Suicide rate change metrics\n",
    "    final_panel['Suicide_Rate_change_1yr'] = final_panel.groupby('ISO3')['Suicide_Rate'].diff()\n",
    "    final_panel['Suicide_Rate_change_pct_1yr'] = final_panel.groupby('ISO3')['Suicide_Rate'].pct_change() * 100\n",
    "    \n",
    "    # Create development paradox indicator (High HDI but high suicide rate)\n",
    "    final_panel['Development_Paradox'] = ((final_panel['HDI'] > 0.7) & (final_panel['Suicide_Rate'] > final_panel['Suicide_Rate'].median())).astype(int)\n",
    "    \n",
    "    # Economic stress indicator (High HDI but low GDP growth potential)\n",
    "    final_panel['HDI_GDP_Ratio'] = final_panel['HDI'] / final_panel['GDP_per_capita'] * 1000\n",
    "    \n",
    "    print(f\"Final panel dataset created: {final_panel.shape}\")\n",
    "    return final_panel, main_df\n",
    "\n",
    "# Load and merge data\n",
    "panel_df, original_df = load_and_merge_data()\n",
    "\n",
    "# =============================================================================\n",
    "# EXPLORATORY DATA ANALYSIS\n",
    "# =============================================================================\n",
    "\n",
    "def perform_eda(panel_df):\n",
    "    \"\"\"Perform comprehensive exploratory data analysis\"\"\"\n",
    "    \n",
    "    print(\"\\n\" + \"=\"*50)\n",
    "    print(\"EXPLORATORY DATA ANALYSIS\")\n",
    "    print(\"=\"*50)\n",
    "    \n",
    "    # Basic information\n",
    "    print(\"\\n1. DATASET OVERVIEW:\")\n",
    "    print(f\"   - Total observations: {len(panel_df)}\")\n",
    "    print(f\"   - Total countries: {panel_df['ISO3'].nunique()}\")\n",
    "    print(f\"   - Years covered: {sorted(panel_df['Year'].unique())}\")\n",
    "    print(f\"   - Columns: {list(panel_df.columns)}\")\n",
    "    \n",
    "    # Missing values analysis\n",
    "    print(\"\\n2. MISSING VALUES ANALYSIS:\")\n",
    "    missing_data = panel_df.isnull().sum()\n",
    "    missing_pct = (missing_data / len(panel_df)) * 100\n",
    "    missing_df = pd.DataFrame({\n",
    "        'Missing Count': missing_data,\n",
    "        'Missing %': missing_pct\n",
    "    }).sort_values('Missing Count', ascending=False)\n",
    "    print(missing_df[missing_df['Missing Count'] > 0])\n",
    "    \n",
    "    # Descriptive statistics\n",
    "    print(\"\\n3. DESCRIPTIVE STATISTICS:\")\n",
    "    numeric_cols = ['HDI', 'Suicide_Rate', 'GDP_per_capita', 'Suicide_Rate_Male', 'Suicide_Rate_Female']\n",
    "    desc_stats = panel_df[numeric_cols].describe()\n",
    "    print(desc_stats)\n",
    "    \n",
    "    return desc_stats\n",
    "\n",
    "desc_stats = perform_eda(panel_df)\n",
    "\n",
    "# =============================================================================\n",
    "# DATA VISUALIZATION\n",
    "# =============================================================================\n",
    "\n",
    "def create_comprehensive_visualizations(panel_df):\n",
    "    \"\"\"Create comprehensive visualizations for the analysis\"\"\"\n",
    "    \n",
    "    print(\"\\n\" + \"=\"*50)\n",
    "    print(\"CREATING VISUALIZATIONS\")\n",
    "    print(\"=\"*50)\n",
    "    \n",
    "    # 1. HDI Distribution Over Time\n",
    "    fig1 = px.box(panel_df, x='Year', y='HDI', \n",
    "                  title='HDI Distribution Evolution (2019-2023)',\n",
    "                  color='Year')\n",
    "    fig1.show()\n",
    "    \n",
    "    # 2. Suicide Rate Distribution Over Time\n",
    "    fig2 = px.box(panel_df, x='Year', y='Suicide_Rate',\n",
    "                  title='Suicide Rate Distribution Evolution (2019-2021)',\n",
    "                  color='Year')\n",
    "    fig2.show()\n",
    "    \n",
    "    # 3. HDI vs Suicide Rate Scatter Plot (with time animation)\n",
    "    fig3 = px.scatter(panel_df.dropna(subset=['HDI', 'Suicide_Rate']), \n",
    "                      x='HDI', y='Suicide_Rate',\n",
    "                      color='continent',\n",
    "                      size='GDP_per_capita',\n",
    "                      hover_name='Country Name',\n",
    "                      animation_frame='Year',\n",
    "                      title='The Price of Progress: HDI vs Suicide Rate Over Time',\n",
    "                      labels={'HDI': 'Human Development Index', \n",
    "                             'Suicide_Rate': 'Suicide Rate (per 100k)'},\n",
    "                      size_max=20)\n",
    "    fig3.show()\n",
    "    \n",
    "    # 4. Development Paradox Countries\n",
    "    paradox_countries = panel_df[panel_df['Development_Paradox'] == 1]\n",
    "    if len(paradox_countries) > 0:\n",
    "        fig4 = px.scatter(paradox_countries, \n",
    "                          x='HDI', y='Suicide_Rate',\n",
    "                          color='continent',\n",
    "                          hover_name='Country Name',\n",
    "                          size='GDP_per_capita',\n",
    "                          title='Development Paradox: High HDI but High Suicide Rate Countries',\n",
    "                          labels={'HDI': 'Human Development Index', \n",
    "                                 'Suicide_Rate': 'Suicide Rate (per 100k)'})\n",
    "        fig4.show()\n",
    "    \n",
    "    # 5. Gender Disparity in Suicide Rates\n",
    "    gender_data = panel_df[['Suicide_Rate_Male', 'Suicide_Rate_Female']].dropna()\n",
    "    if len(gender_data) > 0:\n",
    "        fig5 = go.Figure()\n",
    "        fig5.add_trace(go.Box(y=gender_data['Suicide_Rate_Male'], name='Male Suicide Rate'))\n",
    "        fig5.add_trace(go.Box(y=gender_data['Suicide_Rate_Female'], name='Female Suicide Rate'))\n",
    "        fig5.update_layout(title='Gender Disparity in Suicide Rates',\n",
    "                          yaxis_title='Suicide Rate (per 100k)')\n",
    "        fig5.show()\n",
    "    \n",
    "    # 6. HDI Tier Analysis\n",
    "    fig6 = px.box(panel_df, x='HDI_Tier_Calculated', y='Suicide_Rate',\n",
    "                  color='HDI_Tier_Calculated',\n",
    "                  title='Suicide Rates Across Different Development Tiers',\n",
    "                  labels={'HDI_Tier_Calculated': 'Development Tier',\n",
    "                         'Suicide_Rate': 'Suicide Rate (per 100k)'})\n",
    "    fig6.show()\n",
    "    \n",
    "    # 7. Correlation Heatmap\n",
    "    corr_matrix = panel_df[['HDI', 'Suicide_Rate', 'GDP_per_capita', \n",
    "                           'Suicide_Rate_Male', 'Suicide_Rate_Female']].corr()\n",
    "    fig7 = px.imshow(corr_matrix, \n",
    "                     text_auto=True, \n",
    "                     color_continuous_scale='RdBu_r',\n",
    "                     title='Correlation Matrix: Development vs Suicide Indicators',\n",
    "                     aspect='auto')\n",
    "    fig7.show()\n",
    "    \n",
    "    # 8. Time Series of Average HDI and Suicide Rates\n",
    "    yearly_avg = panel_df.groupby('Year').agg({\n",
    "        'HDI': 'mean',\n",
    "        'Suicide_Rate': 'mean'\n",
    "    }).reset_index()\n",
    "    \n",
    "    fig8 = make_subplots(specs=[[{\"secondary_y\": True}]])\n",
    "    fig8.add_trace(\n",
    "        go.Scatter(x=yearly_avg['Year'], y=yearly_avg['HDI'], name=\"Average HDI\"),\n",
    "        secondary_y=False,\n",
    "    )\n",
    "    fig8.add_trace(\n",
    "        go.Scatter(x=yearly_avg['Year'], y=yearly_avg['Suicide_Rate'], name=\"Average Suicide Rate\"),\n",
    "        secondary_y=True,\n",
    "    )\n",
    "    fig8.update_layout(title_text=\"Global Trends: Average HDI vs Suicide Rate Over Time\")\n",
    "    fig8.update_xaxes(title_text=\"Year\")\n",
    "    fig8.update_yaxes(title_text=\"Average HDI\", secondary_y=False)\n",
    "    fig8.update_yaxes(title_text=\"Average Suicide Rate (per 100k)\", secondary_y=True)\n",
    "    fig8.show()\n",
    "    \n",
    "    # 9. Geographic Distribution (if ISO3 codes available)\n",
    "    latest_data = panel_df[panel_df['Year'] == 2023].dropna(subset=['HDI', 'Suicide_Rate'])\n",
    "    if len(latest_data) > 0:\n",
    "        fig9 = px.choropleth(latest_data, \n",
    "                            locations=\"ISO3\",\n",
    "                            color=\"Suicide_Rate\",\n",
    "                            hover_name=\"Country Name\",\n",
    "                            hover_data=['HDI', 'GDP_per_capita'],\n",
    "                            color_continuous_scale=\"Reds\",\n",
    "                            title=\"Global Suicide Rate Distribution (2023)\")\n",
    "        fig9.show()\n",
    "    \n",
    "    print(\"All visualizations created successfully!\")\n",
    "\n",
    "create_comprehensive_visualizations(panel_df)\n",
    "\n",
    "# =============================================================================\n",
    "# STATISTICAL ANALYSIS AND MODELING\n",
    "# =============================================================================\n",
    "\n",
    "def perform_statistical_analysis(panel_df):\n",
    "    \"\"\"Perform comprehensive statistical analysis and modeling\"\"\"\n",
    "    \n",
    "    print(\"\\n\" + \"=\"*50)\n",
    "    print(\"STATISTICAL ANALYSIS AND MODELING\")\n",
    "    print(\"=\"*50)\n",
    "    \n",
    "    # Use the most recent complete data for cross-sectional analysis\n",
    "    recent_data = panel_df[panel_df['Year'] == 2023].dropna(subset=['HDI', 'Suicide_Rate', 'GDP_per_capita'])\n",
    "    \n",
    "    print(f\"Sample size for statistical analysis: {len(recent_data)} countries\")\n",
    "    \n",
    "    # 1. Correlation Analysis\n",
    "    print(\"\\n1. CORRELATION ANALYSIS:\")\n",
    "    correlations = {}\n",
    "    for var in ['HDI', 'GDP_per_capita', 'log_GDP_per_capita']:\n",
    "        if var in recent_data.columns:\n",
    "            corr, p_value = pearsonr(recent_data[var].dropna(), recent_data['Suicide_Rate'].dropna())\n",
    "            correlations[var] = (corr, p_value)\n",
    "            print(f\"   {var} vs Suicide_Rate: r = {corr:.3f}, p = {p_value:.4f}\")\n",
    "    \n",
    "    # 2. Quadratic Relationship Analysis (The Core Hypothesis)\n",
    "    print(\"\\n2. QUADRATIC RELATIONSHIP ANALYSIS:\")\n",
    "    \n",
    "    # Prepare data for modeling\n",
    "    model_data = recent_data[['HDI', 'HDI_sq', 'Suicide_Rate', 'log_GDP_per_capita', 'continent']].dropna()\n",
    "    \n",
    "    if len(model_data) > 10:\n",
    "        # Model 1: Simple quadratic\n",
    "        X1 = sm.add_constant(model_data[['HDI', 'HDI_sq']])\n",
    "        y = model_data['Suicide_Rate']\n",
    "        model1 = sm.OLS(y, X1).fit()\n",
    "        \n",
    "        # Model 2: Quadratic with GDP control\n",
    "        X2 = sm.add_constant(model_data[['HDI', 'HDI_sq', 'log_GDP_per_capita']])\n",
    "        model2 = sm.OLS(y, X2).fit()\n",
    "        \n",
    "        # Model 3: With continent fixed effects\n",
    "        X3 = sm.add_constant(model_data[['HDI', 'HDI_sq', 'log_GDP_per_capita']])\n",
    "        model3 = sm.OLS(y, X3).fit()\n",
    "        \n",
    "        print(\"Model 1 (Quadratic HDI):\")\n",
    "        print(f\"   R-squared: {model1.rsquared:.3f}\")\n",
    "        print(f\"   HDI coefficient: {model1.params['HDI']:.3f}\")\n",
    "        print(f\"   HDI² coefficient: {model1.params['HDI_sq']:.3f}\")\n",
    "        \n",
    "        print(\"\\nModel 2 (Quadratic HDI + GDP control):\")\n",
    "        print(f\"   R-squared: {model2.rsquared:.3f}\")\n",
    "        print(f\"   HDI coefficient: {model2.params['HDI']:.3f}\")\n",
    "        print(f\"   HDI² coefficient: {model2.params['HDI_sq']:.3f}\")\n",
    "        \n",
    "        # Calculate tipping point\n",
    "        if model2.params['HDI_sq'] != 0:\n",
    "            tipping_point = -model2.params['HDI'] / (2 * model2.params['HDI_sq'])\n",
    "            print(f\"\\n   ESTIMATED TIPPING POINT: HDI = {tipping_point:.3f}\")\n",
    "            \n",
    "            # Interpret tipping point\n",
    "            if 0.3 <= tipping_point <= 1.0:\n",
    "                print(f\"   Interpretation: Below HDI {tipping_point:.3f}, development correlates with increasing suicide rates.\")\n",
    "                print(f\"   Above HDI {tipping_point:.3f}, further development correlates with decreasing suicide rates.\")\n",
    "        \n",
    "        # 3. Development Tier Analysis\n",
    "        print(\"\\n3. DEVELOPMENT TIER ANALYSIS:\")\n",
    "        tier_stats = recent_data.groupby('HDI_Tier_Calculated').agg({\n",
    "            'Suicide_Rate': ['mean', 'median', 'std', 'count'],\n",
    "            'HDI': 'mean',\n",
    "            'GDP_per_capita': 'median'\n",
    "        }).round(3)\n",
    "        print(tier_stats)\n",
    "        \n",
    "        # 4. Random Forest Feature Importance\n",
    "        print(\"\\n4. MACHINE LEARNING ANALYSIS:\")\n",
    "        # Prepare data for Random Forest\n",
    "        rf_data = recent_data[['HDI', 'GDP_per_capita', 'Suicide_Rate_Male', 'Suicide_Rate_Female', 'continent']].dropna()\n",
    "        rf_data = pd.get_dummies(rf_data, columns=['continent'], drop_first=True)\n",
    "        \n",
    "        if len(rf_data) > 10:\n",
    "            X_rf = rf_data.drop('Suicide_Rate_Male', axis=1)  # Using male suicide rate as target\n",
    "            y_rf = rf_data['Suicide_Rate_Male']\n",
    "            \n",
    "            X_train, X_test, y_train, y_test = train_test_split(X_rf, y_rf, test_size=0.3, random_state=42)\n",
    "            \n",
    "            rf_model = RandomForestRegressor(n_estimators=100, random_state=42)\n",
    "            rf_model.fit(X_train, y_train)\n",
    "            \n",
    "            y_pred = rf_model.predict(X_test)\n",
    "            rf_r2 = r2_score(y_test, y_pred)\n",
    "            rf_rmse = np.sqrt(mean_squared_error(y_test, y_pred))\n",
    "            \n",
    "            print(f\"   Random Forest R²: {rf_r2:.3f}\")\n",
    "            print(f\"   Random Forest RMSE: {rf_rmse:.3f}\")\n",
    "            \n",
    "            # Feature importance\n",
    "            feature_importance = pd.DataFrame({\n",
    "                'feature': X_rf.columns,\n",
    "                'importance': rf_model.feature_importances_\n",
    "            }).sort_values('importance', ascending=False)\n",
    "            \n",
    "            print(\"\\n   Feature Importance for Predicting Male Suicide Rates:\")\n",
    "            for _, row in feature_importance.iterrows():\n",
    "                print(f\"     {row['feature']}: {row['importance']:.3f}\")\n",
    "        \n",
    "        return model2, tipping_point if 'tipping_point' in locals() else None\n",
    "    \n",
    "    else:\n",
    "        print(\"Insufficient data for statistical modeling\")\n",
    "        return None, None\n",
    "\n",
    "# Perform statistical analysis\n",
    "best_model, tipping_point = perform_statistical_analysis(panel_df)\n",
    "\n",
    "# =============================================================================\n",
    "# DEEP DIVE: THE DEVELOPMENT PARADOX\n",
    "# =============================================================================\n",
    "\n",
    "def analyze_development_paradox(panel_df):\n",
    "    \"\"\"Deep dive analysis of countries experiencing the development paradox\"\"\"\n",
    "    \n",
    "    print(\"\\n\" + \"=\"*50)\n",
    "    print(\"DEEP DIVE: THE DEVELOPMENT PARADOX\")\n",
    "    print(\"=\"*50)\n",
    "    \n",
    "    recent_data = panel_df[panel_df['Year'] == 2023].dropna(subset=['HDI', 'Suicide_Rate', 'GDP_per_capita'])\n",
    "    \n",
    "    # Identify paradox countries (High HDI but High Suicide Rate)\n",
    "    hdi_threshold = recent_data['HDI'].quantile(0.7)  # Top 30% HDI\n",
    "    suicide_threshold = recent_data['Suicide_Rate'].quantile(0.7)  # Top 30% suicide rate\n",
    "    \n",
    "    paradox_countries = recent_data[\n",
    "        (recent_data['HDI'] >= hdi_threshold) & \n",
    "        (recent_data['Suicide_Rate'] >= suicide_threshold)\n",
    "    ]\n",
    "    \n",
    "    non_paradox_high_hdi = recent_data[\n",
    "        (recent_data['HDI'] >= hdi_threshold) & \n",
    "        (recent_data['Suicide_Rate'] < suicide_threshold)\n",
    "    ]\n",
    "    \n",
    "    print(f\"Development Paradox Countries (High HDI, High Suicide Rate): {len(paradox_countries)}\")\n",
    "    print(f\"Non-Paradox High HDI Countries (High HDI, Low Suicide Rate): {len(non_paradox_high_hdi)}\")\n",
    "    \n",
    "    if len(paradox_countries) > 0:\n",
    "        print(\"\\nDevelopment Paradox Countries:\")\n",
    "        for _, country in paradox_countries.nlargest(10, 'Suicide_Rate').iterrows():\n",
    "            print(f\"  - {country['Country Name']}: HDI={country['HDI']:.3f}, Suicide Rate={country['Suicide_Rate']:.1f}\")\n",
    "        \n",
    "        # Compare paradox vs non-paradox countries\n",
    "        print(\"\\nComparison: Paradox vs Non-Paradox High HDI Countries\")\n",
    "        comparison = pd.DataFrame({\n",
    "            'Metric': ['HDI', 'Suicide Rate', 'GDP per capita', 'Gender Disparity Ratio'],\n",
    "            'Paradox Countries': [\n",
    "                paradox_countries['HDI'].mean(),\n",
    "                paradox_countries['Suicide_Rate'].mean(),\n",
    "                paradox_countries['GDP_per_capita'].median(),\n",
    "                (paradox_countries['Suicide_Rate_Male'] / paradox_countries['Suicide_Rate_Female']).mean()\n",
    "            ],\n",
    "            'Non-Paradox Countries': [\n",
    "                non_paradox_high_hdi['HDI'].mean(),\n",
    "                non_paradox_high_hdi['Suicide_Rate'].mean(),\n",
    "                non_paradox_high_hdi['GDP_per_capita'].median(),\n",
    "                (non_paradox_high_hdi['Suicide_Rate_Male'] / non_paradox_high_hdi['Suicide_Rate_Female']).mean()\n",
    "            ]\n",
    "        })\n",
    "        print(comparison.round(3))\n",
    "        \n",
    "        # Statistical test for differences\n",
    "        t_stat, p_value = stats.ttest_ind(\n",
    "            paradox_countries['HDI'].dropna(), \n",
    "            non_paradox_high_hdi['HDI'].dropna()\n",
    "        )\n",
    "        print(f\"\\nT-test for HDI difference: t={t_stat:.3f}, p={p_value:.4f}\")\n",
    "\n",
    "analyze_development_paradox(panel_df)\n",
    "\n",
    "# =============================================================================\n",
    "# TIME SERIES ANALYSIS\n",
    "# =============================================================================\n",
    "\n",
    "def analyze_temporal_trends(panel_df):\n",
    "    \"\"\"Analyze how the relationship between HDI and suicide rates changes over time\"\"\"\n",
    "    \n",
    "    print(\"\\n\" + \"=\"*50)\n",
    "    print(\"TIME SERIES ANALYSIS\")\n",
    "    print(\"=\"*50)\n",
    "    \n",
    "    # Calculate yearly correlations\n",
    "    yearly_correlations = []\n",
    "    for year in sorted(panel_df['Year'].unique()):\n",
    "        year_data = panel_df[panel_df['Year'] == year].dropna(subset=['HDI', 'Suicide_Rate'])\n",
    "        if len(year_data) > 10:\n",
    "            corr, p_value = pearsonr(year_data['HDI'], year_data['Suicide_Rate'])\n",
    "            yearly_correlations.append({\n",
    "                'Year': year,\n",
    "                'Correlation': corr,\n",
    "                'P_Value': p_value,\n",
    "                'N_Countries': len(year_data)\n",
    "            })\n",
    "    \n",
    "    correlation_df = pd.DataFrame(yearly_correlations)\n",
    "    print(\"Yearly HDI-Suicide Rate Correlations:\")\n",
    "    print(correlation_df.round(4))\n",
    "    \n",
    "    # Plot correlation trend\n",
    "    if len(correlation_df) > 1:\n",
    "        fig = px.line(correlation_df, x='Year', y='Correlation',\n",
    "                     title='Evolution of HDI-Suicide Rate Correlation Over Time',\n",
    "                     markers=True)\n",
    "        fig.add_hline(y=0, line_dash=\"dash\", line_color=\"red\")\n",
    "        fig.show()\n",
    "    \n",
    "    # Analyze countries with significant changes\n",
    "    country_changes = []\n",
    "    for country in panel_df['ISO3'].unique():\n",
    "        country_data = panel_df[panel_df['ISO3'] == country].dropna(subset=['HDI', 'Suicide_Rate'])\n",
    "        if len(country_data) >= 2:\n",
    "            hdi_change = country_data['HDI'].iloc[-1] - country_data['HDI'].iloc[0]\n",
    "            suicide_change = country_data['Suicide_Rate'].iloc[-1] - country_data['Suicide_Rate'].iloc[0]\n",
    "            country_changes.append({\n",
    "                'ISO3': country,\n",
    "                'Country_Name': country_data['Country Name'].iloc[0],\n",
    "                'HDI_Change': hdi_change,\n",
    "                'Suicide_Change': suicide_change,\n",
    "                'Initial_HDI': country_data['HDI'].iloc[0],\n",
    "                'Final_HDI': country_data['HDI'].iloc[-1]\n",
    "            })\n",
    "    \n",
    "    changes_df = pd.DataFrame(country_changes)\n",
    "    \n",
    "    # Identify interesting patterns\n",
    "    print(\"\\nCountries with Notable Changes:\")\n",
    "    \n",
    "    # Countries where HDI increased but suicide rates decreased (Positive development)\n",
    "    positive_dev = changes_df[\n",
    "        (changes_df['HDI_Change'] > 0.02) & \n",
    "        (changes_df['Suicide_Change'] < -1)\n",
    "    ]\n",
    "    if len(positive_dev) > 0:\n",
    "        print(\"\\nPositive Development (HDI↑, Suicide Rate↓):\")\n",
    "        for _, country in positive_dev.nlargest(5, 'HDI_Change').iterrows():\n",
    "            print(f\"  - {country['Country_Name']}: HDI Δ={country['HDI_Change']:.3f}, Suicide Δ={country['Suicide_Change']:.1f}\")\n",
    "    \n",
    "    # Countries where HDI increased but suicide rates increased (The \"Price\" of progress)\n",
    "    price_of_progress = changes_df[\n",
    "        (changes_df['HDI_Change'] > 0.02) & \n",
    "        (changes_df['Suicide_Change'] > 1)\n",
    "    ]\n",
    "    if len(price_of_progress) > 0:\n",
    "        print(\"\\n'The Price of Progress' (HDI↑, Suicide Rate↑):\")\n",
    "        for _, country in price_of_progress.nlargest(5, 'Suicide_Change').iterrows():\n",
    "            print(f\"  - {country['Country_Name']}: HDI Δ={country['HDI_Change']:.3f}, Suicide Δ={country['Suicide_Change']:.1f}\")\n",
    "\n",
    "analyze_temporal_trends(panel_df)\n",
    "\n",
    "# =============================================================================\n",
    "# FINAL INSIGHTS AND CONCLUSIONS\n",
    "# =============================================================================\n",
    "\n",
    "def generate_final_insights(panel_df, best_model, tipping_point):\n",
    "    \"\"\"Generate final insights and conclusions\"\"\"\n",
    "    \n",
    "    print(\"\\n\" + \"=\"*50)\n",
    "    print(\"FINAL INSIGHTS AND CONCLUSIONS\")\n",
    "    print(\"=\"*50)\n",
    "    \n",
    "    recent_data = panel_df[panel_df['Year'] == 2023].dropna(subset=['HDI', 'Suicide_Rate', 'GDP_per_capita'])\n",
    "    \n",
    "    print(\"\\n🔍 KEY FINDINGS:\")\n",
    "    \n",
    "    # 1. Overall Relationship\n",
    "    overall_corr, overall_p = pearsonr(recent_data['HDI'], recent_data['Suicide_Rate'])\n",
    "    print(f\"1. Overall HDI-Suicide Rate Correlation: r = {overall_corr:.3f} (p = {overall_p:.4f})\")\n",
    "    \n",
    "    if overall_corr > 0:\n",
    "        print(\"   → Generally, higher development associates with higher suicide rates\")\n",
    "    else:\n",
    "        print(\"   → Generally, higher development associates with lower suicide rates\")\n",
    "    \n",
    "    # 2. Quadratic Relationship Insight\n",
    "    if best_model is not None and tipping_point is not None:\n",
    "        print(f\"2. Quadratic Relationship Confirmed:\")\n",
    "        print(f\"   → Tipping point at HDI = {tipping_point:.3f}\")\n",
    "        print(f\"   → Below this level: Development may increase suicide risk\")\n",
    "        print(f\"   → Above this level: Further development may reduce suicide risk\")\n",
    "    \n",
    "    # 3. Development Paradox\n",
    "    high_hdi_count = len(recent_data[recent_data['HDI'] > 0.8])\n",
    "    high_suicide_high_hdi = len(recent_data[(recent_data['HDI'] > 0.8) & (recent_data['Suicide_Rate'] > 10)])\n",
    "    paradox_pct = (high_suicide_high_hdi / high_hdi_count) * 100\n",
    "    \n",
    "    print(f\"3. Development Paradox Prevalence:\")\n",
    "    print(f\"   → {paradox_pct:.1f}% of very high HDI countries have suicide rates > 10 per 100k\")\n",
    "    print(f\"   → Suggests non-linear costs of development\")\n",
    "    \n",
    "    # 4. Gender Dimensions\n",
    "    male_median = recent_data['Suicide_Rate_Male'].median()\n",
    "    female_median = recent_data['Suicide_Rate_Female'].median()\n",
    "    gender_ratio = male_median / female_median\n",
    "    \n",
    "    print(f\"4. Gender Dimension:\")\n",
    "    print(f\"   → Male suicide rate median: {male_median:.1f} per 100k\")\n",
    "    print(f\"   → Female suicide rate median: {female_median:.1f} per 100k\")\n",
    "    print(f\"   → Gender ratio: {gender_ratio:.1f}x higher in males\")\n",
    "    \n",
    "    # 5. Regional Patterns\n",
    "    if 'continent' in recent_data.columns:\n",
    "        regional_patterns = recent_data.groupby('continent').agg({\n",
    "            'HDI': 'mean',\n",
    "            'Suicide_Rate': 'mean'\n",
    "        }).round(3)\n",
    "        print(f\"5. Regional Patterns:\")\n",
    "        for continent, row in regional_patterns.iterrows():\n",
    "            print(f\"   → {continent}: HDI={row['HDI']}, Suicide Rate={row['Suicide_Rate']:.1f}\")\n",
    "    \n",
    "    print(\"\\n💡 POLICY IMPLICATIONS:\")\n",
    "    print(\"   • Mental health infrastructure should keep pace with economic development\")\n",
    "    print(\"   • Targeted interventions needed during rapid development phases\")\n",
    "    print(\"   • Gender-specific mental health strategies are crucial\")\n",
    "    print(\"   • Development policies should consider psychological well-being alongside economic indicators\")\n",
    "    \n",
    "    print(\"\\n📈 RESEARCH RECOMMENDATIONS:\")\n",
    "    print(\"   • Investigate mediating factors between development and mental health\")\n",
    "    print(\"   • Study successful countries that achieved development without mental health costs\")\n",
    "    print(\"   • Examine cultural and social factors that mitigate development paradox\")\n",
    "\n",
    "generate_final_insights(panel_df, best_model, tipping_point)\n",
    "\n",
    "# =============================================================================\n",
    "# EXPORT FINAL DATASET\n",
    "# =============================================================================\n",
    "\n",
    "def export_final_dataset(panel_df):\n",
    "    \"\"\"Export the final cleaned and enriched dataset\"\"\"\n",
    "    \n",
    "    # Create a comprehensive summary dataset\n",
    "    summary_columns = [\n",
    "        'ISO3', 'Country Name', 'Year', 'continent', 'income_group_auto',\n",
    "        'HDI', 'HDI_Tier_Calculated', 'Suicide_Rate', \n",
    "        'Suicide_Rate_Male', 'Suicide_Rate_Female', 'Gender_Disparity_Ratio',\n",
    "        'GDP_per_capita', 'log_GDP_per_capita', 'HDI_sq',\n",
    "        'HDI_change_1yr', 'Suicide_Rate_change_1yr', 'Development_Paradox'\n",
    "    ]\n",
    "    \n",
    "    final_export = panel_df[summary_columns].copy()\n",
    "    \n",
    "    # Save to CSV\n",
    "    final_export.to_csv('comprehensive_development_mental_health_panel.csv', index=False)\n",
    "    print(f\"\\n✅ Final dataset exported: comprehensive_development_mental_health_panel.csv\")\n",
    "    print(f\"   - Contains {len(final_export)} observations\")\n",
    "    print(f\"   - {final_export['ISO3'].nunique()} countries\")\n",
    "    print(f\"   - Years: {sorted(final_export['Year'].unique())}\")\n",
    "\n",
    "export_final_dataset(panel_df)\n",
    "\n",
    "print(\"\\n\" + \"=\"*70)\n",
    "print(\"ANALYSIS COMPLETE! Check the generated visualizations and insights above.\")\n",
    "print(\"=\"*70)"
   ]
  }
 ],
 "metadata": {
  "kernelspec": {
   "display_name": "Python 3",
   "language": "python",
   "name": "python3"
  },
  "language_info": {
   "codemirror_mode": {
    "name": "ipython",
    "version": 3
   },
   "file_extension": ".py",
   "mimetype": "text/x-python",
   "name": "python",
   "nbconvert_exporter": "python",
   "pygments_lexer": "ipython3",
   "version": "3.12.1"
  }
 },
 "nbformat": 4,
 "nbformat_minor": 5
}
