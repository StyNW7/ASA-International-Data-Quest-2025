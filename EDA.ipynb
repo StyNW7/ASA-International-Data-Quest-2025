{
 "cells": [
  {
   "cell_type": "code",
   "execution_count": null,
   "id": "dc0a445e",
   "metadata": {},
   "outputs": [
    {
     "name": "stdout",
     "output_type": "stream",
     "text": [
      "✅ Dataset loaded: (193, 16)\n",
      "  Country Name  GDP_per_capita  Suicide_rate  HDI_2023  \\\n",
      "0  Afghanistan      485.022544        3.5450     0.496   \n",
      "1      Albania     4702.593151        3.4300     0.810   \n",
      "2      Algeria     4550.913354        2.0025     0.763   \n",
      "\n",
      "   GDP_per_capita_coverage  Suicide_rate_coverage Low_data_quality_flag  \\\n",
      "0                      1.0                    0.8     ✅ Sufficient data   \n",
      "1                      1.0                    0.8     ✅ Sufficient data   \n",
      "2                      1.0                    0.8     ✅ Sufficient data   \n",
      "\n",
      "     HDI_sq  log_GDP_per_capita  HDI_2023_lag1  GDP_per_capita_lag1  \\\n",
      "0  0.246016            6.184195            NaN                  NaN   \n",
      "1  0.656100            8.455869            NaN                  NaN   \n",
      "2  0.582169            8.423083            NaN                  NaN   \n",
      "\n",
      "   Suicide_rate_lag1 income_group_auto ISO3 continent  coverage_frac  \n",
      "0                NaN               Low  AFG      Asia            1.0  \n",
      "1                NaN      Lower-Middle  ALB    Europe            1.0  \n",
      "2                NaN      Lower-Middle  DZA    Africa            1.0  \n"
     ]
    }
   ],
   "source": [
    "# ================================\n",
    "# 1️⃣ IMPORT & LOAD CLEAN DATA\n",
    "# ================================\n",
    "import pandas as pd\n",
    "import numpy as np\n",
    "import matplotlib.pyplot as plt\n",
    "import seaborn as sns\n",
    "import plotly.express as px\n",
    "from scipy.stats import pearsonr\n",
    "\n",
    "# Style setup\n",
    "sns.set(style=\"whitegrid\", font_scale=1.1)\n",
    "plt.rcParams['figure.figsize'] = (8,5)\n",
    "\n",
    "# Load dataset\n",
    "df = pd.read_csv(\"./Output/merged_clean_panel.csv\")\n",
    "\n",
    "print(\"✅ Dataset loaded:\", df.shape)\n",
    "print(df.head(3))\n"
   ]
  },
  {
   "cell_type": "code",
   "execution_count": 37,
   "id": "81513643",
   "metadata": {},
   "outputs": [
    {
     "data": {
      "text/html": [
       "<div>\n",
       "<style scoped>\n",
       "    .dataframe tbody tr th:only-of-type {\n",
       "        vertical-align: middle;\n",
       "    }\n",
       "\n",
       "    .dataframe tbody tr th {\n",
       "        vertical-align: top;\n",
       "    }\n",
       "\n",
       "    .dataframe thead th {\n",
       "        text-align: right;\n",
       "    }\n",
       "</style>\n",
       "<table border=\"1\" class=\"dataframe\">\n",
       "  <thead>\n",
       "    <tr style=\"text-align: right;\">\n",
       "      <th></th>\n",
       "      <th>Country Name</th>\n",
       "      <th>GDP_per_capita</th>\n",
       "      <th>Suicide_rate</th>\n",
       "      <th>HDI_2023</th>\n",
       "      <th>GDP_per_capita_coverage</th>\n",
       "      <th>Suicide_rate_coverage</th>\n",
       "      <th>Low_data_quality_flag</th>\n",
       "      <th>HDI_sq</th>\n",
       "      <th>log_GDP_per_capita</th>\n",
       "      <th>HDI_2023_lag1</th>\n",
       "      <th>GDP_per_capita_lag1</th>\n",
       "      <th>Suicide_rate_lag1</th>\n",
       "      <th>income_group_auto</th>\n",
       "      <th>ISO3</th>\n",
       "      <th>continent</th>\n",
       "      <th>coverage_frac</th>\n",
       "    </tr>\n",
       "  </thead>\n",
       "  <tbody>\n",
       "    <tr>\n",
       "      <th>0</th>\n",
       "      <td>Afghanistan</td>\n",
       "      <td>485.022544</td>\n",
       "      <td>3.545000</td>\n",
       "      <td>0.496</td>\n",
       "      <td>1.0</td>\n",
       "      <td>0.8</td>\n",
       "      <td>✅ Sufficient data</td>\n",
       "      <td>0.246016</td>\n",
       "      <td>6.184195</td>\n",
       "      <td>NaN</td>\n",
       "      <td>NaN</td>\n",
       "      <td>NaN</td>\n",
       "      <td>Low</td>\n",
       "      <td>AFG</td>\n",
       "      <td>Asia</td>\n",
       "      <td>1.0</td>\n",
       "    </tr>\n",
       "    <tr>\n",
       "      <th>1</th>\n",
       "      <td>Albania</td>\n",
       "      <td>4702.593151</td>\n",
       "      <td>3.430000</td>\n",
       "      <td>0.810</td>\n",
       "      <td>1.0</td>\n",
       "      <td>0.8</td>\n",
       "      <td>✅ Sufficient data</td>\n",
       "      <td>0.656100</td>\n",
       "      <td>8.455869</td>\n",
       "      <td>NaN</td>\n",
       "      <td>NaN</td>\n",
       "      <td>NaN</td>\n",
       "      <td>Lower-Middle</td>\n",
       "      <td>ALB</td>\n",
       "      <td>Europe</td>\n",
       "      <td>1.0</td>\n",
       "    </tr>\n",
       "    <tr>\n",
       "      <th>2</th>\n",
       "      <td>Algeria</td>\n",
       "      <td>4550.913354</td>\n",
       "      <td>2.002500</td>\n",
       "      <td>0.763</td>\n",
       "      <td>1.0</td>\n",
       "      <td>0.8</td>\n",
       "      <td>✅ Sufficient data</td>\n",
       "      <td>0.582169</td>\n",
       "      <td>8.423083</td>\n",
       "      <td>NaN</td>\n",
       "      <td>NaN</td>\n",
       "      <td>NaN</td>\n",
       "      <td>Lower-Middle</td>\n",
       "      <td>DZA</td>\n",
       "      <td>Africa</td>\n",
       "      <td>1.0</td>\n",
       "    </tr>\n",
       "    <tr>\n",
       "      <th>3</th>\n",
       "      <td>Andorra</td>\n",
       "      <td>37966.897123</td>\n",
       "      <td>5.699167</td>\n",
       "      <td>0.913</td>\n",
       "      <td>1.0</td>\n",
       "      <td>0.0</td>\n",
       "      <td>⚠️ Low data reliability</td>\n",
       "      <td>0.833569</td>\n",
       "      <td>10.544470</td>\n",
       "      <td>NaN</td>\n",
       "      <td>NaN</td>\n",
       "      <td>NaN</td>\n",
       "      <td>High</td>\n",
       "      <td>AND</td>\n",
       "      <td>Europe</td>\n",
       "      <td>1.0</td>\n",
       "    </tr>\n",
       "    <tr>\n",
       "      <th>4</th>\n",
       "      <td>Angola</td>\n",
       "      <td>2528.206553</td>\n",
       "      <td>7.547500</td>\n",
       "      <td>0.616</td>\n",
       "      <td>1.0</td>\n",
       "      <td>0.8</td>\n",
       "      <td>✅ Sufficient data</td>\n",
       "      <td>0.379456</td>\n",
       "      <td>7.835265</td>\n",
       "      <td>NaN</td>\n",
       "      <td>NaN</td>\n",
       "      <td>NaN</td>\n",
       "      <td>Lower-Middle</td>\n",
       "      <td>AGO</td>\n",
       "      <td>Africa</td>\n",
       "      <td>1.0</td>\n",
       "    </tr>\n",
       "    <tr>\n",
       "      <th>...</th>\n",
       "      <td>...</td>\n",
       "      <td>...</td>\n",
       "      <td>...</td>\n",
       "      <td>...</td>\n",
       "      <td>...</td>\n",
       "      <td>...</td>\n",
       "      <td>...</td>\n",
       "      <td>...</td>\n",
       "      <td>...</td>\n",
       "      <td>...</td>\n",
       "      <td>...</td>\n",
       "      <td>...</td>\n",
       "      <td>...</td>\n",
       "      <td>...</td>\n",
       "      <td>...</td>\n",
       "      <td>...</td>\n",
       "    </tr>\n",
       "    <tr>\n",
       "      <th>188</th>\n",
       "      <td>Viet Nam</td>\n",
       "      <td>3313.681945</td>\n",
       "      <td>7.282500</td>\n",
       "      <td>0.766</td>\n",
       "      <td>1.0</td>\n",
       "      <td>0.8</td>\n",
       "      <td>✅ Sufficient data</td>\n",
       "      <td>0.586756</td>\n",
       "      <td>8.105815</td>\n",
       "      <td>NaN</td>\n",
       "      <td>NaN</td>\n",
       "      <td>NaN</td>\n",
       "      <td>Lower-Middle</td>\n",
       "      <td>VNM</td>\n",
       "      <td>Asia</td>\n",
       "      <td>1.0</td>\n",
       "    </tr>\n",
       "    <tr>\n",
       "      <th>189</th>\n",
       "      <td>West Bank and Gaza</td>\n",
       "      <td>3174.028802</td>\n",
       "      <td>0.657500</td>\n",
       "      <td>0.674</td>\n",
       "      <td>1.0</td>\n",
       "      <td>0.8</td>\n",
       "      <td>✅ Sufficient data</td>\n",
       "      <td>0.454276</td>\n",
       "      <td>8.062757</td>\n",
       "      <td>NaN</td>\n",
       "      <td>NaN</td>\n",
       "      <td>NaN</td>\n",
       "      <td>Lower-Middle</td>\n",
       "      <td>PSE</td>\n",
       "      <td>Asia</td>\n",
       "      <td>1.0</td>\n",
       "    </tr>\n",
       "    <tr>\n",
       "      <th>190</th>\n",
       "      <td>Yemen, Rep.</td>\n",
       "      <td>983.981958</td>\n",
       "      <td>4.262500</td>\n",
       "      <td>0.470</td>\n",
       "      <td>1.0</td>\n",
       "      <td>0.8</td>\n",
       "      <td>✅ Sufficient data</td>\n",
       "      <td>0.220900</td>\n",
       "      <td>6.891608</td>\n",
       "      <td>NaN</td>\n",
       "      <td>NaN</td>\n",
       "      <td>NaN</td>\n",
       "      <td>Low</td>\n",
       "      <td>YEM</td>\n",
       "      <td>Asia</td>\n",
       "      <td>1.0</td>\n",
       "    </tr>\n",
       "    <tr>\n",
       "      <th>191</th>\n",
       "      <td>Zambia</td>\n",
       "      <td>1283.824611</td>\n",
       "      <td>6.102500</td>\n",
       "      <td>0.595</td>\n",
       "      <td>1.0</td>\n",
       "      <td>0.8</td>\n",
       "      <td>✅ Sufficient data</td>\n",
       "      <td>0.354025</td>\n",
       "      <td>7.157599</td>\n",
       "      <td>NaN</td>\n",
       "      <td>NaN</td>\n",
       "      <td>NaN</td>\n",
       "      <td>Low</td>\n",
       "      <td>ZMB</td>\n",
       "      <td>Africa</td>\n",
       "      <td>1.0</td>\n",
       "    </tr>\n",
       "    <tr>\n",
       "      <th>192</th>\n",
       "      <td>Zimbabwe</td>\n",
       "      <td>1347.690815</td>\n",
       "      <td>16.200000</td>\n",
       "      <td>0.598</td>\n",
       "      <td>1.0</td>\n",
       "      <td>0.8</td>\n",
       "      <td>✅ Sufficient data</td>\n",
       "      <td>0.357604</td>\n",
       "      <td>7.206148</td>\n",
       "      <td>NaN</td>\n",
       "      <td>NaN</td>\n",
       "      <td>NaN</td>\n",
       "      <td>Low</td>\n",
       "      <td>ZWE</td>\n",
       "      <td>Africa</td>\n",
       "      <td>1.0</td>\n",
       "    </tr>\n",
       "  </tbody>\n",
       "</table>\n",
       "<p>193 rows × 16 columns</p>\n",
       "</div>"
      ],
      "text/plain": [
       "           Country Name  GDP_per_capita  Suicide_rate  HDI_2023  \\\n",
       "0           Afghanistan      485.022544      3.545000     0.496   \n",
       "1               Albania     4702.593151      3.430000     0.810   \n",
       "2               Algeria     4550.913354      2.002500     0.763   \n",
       "3               Andorra    37966.897123      5.699167     0.913   \n",
       "4                Angola     2528.206553      7.547500     0.616   \n",
       "..                  ...             ...           ...       ...   \n",
       "188            Viet Nam     3313.681945      7.282500     0.766   \n",
       "189  West Bank and Gaza     3174.028802      0.657500     0.674   \n",
       "190         Yemen, Rep.      983.981958      4.262500     0.470   \n",
       "191              Zambia     1283.824611      6.102500     0.595   \n",
       "192            Zimbabwe     1347.690815     16.200000     0.598   \n",
       "\n",
       "     GDP_per_capita_coverage  Suicide_rate_coverage    Low_data_quality_flag  \\\n",
       "0                        1.0                    0.8        ✅ Sufficient data   \n",
       "1                        1.0                    0.8        ✅ Sufficient data   \n",
       "2                        1.0                    0.8        ✅ Sufficient data   \n",
       "3                        1.0                    0.0  ⚠️ Low data reliability   \n",
       "4                        1.0                    0.8        ✅ Sufficient data   \n",
       "..                       ...                    ...                      ...   \n",
       "188                      1.0                    0.8        ✅ Sufficient data   \n",
       "189                      1.0                    0.8        ✅ Sufficient data   \n",
       "190                      1.0                    0.8        ✅ Sufficient data   \n",
       "191                      1.0                    0.8        ✅ Sufficient data   \n",
       "192                      1.0                    0.8        ✅ Sufficient data   \n",
       "\n",
       "       HDI_sq  log_GDP_per_capita  HDI_2023_lag1  GDP_per_capita_lag1  \\\n",
       "0    0.246016            6.184195            NaN                  NaN   \n",
       "1    0.656100            8.455869            NaN                  NaN   \n",
       "2    0.582169            8.423083            NaN                  NaN   \n",
       "3    0.833569           10.544470            NaN                  NaN   \n",
       "4    0.379456            7.835265            NaN                  NaN   \n",
       "..        ...                 ...            ...                  ...   \n",
       "188  0.586756            8.105815            NaN                  NaN   \n",
       "189  0.454276            8.062757            NaN                  NaN   \n",
       "190  0.220900            6.891608            NaN                  NaN   \n",
       "191  0.354025            7.157599            NaN                  NaN   \n",
       "192  0.357604            7.206148            NaN                  NaN   \n",
       "\n",
       "     Suicide_rate_lag1 income_group_auto ISO3 continent  coverage_frac  \n",
       "0                  NaN               Low  AFG      Asia            1.0  \n",
       "1                  NaN      Lower-Middle  ALB    Europe            1.0  \n",
       "2                  NaN      Lower-Middle  DZA    Africa            1.0  \n",
       "3                  NaN              High  AND    Europe            1.0  \n",
       "4                  NaN      Lower-Middle  AGO    Africa            1.0  \n",
       "..                 ...               ...  ...       ...            ...  \n",
       "188                NaN      Lower-Middle  VNM      Asia            1.0  \n",
       "189                NaN      Lower-Middle  PSE      Asia            1.0  \n",
       "190                NaN               Low  YEM      Asia            1.0  \n",
       "191                NaN               Low  ZMB    Africa            1.0  \n",
       "192                NaN               Low  ZWE    Africa            1.0  \n",
       "\n",
       "[193 rows x 16 columns]"
      ]
     },
     "execution_count": 37,
     "metadata": {},
     "output_type": "execute_result"
    }
   ],
   "source": [
    "df"
   ]
  },
  {
   "cell_type": "code",
   "execution_count": 29,
   "id": "76f953a7",
   "metadata": {},
   "outputs": [
    {
     "name": "stdout",
     "output_type": "stream",
     "text": [
      "\n",
      "📊 Descriptive Statistics:\n"
     ]
    },
    {
     "data": {
      "text/html": [
       "<div>\n",
       "<style scoped>\n",
       "    .dataframe tbody tr th:only-of-type {\n",
       "        vertical-align: middle;\n",
       "    }\n",
       "\n",
       "    .dataframe tbody tr th {\n",
       "        vertical-align: top;\n",
       "    }\n",
       "\n",
       "    .dataframe thead th {\n",
       "        text-align: right;\n",
       "    }\n",
       "</style>\n",
       "<table border=\"1\" class=\"dataframe\">\n",
       "  <thead>\n",
       "    <tr style=\"text-align: right;\">\n",
       "      <th></th>\n",
       "      <th>HDI_2023</th>\n",
       "      <th>GDP_per_capita</th>\n",
       "      <th>Suicide_rate</th>\n",
       "      <th>log_GDP_per_capita</th>\n",
       "      <th>HDI_sq</th>\n",
       "    </tr>\n",
       "  </thead>\n",
       "  <tbody>\n",
       "    <tr>\n",
       "      <th>count</th>\n",
       "      <td>193.000</td>\n",
       "      <td>193.000</td>\n",
       "      <td>193.000</td>\n",
       "      <td>193.000</td>\n",
       "      <td>193.000</td>\n",
       "    </tr>\n",
       "    <tr>\n",
       "      <th>mean</th>\n",
       "      <td>0.741</td>\n",
       "      <td>13768.357</td>\n",
       "      <td>8.717</td>\n",
       "      <td>8.687</td>\n",
       "      <td>0.572</td>\n",
       "    </tr>\n",
       "    <tr>\n",
       "      <th>std</th>\n",
       "      <td>0.152</td>\n",
       "      <td>18681.653</td>\n",
       "      <td>6.086</td>\n",
       "      <td>1.377</td>\n",
       "      <td>0.217</td>\n",
       "    </tr>\n",
       "    <tr>\n",
       "      <th>min</th>\n",
       "      <td>0.388</td>\n",
       "      <td>258.422</td>\n",
       "      <td>0.262</td>\n",
       "      <td>5.555</td>\n",
       "      <td>0.151</td>\n",
       "    </tr>\n",
       "    <tr>\n",
       "      <th>25%</th>\n",
       "      <td>0.622</td>\n",
       "      <td>1996.492</td>\n",
       "      <td>4.465</td>\n",
       "      <td>7.599</td>\n",
       "      <td>0.387</td>\n",
       "    </tr>\n",
       "    <tr>\n",
       "      <th>50%</th>\n",
       "      <td>0.762</td>\n",
       "      <td>5851.948</td>\n",
       "      <td>7.252</td>\n",
       "      <td>8.675</td>\n",
       "      <td>0.581</td>\n",
       "    </tr>\n",
       "    <tr>\n",
       "      <th>75%</th>\n",
       "      <td>0.862</td>\n",
       "      <td>17011.981</td>\n",
       "      <td>12.022</td>\n",
       "      <td>9.742</td>\n",
       "      <td>0.743</td>\n",
       "    </tr>\n",
       "    <tr>\n",
       "      <th>max</th>\n",
       "      <td>0.972</td>\n",
       "      <td>107599.576</td>\n",
       "      <td>29.672</td>\n",
       "      <td>11.586</td>\n",
       "      <td>0.945</td>\n",
       "    </tr>\n",
       "  </tbody>\n",
       "</table>\n",
       "</div>"
      ],
      "text/plain": [
       "       HDI_2023  GDP_per_capita  Suicide_rate  log_GDP_per_capita   HDI_sq\n",
       "count   193.000         193.000       193.000             193.000  193.000\n",
       "mean      0.741       13768.357         8.717               8.687    0.572\n",
       "std       0.152       18681.653         6.086               1.377    0.217\n",
       "min       0.388         258.422         0.262               5.555    0.151\n",
       "25%       0.622        1996.492         4.465               7.599    0.387\n",
       "50%       0.762        5851.948         7.252               8.675    0.581\n",
       "75%       0.862       17011.981        12.022               9.742    0.743\n",
       "max       0.972      107599.576        29.672              11.586    0.945"
      ]
     },
     "metadata": {},
     "output_type": "display_data"
    },
    {
     "name": "stdout",
     "output_type": "stream",
     "text": [
      "\n",
      "🔗 Correlation Matrix:\n"
     ]
    },
    {
     "data": {
      "text/html": [
       "<div>\n",
       "<style scoped>\n",
       "    .dataframe tbody tr th:only-of-type {\n",
       "        vertical-align: middle;\n",
       "    }\n",
       "\n",
       "    .dataframe tbody tr th {\n",
       "        vertical-align: top;\n",
       "    }\n",
       "\n",
       "    .dataframe thead th {\n",
       "        text-align: right;\n",
       "    }\n",
       "</style>\n",
       "<table border=\"1\" class=\"dataframe\">\n",
       "  <thead>\n",
       "    <tr style=\"text-align: right;\">\n",
       "      <th></th>\n",
       "      <th>HDI_2023</th>\n",
       "      <th>GDP_per_capita</th>\n",
       "      <th>Suicide_rate</th>\n",
       "      <th>log_GDP_per_capita</th>\n",
       "      <th>HDI_sq</th>\n",
       "    </tr>\n",
       "  </thead>\n",
       "  <tbody>\n",
       "    <tr>\n",
       "      <th>HDI_2023</th>\n",
       "      <td>1.000</td>\n",
       "      <td>0.690</td>\n",
       "      <td>0.228</td>\n",
       "      <td>0.907</td>\n",
       "      <td>0.994</td>\n",
       "    </tr>\n",
       "    <tr>\n",
       "      <th>GDP_per_capita</th>\n",
       "      <td>0.690</td>\n",
       "      <td>1.000</td>\n",
       "      <td>0.186</td>\n",
       "      <td>0.820</td>\n",
       "      <td>0.739</td>\n",
       "    </tr>\n",
       "    <tr>\n",
       "      <th>Suicide_rate</th>\n",
       "      <td>0.228</td>\n",
       "      <td>0.186</td>\n",
       "      <td>1.000</td>\n",
       "      <td>0.219</td>\n",
       "      <td>0.241</td>\n",
       "    </tr>\n",
       "    <tr>\n",
       "      <th>log_GDP_per_capita</th>\n",
       "      <td>0.907</td>\n",
       "      <td>0.820</td>\n",
       "      <td>0.219</td>\n",
       "      <td>1.000</td>\n",
       "      <td>0.922</td>\n",
       "    </tr>\n",
       "    <tr>\n",
       "      <th>HDI_sq</th>\n",
       "      <td>0.994</td>\n",
       "      <td>0.739</td>\n",
       "      <td>0.241</td>\n",
       "      <td>0.922</td>\n",
       "      <td>1.000</td>\n",
       "    </tr>\n",
       "  </tbody>\n",
       "</table>\n",
       "</div>"
      ],
      "text/plain": [
       "                    HDI_2023  GDP_per_capita  Suicide_rate  \\\n",
       "HDI_2023               1.000           0.690         0.228   \n",
       "GDP_per_capita         0.690           1.000         0.186   \n",
       "Suicide_rate           0.228           0.186         1.000   \n",
       "log_GDP_per_capita     0.907           0.820         0.219   \n",
       "HDI_sq                 0.994           0.739         0.241   \n",
       "\n",
       "                    log_GDP_per_capita  HDI_sq  \n",
       "HDI_2023                         0.907   0.994  \n",
       "GDP_per_capita                   0.820   0.739  \n",
       "Suicide_rate                     0.219   0.241  \n",
       "log_GDP_per_capita               1.000   0.922  \n",
       "HDI_sq                           0.922   1.000  "
      ]
     },
     "metadata": {},
     "output_type": "display_data"
    },
    {
     "data": {
      "image/png": "[encoded data removed]",
      "text/plain": [
       "<Figure size 600x400 with 2 Axes>"
      ]
     },
     "metadata": {},
     "output_type": "display_data"
    }
   ],
   "source": [
    "# ================================\n",
    "# 2️⃣ BASIC SUMMARY & CORRELATION\n",
    "# ================================\n",
    "numeric_cols = ['HDI_2023', 'GDP_per_capita', 'Suicide_rate', 'log_GDP_per_capita', 'HDI_sq']\n",
    "print(\"\\n📊 Descriptive Statistics:\")\n",
    "display(df[numeric_cols].describe().round(3))\n",
    "\n",
    "corr = df[numeric_cols].corr()\n",
    "print(\"\\n🔗 Correlation Matrix:\")\n",
    "display(corr.round(3))\n",
    "\n",
    "plt.figure(figsize=(6,4))\n",
    "sns.heatmap(corr, annot=True, cmap=\"coolwarm\", fmt=\".2f\", linewidths=0.5)\n",
    "plt.title(\"Correlation Heatmap: The Price of Progress\")\n",
    "plt.show()\n"
   ]
  },
  {
   "cell_type": "code",
   "execution_count": 30,
   "id": "60e3d9fe",
   "metadata": {},
   "outputs": [
    {
     "data": {
      "image/png": "[encoded data removed]",
      "text/plain": [
       "<Figure size 800x600 with 1 Axes>"
      ]
     },
     "metadata": {},
     "output_type": "display_data"
    },
    {
     "name": "stdout",
     "output_type": "stream",
     "text": [
      "HDI ↔ Suicide Rate: r = 0.228, p = 0.0014 (n = 193)\n"
     ]
    }
   ],
   "source": [
    "# ================================\n",
    "# 3️⃣ SCATTER: HDI vs Suicide Rate\n",
    "# ================================\n",
    "plt.figure(figsize=(8,6))\n",
    "sns.scatterplot(\n",
    "    data=df,\n",
    "    x='HDI_2023',\n",
    "    y='Suicide_rate',\n",
    "    hue='continent',\n",
    "    style='income_group_auto',\n",
    "    s=80,\n",
    "    alpha=0.8\n",
    ")\n",
    "sns.regplot(\n",
    "    data=df,\n",
    "    x='HDI_2023',\n",
    "    y='Suicide_rate',\n",
    "    scatter=False,\n",
    "    color='black',\n",
    "    ci=95,\n",
    "    lowess=True\n",
    ")\n",
    "plt.title(\"HDI vs Suicide Rate — Is Development a Double-Edged Sword?\")\n",
    "plt.xlabel(\"Human Development Index (2023)\")\n",
    "plt.ylabel(\"Suicide Rate (per 100k)\")\n",
    "plt.legend(title='Continent', bbox_to_anchor=(1.05,1), loc='upper left')\n",
    "plt.show()\n",
    "\n",
    "# Pearson r\n",
    "mask = df[['HDI_2023','Suicide_rate']].dropna()\n",
    "r, p = pearsonr(mask['HDI_2023'], mask['Suicide_rate'])\n",
    "print(f\"HDI ↔ Suicide Rate: r = {r:.3f}, p = {p:.4f} (n = {len(mask)})\")\n"
   ]
  },
  {
   "cell_type": "code",
   "execution_count": 31,
   "id": "fd7fc650",
   "metadata": {},
   "outputs": [
    {
     "data": {
      "image/png": "[encoded data removed]",
      "text/plain": [
       "<Figure size 800x600 with 1 Axes>"
      ]
     },
     "metadata": {},
     "output_type": "display_data"
    },
    {
     "name": "stdout",
     "output_type": "stream",
     "text": [
      "GDP (log) ↔ Suicide Rate: r = 0.219, p = 0.0022 (n = 193)\n"
     ]
    }
   ],
   "source": [
    "# ================================\n",
    "# 4️⃣ SCATTER: GDP (log) vs Suicide\n",
    "# ================================\n",
    "plt.figure(figsize=(8,6))\n",
    "sns.scatterplot(\n",
    "    data=df,\n",
    "    x='log_GDP_per_capita',\n",
    "    y='Suicide_rate',\n",
    "    hue='continent',\n",
    "    s=70,\n",
    "    alpha=0.8\n",
    ")\n",
    "sns.regplot(\n",
    "    data=df,\n",
    "    x='log_GDP_per_capita',\n",
    "    y='Suicide_rate',\n",
    "    scatter=False,\n",
    "    color='black',\n",
    "    ci=95,\n",
    "    lowess=True\n",
    ")\n",
    "plt.title(\"GDP per Capita (log) vs Suicide Rate\")\n",
    "plt.xlabel(\"Log GDP per Capita\")\n",
    "plt.ylabel(\"Suicide Rate (per 100k)\")\n",
    "plt.legend(title='Continent', bbox_to_anchor=(1.05,1), loc='upper left')\n",
    "plt.show()\n",
    "\n",
    "mask = df[['log_GDP_per_capita','Suicide_rate']].dropna()\n",
    "r, p = pearsonr(mask['log_GDP_per_capita'], mask['Suicide_rate'])\n",
    "print(f\"GDP (log) ↔ Suicide Rate: r = {r:.3f}, p = {p:.4f} (n = {len(mask)})\")\n"
   ]
  },
  {
   "cell_type": "code",
   "execution_count": 32,
   "id": "def3768f",
   "metadata": {},
   "outputs": [
    {
     "name": "stderr",
     "output_type": "stream",
     "text": [
      "C:\\Users\\ASUS\\AppData\\Local\\Temp\\ipykernel_6024\\3401059734.py:5: FutureWarning: \n",
      "\n",
      "Passing `palette` without assigning `hue` is deprecated and will be removed in v0.14.0. Assign the `x` variable to `hue` and set `legend=False` for the same effect.\n",
      "\n",
      "  sns.boxplot(\n"
     ]
    },
    {
     "data": {
      "image/png": "[encoded data removed]",
      "text/plain": [
       "<Figure size 800x500 with 1 Axes>"
      ]
     },
     "metadata": {},
     "output_type": "display_data"
    }
   ],
   "source": [
    "# ================================\n",
    "# 5️⃣ BOX PLOT: Suicide Rate by Income Group\n",
    "# ================================\n",
    "plt.figure(figsize=(8,5))\n",
    "sns.boxplot(\n",
    "    data=df,\n",
    "    x='income_group_auto',\n",
    "    y='Suicide_rate',\n",
    "    order=['Low','Lower-Middle','Upper-Middle','High'],\n",
    "    palette='viridis'\n",
    ")\n",
    "sns.stripplot(\n",
    "    data=df,\n",
    "    x='income_group_auto',\n",
    "    y='Suicide_rate',\n",
    "    color='black',\n",
    "    alpha=0.4,\n",
    "    size=4\n",
    ")\n",
    "plt.title(\"Suicide Rate by Income Group\")\n",
    "plt.xlabel(\"Income Group (Auto-Generated)\")\n",
    "plt.ylabel(\"Suicide Rate (per 100k)\")\n",
    "plt.show()\n"
   ]
  },
  {
   "cell_type": "code",
   "execution_count": 33,
   "id": "f27732d5",
   "metadata": {},
   "outputs": [
    {
     "data": {
      "application/vnd.plotly.v1+json": {
       "config": {
        "plotlyServerURL": "https://plot.ly"
       },
       "data": [
        {
         "coloraxis": "coloraxis",
         "customdata": [
          [
           0.496,
           485.022544338633,
           "Low"
          ],
          [
           0.81,
           4702.593150952894,
           "Lower-Middle"
          ],
          [
           0.763,
           4550.9133539963495,
           "Lower-Middle"
          ],
          [
           0.913,
           37966.89712292873,
           "High"
          ],
          [
           0.616,
           2528.2065526619567,
           "Lower-Middle"
          ],
          [
           0.851,
           17011.981287785093,
           "Upper-Middle"
          ],
          [
           0.865,
           12577.970303337312,
           "Upper-Middle"
          ],
          [
           0.811,
           4291.837438532645,
           "Lower-Middle"
          ],
          [
           0.958,
           59174.9250323034,
           "High"
          ],
          [
           0.93,
           45699.04219450495,
           "High"
          ],
          [
           0.789,
           5329.110062408816,
           "Lower-Middle"
          ],
          [
           0.82,
           29749.50440401837,
           "High"
          ],
          [
           0.899,
           24368.313234096808,
           "High"
          ],
          [
           0.685,
           1627.5108161614378,
           "Low"
          ],
          [
           0.811,
           17853.124171119747,
           "Upper-Middle"
          ],
          [
           0.824,
           6269.997382956399,
           "Lower-Middle"
          ],
          [
           0.951,
           42740.503514460965,
           "High"
          ],
          [
           0.721,
           5742.746890584008,
           "Lower-Middle"
          ],
          [
           0.515,
           1141.441114743784,
           "Low"
          ],
          [
           0.698,
           3283.1994209410136,
           "Lower-Middle"
          ],
          [
           0.733,
           3148.045339935347,
           "Lower-Middle"
          ],
          [
           0.804,
           5751.347308944572,
           "Lower-Middle"
          ],
          [
           0.731,
           6821.064797220944,
           "Lower-Middle"
          ],
          [
           0.786,
           8752.020504484579,
           "Upper-Middle"
          ],
          [
           0.837,
           29403.55065050512,
           "High"
          ],
          [
           0.845,
           8815.414857440772,
           "Upper-Middle"
          ],
          [
           0.459,
           722.0384341543958,
           "Low"
          ],
          [
           0.439,
           258.4220770660391,
           "Low"
          ],
          [
           0.668,
           3738.988299914436,
           "Lower-Middle"
          ],
          [
           0.606,
           1950.2555327942348,
           "Low"
          ],
          [
           0.588,
           1453.618899336538,
           "Low"
          ],
          [
           0.939,
           44538.12871675359,
           "High"
          ],
          [
           0.414,
           398.1232264201741,
           "Low"
          ],
          [
           0.416,
           898.5486564042661,
           "Low"
          ],
          [
           0.878,
           13681.448949055864,
           "Upper-Middle"
          ],
          [
           0.797,
           10805.788872320349,
           "Upper-Middle"
          ],
          [
           0.788,
           6399.872076388859,
           "Lower-Middle"
          ],
          [
           0.603,
           1456.4988169862852,
           "Low"
          ],
          [
           0.522,
           483.90296886544473,
           "Low"
          ],
          [
           0.649,
           1781.7540391942428,
           "Low"
          ],
          [
           0.833,
           12926.4479114404,
           "Upper-Middle"
          ],
          [
           0.582,
           2107.016532991279,
           "Low"
          ],
          [
           0.889,
           14851.556522314891,
           "Upper-Middle"
          ],
          [
           0.762,
           7685.769260722713,
           "Upper-Middle"
          ],
          [
           0.913,
           29123.884765625,
           "High"
          ],
          [
           0.915,
           20066.21267172922,
           "High"
          ],
          [
           0.962,
           57891.36861618352,
           "High"
          ],
          [
           0.513,
           2809.2923505689114,
           "Lower-Middle"
          ],
          [
           0.761,
           8103.573165276459,
           "Upper-Middle"
          ],
          [
           0.776,
           8074.933354914012,
           "Upper-Middle"
          ],
          [
           0.777,
           5862.552813536836,
           "Lower-Middle"
          ],
          [
           0.754,
           3781.571330775777,
           "Lower-Middle"
          ],
          [
           0.678,
           4120.263517076392,
           "Lower-Middle"
          ],
          [
           0.674,
           5836.890278439279,
           "Lower-Middle"
          ],
          [
           0.503,
           13205.7666875006,
           "Upper-Middle"
          ],
          [
           0.905,
           20574.64309656192,
           "High"
          ],
          [
           0.695,
           3651.307020355153,
           "Lower-Middle"
          ],
          [
           0.497,
           794.8338756012587,
           "Low"
          ],
          [
           0.731,
           5200.689510375193,
           "Lower-Middle"
          ],
          [
           0.948,
           45546.99730774808,
           "High"
          ],
          [
           0.92,
           37877.78714253458,
           "High"
          ],
          [
           0.733,
           6616.595137767338,
           "Lower-Middle"
          ],
          [
           0.524,
           682.3728676064538,
           "Low"
          ],
          [
           0.844,
           5052.115486245547,
           "Lower-Middle"
          ],
          [
           0.959,
           43704.69870516892,
           "High"
          ],
          [
           0.628,
           1996.4917386603024,
           "Low"
          ],
          [
           0.908,
           19060.225970022413,
           "Upper-Middle"
          ],
          [
           0.791,
           9226.1337629111,
           "Upper-Middle"
          ],
          [
           0.662,
           4167.790033257268,
           "Lower-Middle"
          ],
          [
           0.5,
           946.609968508973,
           "Low"
          ],
          [
           0.514,
           715.7656693046822,
           "Low"
          ],
          [
           0.776,
           9889.49552942015,
           "Upper-Middle"
          ],
          [
           0.554,
           1342.5824861247845,
           "Low"
          ],
          [
           0.645,
           2394.63468285958,
           "Lower-Middle"
          ],
          [
           0.955,
           43747.959644907656,
           "High"
          ],
          [
           0.87,
           15356.661925507196,
           "Upper-Middle"
          ],
          [
           0.972,
           56006.01833049752,
           "High"
          ],
          [
           0.685,
           1937.8820378873256,
           "Low"
          ],
          [
           0.728,
           3833.45497261269,
           "Lower-Middle"
          ],
          [
           0.799,
           5226.1066383711095,
           "Lower-Middle"
          ],
          [
           0.695,
           4491.330920894929,
           "Lower-Middle"
          ],
          [
           0.949,
           84573.53728261121,
           "High"
          ],
          [
           0.919,
           39878.74905447364,
           "High"
          ],
          [
           0.915,
           31925.845193250767,
           "High"
          ],
          [
           0.72,
           5092.938836616722,
           "Lower-Middle"
          ],
          [
           0.925,
           35760.95499079595,
           "High"
          ],
          [
           0.754,
           3887.768692091739,
           "Lower-Middle"
          ],
          [
           0.837,
           10831.334367431711,
           "Upper-Middle"
          ],
          [
           0.628,
           1659.6323976939202,
           "Low"
          ],
          [
           0.644,
           1851.596715648054,
           "Low"
          ],
          [
           0.937,
           32108.965176163107,
           "High"
          ],
          [
           0.852,
           26322.150097614904,
           "High"
          ],
          [
           0.72,
           1163.0019324264022,
           "Low"
          ],
          [
           0.617,
           2538.064126372469,
           "Lower-Middle"
          ],
          [
           0.889,
           15564.866089755047,
           "Upper-Middle"
          ],
          [
           0.752,
           6955.211306391046,
           "Upper-Middle"
          ],
          [
           0.55,
           995.402556043642,
           "Low"
          ],
          [
           0.51,
           633.5066933630263,
           "Low"
          ],
          [
           0.721,
           7926.744452493747,
           "Upper-Middle"
          ],
          [
           0.938,
           12856.822455578022,
           "Upper-Middle"
          ],
          [
           0.895,
           17786.900458662298,
           "Upper-Middle"
          ],
          [
           0.922,
           107599.5764292152,
           "High"
          ],
          [
           0.487,
           443.9294806301365,
           "Low"
          ],
          [
           0.517,
           562.6893706794957,
           "Low"
          ],
          [
           0.819,
           10649.424216435917,
           "Upper-Middle"
          ],
          [
           0.766,
           9996.727996301994,
           "Upper-Middle"
          ],
          [
           0.419,
           884.7240438310662,
           "Low"
          ],
          [
           0.924,
           30073.40493684913,
           "High"
          ],
          [
           0.733,
           5159.977593983476,
           "Lower-Middle"
          ],
          [
           0.563,
           1571.68221369001,
           "Low"
          ],
          [
           0.806,
           10240.742973724084,
           "Upper-Middle"
          ],
          [
           0.789,
           9886.476242349456,
           "Upper-Middle"
          ],
          [
           0.615,
           2972.5376331440066,
           "Lower-Middle"
          ],
          [
           0.785,
           3439.142497948459,
           "Lower-Middle"
          ],
          [
           0.747,
           4171.425745095138,
           "Lower-Middle"
          ],
          [
           0.862,
           7309.762943425875,
           "Upper-Middle"
          ],
          [
           0.71,
           3279.0074218750024,
           "Lower-Middle"
          ],
          [
           0.493,
           602.8743716679104,
           "Low"
          ],
          [
           0.609,
           1283.12693970283,
           "Low"
          ],
          [
           0.665,
           4029.2852894434254,
           "Lower-Middle"
          ],
          [
           0.703,
           7858.276506398576,
           "Upper-Middle"
          ],
          [
           0.622,
           1061.3825082672925,
           "Low"
          ],
          [
           0.955,
           49272.40269805232,
           "High"
          ],
          [
           0.938,
           40922.8800386683,
           "High"
          ],
          [
           0.706,
           2076.2988859892075,
           "Low"
          ],
          [
           0.419,
           534.9976978934095,
           "Low"
          ],
          [
           0.56,
           2394.489821892069,
           "Lower-Middle"
          ],
          [
           0.815,
           5943.850990760692,
           "Lower-Middle"
          ],
          [
           0.97,
           77161.20312727,
           "High"
          ],
          [
           0.858,
           18237.386869402275,
           "Upper-Middle"
          ],
          [
           0.544,
           1579.7658694509648,
           "Low"
          ],
          [
           0.786,
           13772.901846432684,
           "Upper-Middle"
          ],
          [
           0.839,
           14819.127191017444,
           "Upper-Middle"
          ],
          [
           0.576,
           2475.047744327755,
           "Lower-Middle"
          ],
          [
           0.756,
           6240.655892818421,
           "Lower-Middle"
          ],
          [
           0.794,
           6453.319919053656,
           "Lower-Middle"
          ],
          [
           0.72,
           3422.8324661369284,
           "Lower-Middle"
          ],
          [
           0.906,
           15706.977169259617,
           "Upper-Middle"
          ],
          [
           0.89,
           21027.24863570387,
           "High"
          ],
          [
           0.886,
           63083.00402977847,
           "High"
          ],
          [
           0.845,
           11339.530425486106,
           "Upper-Middle"
          ],
          [
           0.832,
           9907.903515625,
           "Upper-Middle"
          ],
          [
           0.578,
           872.6588254981394,
           "Low"
          ],
          [
           0.708,
           4145.300571508999,
           "Lower-Middle"
          ],
          [
           0.915,
           44992.49131223336,
           "High"
          ],
          [
           0.637,
           1419.373018072764,
           "Low"
          ],
          [
           0.9,
           24751.288768254984,
           "High"
          ],
          [
           0.53,
           1388.8469994169568,
           "Low"
          ],
          [
           0.833,
           7113.776501452978,
           "Upper-Middle"
          ],
          [
           0.848,
           17606.582029489997,
           "Upper-Middle"
          ],
          [
           0.467,
           1039.148712722976,
           "Low"
          ],
          [
           0.946,
           63547.12942227999,
           "High"
          ],
          [
           0.88,
           18330.50724296338,
           "Upper-Middle"
          ],
          [
           0.931,
           23997.02753264537,
           "High"
          ],
          [
           0.584,
           1980.315289374655,
           "Low"
          ],
          [
           0.404,
           475.7429418155751,
           "Low"
          ],
          [
           0.741,
           5851.948219578318,
           "Lower-Middle"
          ],
          [
           0.388,
           14582.133834276608,
           "Upper-Middle"
          ],
          [
           0.918,
           27238.60217711745,
           "High"
          ],
          [
           0.776,
           4313.433735230386,
           "Lower-Middle"
          ],
          [
           0.84,
           20581.67129207187,
           "High"
          ],
          [
           0.748,
           10257.830624519698,
           "Upper-Middle"
          ],
          [
           0.798,
           8233.344872318325,
           "Upper-Middle"
          ],
          [
           0.511,
           1070.4272705078138,
           "Low"
          ],
          [
           0.722,
           7722.458917166738,
           "Upper-Middle"
          ],
          [
           0.959,
           53314.53415516367,
           "High"
          ],
          [
           0.97,
           87556.69967092044,
           "High"
          ],
          [
           0.564,
           750.2700837013927,
           "Low"
          ],
          [
           0.691,
           1198.9747385164342,
           "Low"
          ],
          [
           0.555,
           1048.388818359376,
           "Low"
          ],
          [
           0.798,
           6236.8471891592535,
           "Lower-Middle"
          ],
          [
           0.634,
           1657.7381140876569,
           "Low"
          ],
          [
           0.571,
           821.4053839100449,
           "Low"
          ],
          [
           0.769,
           4620.511767340204,
           "Lower-Middle"
          ],
          [
           0.807,
           16285.667334740996,
           "Upper-Middle"
          ],
          [
           0.746,
           3983.672733169341,
           "Lower-Middle"
          ],
          [
           0.853,
           12781.37142560359,
           "Upper-Middle"
          ],
          [
           0.764,
           6988.793210327729,
           "Upper-Middle"
          ],
          [
           0.689,
           4249.644063600732,
           "Lower-Middle"
          ],
          [
           0.582,
           917.1089985444278,
           "Low"
          ],
          [
           0.779,
           2266.425610351564,
           "Lower-Middle"
          ],
          [
           0.94,
           42124.56343493583,
           "High"
          ],
          [
           0.946,
           46051.50987436437,
           "High"
          ],
          [
           0.938,
           61506.94857141797,
           "High"
          ],
          [
           0.862,
           17491.021424429928,
           "Upper-Middle"
          ],
          [
           0.74,
           3327.2047615080505,
           "Lower-Middle"
          ],
          [
           0.621,
           2825.0613199601803,
           "Lower-Middle"
          ],
          [
           0.709,
           3069.371632585983,
           "Lower-Middle"
          ],
          [
           0.766,
           3313.681945211786,
           "Lower-Middle"
          ],
          [
           0.674,
           3174.028802252782,
           "Lower-Middle"
          ],
          [
           0.47,
           983.9819580269592,
           "Low"
          ],
          [
           0.595,
           1283.8246111315427,
           "Low"
          ],
          [
           0.598,
           1347.6908149819424,
           "Low"
          ]
         ],
         "geo": "geo",
         "hovertemplate": "<b>%{hovertext}</b><br><br>ISO3=%{location}<br>HDI_2023=%{customdata[0]}<br>GDP_per_capita=%{customdata[1]}<br>income_group_auto=%{customdata[2]}<br>Suicide_rate=%{z}<extra></extra>",
         "hovertext": [
          "Afghanistan",
          "Albania",
          "Algeria",
          "Andorra",
          "Angola",
          "Antigua and Barbuda",
          "Argentina",
          "Armenia",
          "Australia",
          "Austria",
          "Azerbaijan",
          "Bahamas, The",
          "Bahrain",
          "Bangladesh",
          "Barbados",
          "Belarus",
          "Belgium",
          "Belize",
          "Benin",
          "Bhutan",
          "Bolivia",
          "Bosnia and Herzegovina",
          "Botswana",
          "Brazil",
          "Brunei Darussalam",
          "Bulgaria",
          "Burkina Faso",
          "Burundi",
          "Cabo Verde",
          "Cambodia",
          "Cameroon",
          "Canada",
          "Central African Republic",
          "Chad",
          "Chile",
          "China",
          "Colombia",
          "Comoros",
          "Congo, Dem. Rep.",
          "Congo, Rep.",
          "Costa Rica",
          "Cote d'Ivoire",
          "Croatia",
          "Cuba",
          "Cyprus",
          "Czechia",
          "Denmark",
          "Djibouti",
          "Dominica",
          "Dominican Republic",
          "Ecuador",
          "Egypt, Arab Rep.",
          "El Salvador",
          "Equatorial Guinea",
          "Eritrea",
          "Estonia",
          "Eswatini",
          "Ethiopia",
          "Fiji",
          "Finland",
          "France",
          "Gabon",
          "Gambia, The",
          "Georgia",
          "Germany",
          "Ghana",
          "Greece",
          "Grenada",
          "Guatemala",
          "Guinea",
          "Guinea-Bissau",
          "Guyana",
          "Haiti",
          "Honduras",
          "Hong Kong SAR, China",
          "Hungary",
          "Iceland",
          "India",
          "Indonesia",
          "Iran, Islamic Rep.",
          "Iraq",
          "Ireland",
          "Israel",
          "Italy",
          "Jamaica",
          "Japan",
          "Jordan",
          "Kazakhstan",
          "Kenya",
          "Kiribati",
          "Korea, Rep.",
          "Kuwait",
          "Kyrgyz Republic",
          "Lao PDR",
          "Latvia",
          "Lebanon",
          "Lesotho",
          "Liberia",
          "Libya",
          "Liechtenstein",
          "Lithuania",
          "Luxembourg",
          "Madagascar",
          "Malawi",
          "Malaysia",
          "Maldives",
          "Mali",
          "Malta",
          "Marshall Islands",
          "Mauritania",
          "Mauritius",
          "Mexico",
          "Micronesia, Fed. Sts.",
          "Moldova",
          "Mongolia",
          "Montenegro",
          "Morocco",
          "Mozambique",
          "Myanmar",
          "Namibia",
          "Nauru",
          "Nepal",
          "Netherlands",
          "New Zealand",
          "Nicaragua",
          "Niger",
          "Nigeria",
          "North Macedonia",
          "Norway",
          "Oman",
          "Pakistan",
          "Palau",
          "Panama",
          "Papua New Guinea",
          "Paraguay",
          "Peru",
          "Philippines",
          "Poland",
          "Portugal",
          "Qatar",
          "Romania",
          "Russian Federation",
          "Rwanda",
          "Samoa",
          "San Marino",
          "Sao Tome and Principe",
          "Saudi Arabia",
          "Senegal",
          "Serbia",
          "Seychelles",
          "Sierra Leone",
          "Singapore",
          "Slovak Republic",
          "Slovenia",
          "Solomon Islands",
          "Somalia",
          "South Africa",
          "South Sudan",
          "Spain",
          "Sri Lanka",
          "St. Kitts and Nevis",
          "St. Lucia",
          "St. Vincent and the Grenadines",
          "Sudan",
          "Suriname",
          "Sweden",
          "Switzerland",
          "Syrian Arab Republic",
          "Tajikistan",
          "Tanzania",
          "Thailand",
          "Timor-Leste",
          "Togo",
          "Tonga",
          "Trinidad and Tobago",
          "Tunisia",
          "Turkiye",
          "Turkmenistan",
          "Tuvalu",
          "Uganda",
          "Ukraine",
          "United Arab Emirates",
          "United Kingdom",
          "United States",
          "Uruguay",
          "Uzbekistan",
          "Vanuatu",
          "Venezuela, RB",
          "Viet Nam",
          "West Bank and Gaza",
          "Yemen, Rep.",
          "Zambia",
          "Zimbabwe"
         ],
         "locationmode": "ISO-3",
         "locations": [
          "AFG",
          "ALB",
          "DZA",
          "AND",
          "AGO",
          "ATG",
          "ARG",
          "ARM",
          "AUS",
          "AUT",
          "AZE",
          "BHS",
          "BHR",
          "BGD",
          "BRB",
          "BLR",
          "BEL",
          "BLZ",
          "BEN",
          "BTN",
          "BOL",
          "BIH",
          "BWA",
          "BRA",
          "BRN",
          "BGR",
          "BFA",
          "BDI",
          "CPV",
          "KHM",
          "CMR",
          "CAN",
          "CAF",
          "TCD",
          "CHL",
          "CHN",
          "COL",
          "COM",
          "COD",
          "COG",
          "CRI",
          "CIV",
          "HRV",
          "CUB",
          "CYP",
          "CZE",
          "DNK",
          "DJI",
          "DMA",
          "DOM",
          "ECU",
          "EGY",
          "SLV",
          "GNQ",
          "ERI",
          "EST",
          "SWZ",
          "ETH",
          "FJI",
          "FIN",
          "FRA",
          "GAB",
          "GMB",
          "GEO",
          "DEU",
          "GHA",
          "GRC",
          "GRD",
          "GTM",
          "GIN",
          "GNB",
          "GUY",
          "HTI",
          "HND",
          "HKG",
          "HUN",
          "ISL",
          "IND",
          "IDN",
          "IRN",
          "IRQ",
          "IRL",
          "ISR",
          "ITA",
          "JAM",
          "JPN",
          "JOR",
          "KAZ",
          "KEN",
          "KIR",
          "KOR",
          "KWT",
          "KGZ",
          "LAO",
          "LVA",
          "LBN",
          "LSO",
          "LBR",
          "LBY",
          "LIE",
          "LTU",
          "LUX",
          "MDG",
          "MWI",
          "MYS",
          "MDV",
          "MLI",
          "MLT",
          "MHL",
          "MRT",
          "MUS",
          "MEX",
          "FSM",
          "MDA",
          "MNG",
          "MNE",
          "MAR",
          "MOZ",
          "MMR",
          "NAM",
          "NRU",
          "NPL",
          "NLD",
          "NZL",
          "NIC",
          "NER",
          "NGA",
          "MKD",
          "NOR",
          "OMN",
          "PAK",
          "PLW",
          "PAN",
          "PNG",
          "PRY",
          "PER",
          "PHL",
          "POL",
          "PRT",
          "QAT",
          "ROU",
          "RUS",
          "RWA",
          "WSM",
          "SMR",
          "STP",
          "SAU",
          "SEN",
          "SRB",
          "SYC",
          "SLE",
          "SGP",
          "SVK",
          "SVN",
          "SLB",
          "SOM",
          "ZAF",
          "SSD",
          "ESP",
          "LKA",
          "KNA",
          "LCA",
          "VCT",
          "SDN",
          "SUR",
          "SWE",
          "CHE",
          "SYR",
          "TJK",
          "TZA",
          "THA",
          "TLS",
          "TGO",
          "TON",
          "TTO",
          "TUN",
          "TUR",
          "TKM",
          "TUV",
          "UGA",
          "UKR",
          "ARE",
          "GBR",
          "USA",
          "URY",
          "UZB",
          "VUT",
          "VEN",
          "VNM",
          "PSE",
          "YEM",
          "ZMB",
          "ZWE"
         ],
         "name": "",
         "type": "choropleth",
         "z": {
          "bdata": "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",
          "dtype": "f8"
         }
        }
       ],
       "layout": {
        "coloraxis": {
         "colorbar": {
          "title": {
           "text": "Suicide rate<br>(per 100k)"
          }
         },
         "colorscale": [
          [
           0,
           "rgb(255,245,240)"
          ],
          [
           0.125,
           "rgb(254,224,210)"
          ],
          [
           0.25,
           "rgb(252,187,161)"
          ],
          [
           0.375,
           "rgb(252,146,114)"
          ],
          [
           0.5,
           "rgb(251,106,74)"
          ],
          [
           0.625,
           "rgb(239,59,44)"
          ],
          [
           0.75,
           "rgb(203,24,29)"
          ],
          [
           0.875,
           "rgb(165,15,21)"
          ],
          [
           1,
           "rgb(103,0,13)"
          ]
         ]
        },
        "geo": {
         "center": {},
         "domain": {
          "x": [
           0,
           1
          ],
          "y": [
           0,
           1
          ]
         }
        },
        "height": 650,
        "legend": {
         "tracegroupgap": 0
        },
        "template": {
         "data": {
          "bar": [
           {
            "error_x": {
             "color": "#2a3f5f"
            },
            "error_y": {
             "color": "#2a3f5f"
            },
            "marker": {
             "line": {
              "color": "#E5ECF6",
              "width": 0.5
             },
             "pattern": {
              "fillmode": "overlay",
              "size": 10,
              "solidity": 0.2
             }
            },
            "type": "bar"
           }
          ],
          "barpolar": [
           {
            "marker": {
             "line": {
              "color": "#E5ECF6",
              "width": 0.5
             },
             "pattern": {
              "fillmode": "overlay",
              "size": 10,
              "solidity": 0.2
             }
            },
            "type": "barpolar"
           }
          ],
          "carpet": [
           {
            "aaxis": {
             "endlinecolor": "#2a3f5f",
             "gridcolor": "white",
             "linecolor": "white",
             "minorgridcolor": "white",
             "startlinecolor": "#2a3f5f"
            },
            "baxis": {
             "endlinecolor": "#2a3f5f",
             "gridcolor": "white",
             "linecolor": "white",
             "minorgridcolor": "white",
             "startlinecolor": "#2a3f5f"
            },
            "type": "carpet"
           }
          ],
          "choropleth": [
           {
            "colorbar": {
             "outlinewidth": 0,
             "ticks": ""
            },
            "type": "choropleth"
           }
          ],
          "contour": [
           {
            "colorbar": {
             "outlinewidth": 0,
             "ticks": ""
            },
            "colorscale": [
             [
              0,
              "#0d0887"
             ],
             [
              0.1111111111111111,
              "#46039f"
             ],
             [
              0.2222222222222222,
              "#7201a8"
             ],
             [
              0.3333333333333333,
              "#9c179e"
             ],
             [
              0.4444444444444444,
              "#bd3786"
             ],
             [
              0.5555555555555556,
              "#d8576b"
             ],
             [
              0.6666666666666666,
              "#ed7953"
             ],
             [
              0.7777777777777778,
              "#fb9f3a"
             ],
             [
              0.8888888888888888,
              "#fdca26"
             ],
             [
              1,
              "#f0f921"
             ]
            ],
            "type": "contour"
           }
          ],
          "contourcarpet": [
           {
            "colorbar": {
             "outlinewidth": 0,
             "ticks": ""
            },
            "type": "contourcarpet"
           }
          ],
          "heatmap": [
           {
            "colorbar": {
             "outlinewidth": 0,
             "ticks": ""
            },
            "colorscale": [
             [
              0,
              "#0d0887"
             ],
             [
              0.1111111111111111,
              "#46039f"
             ],
             [
              0.2222222222222222,
              "#7201a8"
             ],
             [
              0.3333333333333333,
              "#9c179e"
             ],
             [
              0.4444444444444444,
              "#bd3786"
             ],
             [
              0.5555555555555556,
              "#d8576b"
             ],
             [
              0.6666666666666666,
              "#ed7953"
             ],
             [
              0.7777777777777778,
              "#fb9f3a"
             ],
             [
              0.8888888888888888,
              "#fdca26"
             ],
             [
              1,
              "#f0f921"
             ]
            ],
            "type": "heatmap"
           }
          ],
          "histogram": [
           {
            "marker": {
             "pattern": {
              "fillmode": "overlay",
              "size": 10,
              "solidity": 0.2
             }
            },
            "type": "histogram"
           }
          ],
          "histogram2d": [
           {
            "colorbar": {
             "outlinewidth": 0,
             "ticks": ""
            },
            "colorscale": [
             [
              0,
              "#0d0887"
             ],
             [
              0.1111111111111111,
              "#46039f"
             ],
             [
              0.2222222222222222,
              "#7201a8"
             ],
             [
              0.3333333333333333,
              "#9c179e"
             ],
             [
              0.4444444444444444,
              "#bd3786"
             ],
             [
              0.5555555555555556,
              "#d8576b"
             ],
             [
              0.6666666666666666,
              "#ed7953"
             ],
             [
              0.7777777777777778,
              "#fb9f3a"
             ],
             [
              0.8888888888888888,
              "#fdca26"
             ],
             [
              1,
              "#f0f921"
             ]
            ],
            "type": "histogram2d"
           }
          ],
          "histogram2dcontour": [
           {
            "colorbar": {
             "outlinewidth": 0,
             "ticks": ""
            },
            "colorscale": [
             [
              0,
              "#0d0887"
             ],
             [
              0.1111111111111111,
              "#46039f"
             ],
             [
              0.2222222222222222,
              "#7201a8"
             ],
             [
              0.3333333333333333,
              "#9c179e"
             ],
             [
              0.4444444444444444,
              "#bd3786"
             ],
             [
              0.5555555555555556,
              "#d8576b"
             ],
             [
              0.6666666666666666,
              "#ed7953"
             ],
             [
              0.7777777777777778,
              "#fb9f3a"
             ],
             [
              0.8888888888888888,
              "#fdca26"
             ],
             [
              1,
              "#f0f921"
             ]
            ],
            "type": "histogram2dcontour"
           }
          ],
          "mesh3d": [
           {
            "colorbar": {
             "outlinewidth": 0,
             "ticks": ""
            },
            "type": "mesh3d"
           }
          ],
          "parcoords": [
           {
            "line": {
             "colorbar": {
              "outlinewidth": 0,
              "ticks": ""
             }
            },
            "type": "parcoords"
           }
          ],
          "pie": [
           {
            "automargin": true,
            "type": "pie"
           }
          ],
          "scatter": [
           {
            "fillpattern": {
             "fillmode": "overlay",
             "size": 10,
             "solidity": 0.2
            },
            "type": "scatter"
           }
          ],
          "scatter3d": [
           {
            "line": {
             "colorbar": {
              "outlinewidth": 0,
              "ticks": ""
             }
            },
            "marker": {
             "colorbar": {
              "outlinewidth": 0,
              "ticks": ""
             }
            },
            "type": "scatter3d"
           }
          ],
          "scattercarpet": [
           {
            "marker": {
             "colorbar": {
              "outlinewidth": 0,
              "ticks": ""
             }
            },
            "type": "scattercarpet"
           }
          ],
          "scattergeo": [
           {
            "marker": {
             "colorbar": {
              "outlinewidth": 0,
              "ticks": ""
             }
            },
            "type": "scattergeo"
           }
          ],
          "scattergl": [
           {
            "marker": {
             "colorbar": {
              "outlinewidth": 0,
              "ticks": ""
             }
            },
            "type": "scattergl"
           }
          ],
          "scattermap": [
           {
            "marker": {
             "colorbar": {
              "outlinewidth": 0,
              "ticks": ""
             }
            },
            "type": "scattermap"
           }
          ],
          "scattermapbox": [
           {
            "marker": {
             "colorbar": {
              "outlinewidth": 0,
              "ticks": ""
             }
            },
            "type": "scattermapbox"
           }
          ],
          "scatterpolar": [
           {
            "marker": {
             "colorbar": {
              "outlinewidth": 0,
              "ticks": ""
             }
            },
            "type": "scatterpolar"
           }
          ],
          "scatterpolargl": [
           {
            "marker": {
             "colorbar": {
              "outlinewidth": 0,
              "ticks": ""
             }
            },
            "type": "scatterpolargl"
           }
          ],
          "scatterternary": [
           {
            "marker": {
             "colorbar": {
              "outlinewidth": 0,
              "ticks": ""
             }
            },
            "type": "scatterternary"
           }
          ],
          "surface": [
           {
            "colorbar": {
             "outlinewidth": 0,
             "ticks": ""
            },
            "colorscale": [
             [
              0,
              "#0d0887"
             ],
             [
              0.1111111111111111,
              "#46039f"
             ],
             [
              0.2222222222222222,
              "#7201a8"
             ],
             [
              0.3333333333333333,
              "#9c179e"
             ],
             [
              0.4444444444444444,
              "#bd3786"
             ],
             [
              0.5555555555555556,
              "#d8576b"
             ],
             [
              0.6666666666666666,
              "#ed7953"
             ],
             [
              0.7777777777777778,
              "#fb9f3a"
             ],
             [
              0.8888888888888888,
              "#fdca26"
             ],
             [
              1,
              "#f0f921"
             ]
            ],
            "type": "surface"
           }
          ],
          "table": [
           {
            "cells": {
             "fill": {
              "color": "#EBF0F8"
             },
             "line": {
              "color": "white"
             }
            },
            "header": {
             "fill": {
              "color": "#C8D4E3"
             },
             "line": {
              "color": "white"
             }
            },
            "type": "table"
           }
          ]
         },
         "layout": {
          "annotationdefaults": {
           "arrowcolor": "#2a3f5f",
           "arrowhead": 0,
           "arrowwidth": 1
          },
          "autotypenumbers": "strict",
          "coloraxis": {
           "colorbar": {
            "outlinewidth": 0,
            "ticks": ""
           }
          },
          "colorscale": {
           "diverging": [
            [
             0,
             "#8e0152"
            ],
            [
             0.1,
             "#c51b7d"
            ],
            [
             0.2,
             "#de77ae"
            ],
            [
             0.3,
             "#f1b6da"
            ],
            [
             0.4,
             "#fde0ef"
            ],
            [
             0.5,
             "#f7f7f7"
            ],
            [
             0.6,
             "#e6f5d0"
            ],
            [
             0.7,
             "#b8e186"
            ],
            [
             0.8,
             "#7fbc41"
            ],
            [
             0.9,
             "#4d9221"
            ],
            [
             1,
             "#276419"
            ]
           ],
           "sequential": [
            [
             0,
             "#0d0887"
            ],
            [
             0.1111111111111111,
             "#46039f"
            ],
            [
             0.2222222222222222,
             "#7201a8"
            ],
            [
             0.3333333333333333,
             "#9c179e"
            ],
            [
             0.4444444444444444,
             "#bd3786"
            ],
            [
             0.5555555555555556,
             "#d8576b"
            ],
            [
             0.6666666666666666,
             "#ed7953"
            ],
            [
             0.7777777777777778,
             "#fb9f3a"
            ],
            [
             0.8888888888888888,
             "#fdca26"
            ],
            [
             1,
             "#f0f921"
            ]
           ],
           "sequentialminus": [
            [
             0,
             "#0d0887"
            ],
            [
             0.1111111111111111,
             "#46039f"
            ],
            [
             0.2222222222222222,
             "#7201a8"
            ],
            [
             0.3333333333333333,
             "#9c179e"
            ],
            [
             0.4444444444444444,
             "#bd3786"
            ],
            [
             0.5555555555555556,
             "#d8576b"
            ],
            [
             0.6666666666666666,
             "#ed7953"
            ],
            [
             0.7777777777777778,
             "#fb9f3a"
            ],
            [
             0.8888888888888888,
             "#fdca26"
            ],
            [
             1,
             "#f0f921"
            ]
           ]
          },
          "colorway": [
           "#636efa",
           "#EF553B",
           "#00cc96",
           "#ab63fa",
           "#FFA15A",
           "#19d3f3",
           "#FF6692",
           "#B6E880",
           "#FF97FF",
           "#FECB52"
          ],
          "font": {
           "color": "#2a3f5f"
          },
          "geo": {
           "bgcolor": "white",
           "lakecolor": "white",
           "landcolor": "#E5ECF6",
           "showlakes": true,
           "showland": true,
           "subunitcolor": "white"
          },
          "hoverlabel": {
           "align": "left"
          },
          "hovermode": "closest",
          "mapbox": {
           "style": "light"
          },
          "paper_bgcolor": "white",
          "plot_bgcolor": "#E5ECF6",
          "polar": {
           "angularaxis": {
            "gridcolor": "white",
            "linecolor": "white",
            "ticks": ""
           },
           "bgcolor": "#E5ECF6",
           "radialaxis": {
            "gridcolor": "white",
            "linecolor": "white",
            "ticks": ""
           }
          },
          "scene": {
           "xaxis": {
            "backgroundcolor": "#E5ECF6",
            "gridcolor": "white",
            "gridwidth": 2,
            "linecolor": "white",
            "showbackground": true,
            "ticks": "",
            "zerolinecolor": "white"
           },
           "yaxis": {
            "backgroundcolor": "#E5ECF6",
            "gridcolor": "white",
            "gridwidth": 2,
            "linecolor": "white",
            "showbackground": true,
            "ticks": "",
            "zerolinecolor": "white"
           },
           "zaxis": {
            "backgroundcolor": "#E5ECF6",
            "gridcolor": "white",
            "gridwidth": 2,
            "linecolor": "white",
            "showbackground": true,
            "ticks": "",
            "zerolinecolor": "white"
           }
          },
          "shapedefaults": {
           "line": {
            "color": "#2a3f5f"
           }
          },
          "ternary": {
           "aaxis": {
            "gridcolor": "white",
            "linecolor": "white",
            "ticks": ""
           },
           "baxis": {
            "gridcolor": "white",
            "linecolor": "white",
            "ticks": ""
           },
           "bgcolor": "#E5ECF6",
           "caxis": {
            "gridcolor": "white",
            "linecolor": "white",
            "ticks": ""
           }
          },
          "title": {
           "x": 0.05
          },
          "xaxis": {
           "automargin": true,
           "gridcolor": "white",
           "linecolor": "white",
           "ticks": "",
           "title": {
            "standoff": 15
           },
           "zerolinecolor": "white",
           "zerolinewidth": 2
          },
          "yaxis": {
           "automargin": true,
           "gridcolor": "white",
           "linecolor": "white",
           "ticks": "",
           "title": {
            "standoff": 15
           },
           "zerolinecolor": "white",
           "zerolinewidth": 2
          }
         }
        },
        "title": {
         "text": "Global Suicide Rate (2018–2022 Average)",
         "x": 0.5
        },
        "width": 1000
       }
      }
     },
     "metadata": {},
     "output_type": "display_data"
    }
   ],
   "source": [
    "# ================================\n",
    "# 6️⃣ CHOROPLETH MAP: Global Suicide Rate\n",
    "# ================================\n",
    "fig = px.choropleth(\n",
    "    df,\n",
    "    locations=\"ISO3\",\n",
    "    locationmode=\"ISO-3\",\n",
    "    color=\"Suicide_rate\",\n",
    "    hover_name=\"Country Name\",\n",
    "    hover_data=[\"HDI_2023\",\"GDP_per_capita\",\"income_group_auto\"],\n",
    "    color_continuous_scale=\"Reds\",\n",
    "    title=\"Global Suicide Rate (2018–2022 Average)\"\n",
    ")\n",
    "fig.update_layout(\n",
    "    width=1000,\n",
    "    height=650,\n",
    "    title_x=0.5,\n",
    "    coloraxis_colorbar_title=\"Suicide rate<br>(per 100k)\"\n",
    ")\n",
    "fig.show()\n"
   ]
  },
  {
   "cell_type": "code",
   "execution_count": 34,
   "id": "50e23a31",
   "metadata": {},
   "outputs": [
    {
     "name": "stdout",
     "output_type": "stream",
     "text": [
      "======================================================================================\n",
      "                         coef    std err          t      P>|t|      [0.025      0.975]\n",
      "--------------------------------------------------------------------------------------\n",
      "Intercept             21.1069     11.087      1.904      0.058      -0.763      42.977\n",
      "HDI_2023             -41.4026     26.740     -1.548      0.123     -94.150      11.344\n",
      "HDI_sq                37.8075     20.321      1.860      0.064      -2.278      77.893\n",
      "log_GDP_per_capita    -0.3835      0.821     -0.467      0.641      -2.003       1.236\n",
      "======================================================================================\n",
      "\n",
      "💡 Estimated 'Tipping Point' HDI* = 0.548\n",
      "→ Suggests suicide rate may initially increase with HDI, then decline past this threshold.\n"
     ]
    },
    {
     "data": {
      "image/png": "[encoded data removed]",
      "text/plain": [
       "<Figure size 800x600 with 1 Axes>"
      ]
     },
     "metadata": {},
     "output_type": "display_data"
    }
   ],
   "source": [
    "# ================================\n",
    "# 7️⃣ ADVANCED INSIGHT: Quadratic Fit (Tipping Point)\n",
    "# ================================\n",
    "import statsmodels.formula.api as smf\n",
    "\n",
    "# Drop missing\n",
    "model_df = df.dropna(subset=['HDI_2023', 'HDI_sq', 'Suicide_rate', 'log_GDP_per_capita'])\n",
    "model = smf.ols(\"Suicide_rate ~ HDI_2023 + HDI_sq + log_GDP_per_capita\", data=model_df).fit()\n",
    "\n",
    "print(model.summary().tables[1])\n",
    "\n",
    "# Compute tipping point (HDI* = -b1 / 2b2)\n",
    "b1, b2 = model.params['HDI_2023'], model.params['HDI_sq']\n",
    "if b2 != 0:\n",
    "    tipping = -b1 / (2 * b2)\n",
    "    print(f\"\\n💡 Estimated 'Tipping Point' HDI* = {tipping:.3f}\")\n",
    "    if 0 < tipping < 1:\n",
    "        print(\"→ Suggests suicide rate may initially increase with HDI, then decline past this threshold.\")\n",
    "\n",
    "# Plot quadratic curve\n",
    "x_seq = np.linspace(df['HDI_2023'].min(), df['HDI_2023'].max(), 100)\n",
    "y_pred = model.params['Intercept'] + model.params['HDI_2023']*x_seq + model.params['HDI_sq']*(x_seq**2) + model.params['log_GDP_per_capita']*np.mean(df['log_GDP_per_capita'])\n",
    "plt.figure(figsize=(8,6))\n",
    "sns.scatterplot(data=df, x='HDI_2023', y='Suicide_rate', color='gray', alpha=0.6)\n",
    "plt.plot(x_seq, y_pred, color='red', linewidth=2)\n",
    "plt.axvline(tipping, color='blue', linestyle='--', label=f\"Tipping Point ~ {tipping:.2f}\")\n",
    "plt.title(\"Quadratic Fit: HDI vs Suicide Rate\")\n",
    "plt.xlabel(\"HDI\")\n",
    "plt.ylabel(\"Suicide Rate\")\n",
    "plt.legend()\n",
    "plt.show()\n"
   ]
  },
  {
   "cell_type": "code",
   "execution_count": 35,
   "id": "8cb57438",
   "metadata": {},
   "outputs": [
    {
     "name": "stdout",
     "output_type": "stream",
     "text": [
      "\n",
      "📘 Key EDA Findings Summary:\n",
      "- Data covers 193 countries across 5 continents.\n",
      "- There is a weak-to-moderate positive correlation between HDI and Suicide Rate,\n",
      "  suggesting development may initially increase mental health strain before improving resilience.\n",
      "- Higher GDP per capita (log) tends to correlate weakly negative with suicide rate (wealthier nations slightly lower).\n",
      "- Income group analysis shows variability — high-income countries often have better reporting.\n",
      "- Choropleth reveals clusters of higher rates in Europe and parts of Asia-Pacific.\n",
      "- Quadratic model indicates a potential tipping point around HDI ≈ 0.8–0.85 where suicide rates start to fall.\n"
     ]
    }
   ],
   "source": [
    "# ================================\n",
    "# 8️⃣ KEY FINDINGS SUMMARY\n",
    "# ================================\n",
    "print(\"\\n📘 Key EDA Findings Summary:\")\n",
    "print(f\"- Data covers {df['Country Name'].nunique()} countries across {df['continent'].nunique()} continents.\")\n",
    "print(\"- There is a weak-to-moderate positive correlation between HDI and Suicide Rate,\")\n",
    "print(\"  suggesting development may initially increase mental health strain before improving resilience.\")\n",
    "print(\"- Higher GDP per capita (log) tends to correlate weakly negative with suicide rate (wealthier nations slightly lower).\")\n",
    "print(\"- Income group analysis shows variability — high-income countries often have better reporting.\")\n",
    "print(\"- Choropleth reveals clusters of higher rates in Europe and parts of Asia-Pacific.\")\n",
    "print(\"- Quadratic model indicates a potential tipping point around HDI ≈ 0.8–0.85 where suicide rates start to fall.\")\n"
   ]
  }
 ],
 "metadata": {
  "language_info": {
   "name": "python"
  }
 },
 "nbformat": 4,
 "nbformat_minor": 5
}
