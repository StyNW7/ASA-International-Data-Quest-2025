{
 "cells": [
  {
   "cell_type": "code",
   "execution_count": 1,
   "id": "659e4069",
   "metadata": {},
   "outputs": [
    {
     "name": "stdout",
     "output_type": "stream",
     "text": [
      "Dropped columns: ['HDI_2023_lag1', 'GDP_per_capita_lag1', 'Suicide_rate_lag1']\n",
      "✅ Cleaned dataset saved as 'merged_clean_panel_cleaned.csv'\n"
     ]
    }
   ],
   "source": [
    "import pandas as pd\n",
    "\n",
    "# Load your CSV\n",
    "df = pd.read_csv(\"../Output/merged_clean_panel.csv\")  # Change filename if needed\n",
    "\n",
    "# Drop fully null columns\n",
    "cols_to_drop = [col for col in ['HDI_2023_lag1', 'GDP_per_capita_lag1', 'Suicide_rate_lag1'] if col in df.columns]\n",
    "df = df.drop(columns=cols_to_drop, errors='ignore')\n",
    "\n",
    "# Optional: check which columns were dropped\n",
    "print(\"Dropped columns:\", cols_to_drop)\n",
    "\n",
    "# Save the cleaned CSV\n",
    "df.to_csv(\"merged_clean_panel_cleaned.csv\", index=False)\n",
    "\n",
    "print(\"✅ Cleaned dataset saved as 'merged_clean_panel_cleaned.csv'\")\n"
   ]
  }
 ],
 "metadata": {
  "kernelspec": {
   "display_name": "Python 3",
   "language": "python",
   "name": "python3"
  },
  "language_info": {
   "codemirror_mode": {
    "name": "ipython",
    "version": 3
   },
   "file_extension": ".py",
   "mimetype": "text/x-python",
   "name": "python",
   "nbconvert_exporter": "python",
   "pygments_lexer": "ipython3",
   "version": "3.12.1"
  }
 },
 "nbformat": 4,
 "nbformat_minor": 5
}
