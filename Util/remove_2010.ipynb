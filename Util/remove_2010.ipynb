{
 "cells": [
  {
   "cell_type": "code",
   "execution_count": 1,
   "id": "052dd4a3",
   "metadata": {},
   "outputs": [
    {
     "name": "stdout",
     "output_type": "stream",
     "text": [
      "✅ Final cleaned dataset exported to: final_dataset_clean.csv\n",
      "Shape: 985 rows × 23 columns\n",
      "Years range: 2019–2023\n"
     ]
    }
   ],
   "source": [
    "import pandas as pd\n",
    "\n",
    "# === Load your enriched dataset ===\n",
    "df = pd.read_csv(\"../Last/final_dataset.csv\")\n",
    "\n",
    "# === Filter: keep only years 2019–2023 ===\n",
    "df_final = df[df[\"Year\"].between(2019, 2023, inclusive=\"both\")].copy()\n",
    "\n",
    "# === Reset index for cleanliness ===\n",
    "df_final = df_final.reset_index(drop=True)\n",
    "\n",
    "# === Export cleaned dataset ===\n",
    "output_path = \"final_dataset_clean.csv\"\n",
    "df_final.to_csv(output_path, index=False)\n",
    "\n",
    "print(f\"✅ Final cleaned dataset exported to: {output_path}\")\n",
    "print(f\"Shape: {df_final.shape[0]} rows × {df_final.shape[1]} columns\")\n",
    "print(f\"Years range: {df_final['Year'].min()}–{df_final['Year'].max()}\")\n"
   ]
  }
 ],
 "metadata": {
  "kernelspec": {
   "display_name": "Python 3",
   "language": "python",
   "name": "python3"
  },
  "language_info": {
   "codemirror_mode": {
    "name": "ipython",
    "version": 3
   },
   "file_extension": ".py",
   "mimetype": "text/x-python",
   "name": "python",
   "nbconvert_exporter": "python",
   "pygments_lexer": "ipython3",
   "version": "3.12.1"
  }
 },
 "nbformat": 4,
 "nbformat_minor": 5
}
