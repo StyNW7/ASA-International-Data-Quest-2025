{
 "cells": [
  {
   "cell_type": "code",
   "execution_count": 1,
   "id": "ca4180f9",
   "metadata": {},
   "outputs": [
    {
     "name": "stdout",
     "output_type": "stream",
     "text": [
      "Removed 0 outliers from 'HDI'\n",
      "Removed 26 outliers from 'Suicide_rate'\n",
      "Removed 125 outliers from 'GDP_per_capita'\n",
      "Removed 56 outliers from 'HDI_growth'\n",
      "Removed 167 outliers from 'Suicide_change'\n",
      "Removed 12 outliers from 'Suicide_per_HDI'\n",
      "\n",
      "✅ Cleaned dataset saved as 'final_dataset_cleaned_no_outlier.csv'\n",
      "Original rows: 985 | After cleaning: 599\n"
     ]
    }
   ],
   "source": [
    "import pandas as pd\n",
    "\n",
    "# === Load your dataset ===\n",
    "df = pd.read_csv(\"../Final/final_clean_dataset.csv\")\n",
    "\n",
    "# === List of numeric columns to check for outliers ===\n",
    "numeric_cols = [\n",
    "    \"HDI\",\n",
    "    \"Suicide_rate\",\n",
    "    \"GDP_per_capita\",\n",
    "    \"HDI_growth\",\n",
    "    \"Suicide_change\",\n",
    "    \"Suicide_per_HDI\"\n",
    "]\n",
    "\n",
    "# === Function to remove outliers using IQR method ===\n",
    "def remove_outliers_iqr(data, cols):\n",
    "    df_clean = data.copy()\n",
    "    for col in cols:\n",
    "        if col in df_clean.columns:\n",
    "            Q1 = df_clean[col].quantile(0.25)\n",
    "            Q3 = df_clean[col].quantile(0.75)\n",
    "            IQR = Q3 - Q1\n",
    "            lower_bound = Q1 - 1.5 * IQR\n",
    "            upper_bound = Q3 + 1.5 * IQR\n",
    "            \n",
    "            # Filter out rows outside IQR range\n",
    "            before = len(df_clean)\n",
    "            df_clean = df_clean[(df_clean[col] >= lower_bound) & (df_clean[col] <= upper_bound)]\n",
    "            after = len(df_clean)\n",
    "            \n",
    "            print(f\"Removed {before - after} outliers from '{col}'\")\n",
    "    return df_clean\n",
    "\n",
    "# === Apply the function ===\n",
    "df_cleaned = remove_outliers_iqr(df, numeric_cols)\n",
    "\n",
    "# === Save cleaned dataset ===\n",
    "df_cleaned.to_csv(\"final_dataset_cleaned_no_outlier.csv\", index=False)\n",
    "\n",
    "print(\"\\n✅ Cleaned dataset saved as 'final_dataset_cleaned_no_outlier.csv'\")\n",
    "print(f\"Original rows: {len(df)} | After cleaning: {len(df_cleaned)}\")\n"
   ]
  },
  {
   "cell_type": "code",
   "execution_count": 2,
   "id": "29c96001",
   "metadata": {},
   "outputs": [
    {
     "name": "stdout",
     "output_type": "stream",
     "text": [
      "Extreme outliers in 'Suicide_rate': 5\n",
      "Extreme outliers in 'HDI': 0\n",
      "Extreme outliers in 'GDP_per_capita': 115\n",
      "\n",
      "✅ Removed 120 extreme outlier rows total.\n",
      "\n",
      "Original rows: 985 | After cleaning: 865\n",
      "Saved as 'final_dataset_cleaned_extreme_only.csv'\n"
     ]
    }
   ],
   "source": [
    "import pandas as pd\n",
    "import numpy as np\n",
    "\n",
    "# === Load your dataset ===\n",
    "df = pd.read_csv(\"../Final/final_clean_dataset.csv\")\n",
    "\n",
    "# === Columns to check for extreme outliers ===\n",
    "cols_to_check = [\"Suicide_rate\", \"HDI\", \"GDP_per_capita\"]\n",
    "\n",
    "def modified_z_score(series):\n",
    "    \"\"\"Compute modified Z-score for extreme outlier detection.\"\"\"\n",
    "    median = series.median()\n",
    "    mad = np.median(np.abs(series - median))\n",
    "    if mad == 0:\n",
    "        return np.zeros_like(series)\n",
    "    return 0.6745 * (series - median) / mad\n",
    "\n",
    "def drop_extreme_outliers(df, cols, threshold=5.0):\n",
    "    \"\"\"Remove only rows that are extreme outliers in any selected column.\"\"\"\n",
    "    df_clean = df.copy()\n",
    "    mask = pd.Series([False] * len(df_clean), index=df_clean.index)\n",
    "    \n",
    "    for col in cols:\n",
    "        if col in df_clean.columns:\n",
    "            z_scores = modified_z_score(df_clean[col])\n",
    "            extreme_mask = np.abs(z_scores) > threshold\n",
    "            print(f\"Extreme outliers in '{col}': {extreme_mask.sum()}\")\n",
    "            mask = mask | extreme_mask  # combine all extreme flags\n",
    "    \n",
    "    df_filtered = df_clean[~mask]\n",
    "    print(f\"\\n✅ Removed {mask.sum()} extreme outlier rows total.\")\n",
    "    return df_filtered\n",
    "\n",
    "# === Apply filter ===\n",
    "df_cleaned = drop_extreme_outliers(df, cols_to_check, threshold=5.0)\n",
    "\n",
    "# === Save cleaned dataset ===\n",
    "df_cleaned.to_csv(\"final_dataset_cleaned_extreme_only.csv\", index=False)\n",
    "\n",
    "print(f\"\\nOriginal rows: {len(df)} | After cleaning: {len(df_cleaned)}\")\n",
    "print(\"Saved as 'final_dataset_cleaned_extreme_only.csv'\")\n"
   ]
  }
 ],
 "metadata": {
  "kernelspec": {
   "display_name": "Python 3",
   "language": "python",
   "name": "python3"
  },
  "language_info": {
   "codemirror_mode": {
    "name": "ipython",
    "version": 3
   },
   "file_extension": ".py",
   "mimetype": "text/x-python",
   "name": "python",
   "nbconvert_exporter": "python",
   "pygments_lexer": "ipython3",
   "version": "3.12.1"
  }
 },
 "nbformat": 4,
 "nbformat_minor": 5
}
