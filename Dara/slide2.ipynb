{
 "cells": [
  {
   "cell_type": "code",
   "execution_count": 1,
   "id": "541d7d3f",
   "metadata": {},
   "outputs": [
    {
     "name": "stdout",
     "output_type": "stream",
     "text": [
      "Requirement already satisfied: vega_datasets in c:\\software\\environments\\deep_learning\\environments\\deep_learning_cv\\lib\\site-packages (0.9.0)\n",
      "Requirement already satisfied: pandas in c:\\software\\environments\\deep_learning\\environments\\deep_learning_cv\\lib\\site-packages (from vega_datasets) (2.3.3)\n",
      "Requirement already satisfied: numpy>=1.26.0 in c:\\software\\environments\\deep_learning\\environments\\deep_learning_cv\\lib\\site-packages (from pandas->vega_datasets) (2.2.6)\n",
      "Requirement already satisfied: python-dateutil>=2.8.2 in c:\\software\\environments\\deep_learning\\environments\\deep_learning_cv\\lib\\site-packages (from pandas->vega_datasets) (2.9.0.post0)\n",
      "Requirement already satisfied: pytz>=2020.1 in c:\\software\\environments\\deep_learning\\environments\\deep_learning_cv\\lib\\site-packages (from pandas->vega_datasets) (2025.2)\n",
      "Requirement already satisfied: tzdata>=2022.7 in c:\\software\\environments\\deep_learning\\environments\\deep_learning_cv\\lib\\site-packages (from pandas->vega_datasets) (2025.2)\n",
      "Requirement already satisfied: six>=1.5 in c:\\software\\environments\\deep_learning\\environments\\deep_learning_cv\\lib\\site-packages (from python-dateutil>=2.8.2->pandas->vega_datasets) (1.17.0)\n",
      "Note: you may need to restart the kernel to use updated packages.\n"
     ]
    }
   ],
   "source": [
    "pip install vega_datasets"
   ]
  },
  {
   "cell_type": "code",
   "execution_count": null,
   "id": "d6580441",
   "metadata": {},
   "outputs": [
    {
     "name": "stdout",
     "output_type": "stream",
     "text": [
      "--- Memulai script visualisasi Peta Dunia (Perbaikan) ---\n",
      "File suicide rate berhasil dimuat.\n",
      "Data suicide 2021 selesai diproses.\n",
      "Error membuat Peta: module 'altair' has no attribute 'Condition'\n"
     ]
    }
   ],
   "source": [
    "pip install vega_datasets\n",
    "import pandas as pd\n",
    "import altair as alt\n",
    "from vega_datasets import data\n",
    "\n",
    "# --- 1. Define File Names ---\n",
    "file_suicide = 'suicide-rate-by-country-2025.csv'\n",
    "print(\"--- Memulai script visualisasi Peta Dunia (Perbaikan) ---\")\n",
    "\n",
    "# --- 2. Load Data Peta ---\n",
    "# Memuat data geografi (outline negara)\n",
    "# Ini adalah data TopoJSON yang punya 'properties.name' (nama negara)\n",
    "countries_geom = alt.topo_feature(data.world_110m.url, 'countries')\n",
    "\n",
    "# --- 3. Load & Process Data Suicide ---\n",
    "try:\n",
    "    df_suicide_raw = pd.read_csv(file_suicide)\n",
    "    print(\"File suicide rate berhasil dimuat.\")\n",
    "except Exception as e:\n",
    "    print(f\"Gagal memuat file: {e}\")\n",
    "    exit()\n",
    "\n",
    "# Proses data suicide (ambil data 2021)\n",
    "suicide_cols_to_melt = ['SuicideRateCountries_2021']\n",
    "if suicide_cols_to_melt[0] not in df_suicide_raw.columns:\n",
    "    print(\"Error: Kolom 'SuicideRateCountries_2021' tidak ditemukan.\")\n",
    "    exit()\n",
    "\n",
    "df_suicide_melted = df_suicide_raw.melt(id_vars=['country'],\n",
    "                                        value_vars=suicide_cols_to_melt,\n",
    "                                        var_name='Suicide_Indicator',\n",
    "                                        value_name='Suicide Rate')\n",
    "df_suicide_melted['Suicide Rate'] = pd.to_numeric(df_suicide_melted['Suicide Rate'], errors='coerce')\n",
    "# Penting: Hapus baris yang datanya NaN SETELAH konversi\n",
    "df_suicide_2021 = df_suicide_melted.dropna(subset=['Suicide Rate'])\n",
    "print(\"Data suicide 2021 selesai diproses.\")\n",
    "\n",
    "\n",
    "# --- 4. (DIHAPUS) ---\n",
    "# Tidak perlu merge manual. Kita akan pakai transform_lookup.\n",
    "\n",
    "\n",
    "# --- 5. Create Map Chart (Static Version) - DIPERBAIKI ---\n",
    "try:\n",
    "    chart_map = alt.Chart(countries_geom).mark_geoshape(\n",
    "        stroke='black', # Garis batas antar negara\n",
    "        strokeWidth=0.2\n",
    "    ).project(\n",
    "        type='equirectangular' # Tipe proyeksi peta\n",
    "    ).encode(\n",
    "        # Warnai negara berdasarkan Suicide Rate\n",
    "        # 'na_color' adalah warna untuk negara yang tidak ada datanya\n",
    "        color=alt.Color('Suicide Rate:Q',\n",
    "                        scale=alt.Scale(range='heatmap', domain=[0, 30]), # Set skala warna kuning-merah\n",
    "                        legend=alt.Legend(title=\"Suicide Rate (per 100k)\"),\n",
    "                        condition=alt.Condition(\"!isValid(datum['Suicide Rate'])\", alt.value('#lightgray'))\n",
    "                       ),\n",
    "        tooltip=[\n",
    "            alt.Tooltip('country:N', title='Country'),\n",
    "            alt.Tooltip('Suicide Rate:Q', title='Suicide Rate', format='.2f')\n",
    "        ]\n",
    "    ).transform_lookup(\n",
    "        lookup='properties.name', # Kunci di PETA (nama negara)\n",
    "        from_=alt.LookupData(df_suicide_2021, 'country', ['Suicide Rate', 'country'])\n",
    "    ).properties(\n",
    "        title='Global Suicide Rate (2021)',\n",
    "        width=800,\n",
    "        height=450\n",
    "    ).interactive() # Dibuat interaktif dengan tooltip\n",
    "\n",
    "    # Simpan sebagai file JSON (sekarang interaktif)\n",
    "    chart_file = 'slide2_map_INTERACTIVE.json'\n",
    "    chart_map.save(chart_file)\n",
    "    \n",
    "    print(f\"\\n--- BERHASIL ---\")\n",
    "    print(f\"Peta dunia interaktif berhasil disimpan ke: {chart_file}\")\n",
    "\n",
    "except Exception as e:\n",
    "    print(f\"Error membuat Peta: {e}\")"
   ]
  },
  {
   "cell_type": "code",
   "execution_count": null,
   "id": "46d883d3",
   "metadata": {},
   "outputs": [],
   "source": []
  }
 ],
 "metadata": {
  "kernelspec": {
   "display_name": "deep_learning_cv (3.12.4)",
   "language": "python",
   "name": "python3"
  },
  "language_info": {
   "codemirror_mode": {
    "name": "ipython",
    "version": 3
   },
   "file_extension": ".py",
   "mimetype": "text/x-python",
   "name": "python",
   "nbconvert_exporter": "python",
   "pygments_lexer": "ipython3",
   "version": "3.12.4"
  }
 },
 "nbformat": 4,
 "nbformat_minor": 5
}
